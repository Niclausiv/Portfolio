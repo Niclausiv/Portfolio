{
 "cells": [
  {
   "cell_type": "markdown",
   "id": "ce614766",
   "metadata": {
    "execution": {
     "iopub.execute_input": "2022-02-03T06:52:01.386064Z",
     "iopub.status.busy": "2022-02-03T06:52:01.385621Z",
     "iopub.status.idle": "2022-02-03T06:52:01.792091Z",
     "shell.execute_reply": "2022-02-03T06:52:01.791154Z",
     "shell.execute_reply.started": "2022-02-03T06:52:01.386034Z"
    },
    "papermill": {
     "duration": 0.075693,
     "end_time": "2022-02-03T17:11:38.855848",
     "exception": false,
     "start_time": "2022-02-03T17:11:38.780155",
     "status": "completed"
    },
    "tags": []
   },
   "source": [
    "# Проект 5. Компьютер говорит «Нет» "
   ]
  },
  {
   "cell_type": "markdown",
   "id": "26519d77",
   "metadata": {
    "papermill": {
     "duration": 0.071353,
     "end_time": "2022-02-03T17:11:39.000600",
     "exception": false,
     "start_time": "2022-02-03T17:11:38.929247",
     "status": "completed"
    },
    "tags": []
   },
   "source": [
    "Цель проекта: Предсказать вероятность дефолта клиента банка "
   ]
  },
  {
   "cell_type": "code",
   "execution_count": 1,
   "id": "afe12f42",
   "metadata": {
    "execution": {
     "iopub.execute_input": "2022-02-03T17:11:39.235065Z",
     "iopub.status.busy": "2022-02-03T17:11:39.234334Z",
     "iopub.status.idle": "2022-02-03T17:11:41.184364Z",
     "shell.execute_reply": "2022-02-03T17:11:41.184953Z",
     "shell.execute_reply.started": "2022-02-03T17:08:36.282037Z"
    },
    "papermill": {
     "duration": 2.033929,
     "end_time": "2022-02-03T17:11:41.185291",
     "exception": false,
     "start_time": "2022-02-03T17:11:39.151362",
     "status": "completed"
    },
    "tags": []
   },
   "outputs": [],
   "source": [
    "# Импорт библиотек\n",
    "from pandas import Series\n",
    "import pandas as pd\n",
    "import numpy as np\n",
    "import seaborn as sns\n",
    "\n",
    "from matplotlib import pyplot as plt\n",
    "\n",
    "\n",
    "from sklearn.feature_selection import f_classif, mutual_info_classif\n",
    "from sklearn.preprocessing import LabelEncoder, OneHotEncoder, StandardScaler\n",
    "from sklearn.model_selection import train_test_split, GridSearchCV\n",
    "from sklearn.linear_model import LogisticRegression\n",
    "from sklearn.metrics import mean_squared_error, auc, accuracy_score, recall_score, f1_score, precision_score\n",
    "from sklearn.metrics import roc_curve, roc_auc_score, confusion_matrix\n",
    "\n",
    "from imblearn.under_sampling import RandomUnderSampler"
   ]
  },
  {
   "cell_type": "markdown",
   "id": "77e7e6c0",
   "metadata": {
    "papermill": {
     "duration": 0.071226,
     "end_time": "2022-02-03T17:11:41.328447",
     "exception": false,
     "start_time": "2022-02-03T17:11:41.257221",
     "status": "completed"
    },
    "tags": []
   },
   "source": [
    "## Дополнительные функции"
   ]
  },
  {
   "cell_type": "code",
   "execution_count": 2,
   "id": "6640be88",
   "metadata": {
    "execution": {
     "iopub.execute_input": "2022-02-03T17:11:41.481891Z",
     "iopub.status.busy": "2022-02-03T17:11:41.480987Z",
     "iopub.status.idle": "2022-02-03T17:11:41.501229Z",
     "shell.execute_reply": "2022-02-03T17:11:41.501819Z",
     "shell.execute_reply.started": "2022-02-03T17:08:36.898758Z"
    },
    "papermill": {
     "duration": 0.098836,
     "end_time": "2022-02-03T17:11:41.502012",
     "exception": false,
     "start_time": "2022-02-03T17:11:41.403176",
     "status": "completed"
    },
    "tags": []
   },
   "outputs": [],
   "source": [
    "# Функция возвращает квартили, выводит границы для выбросов,\n",
    "# согласно IQR и считает сколько выбросов (в том числе в %)\n",
    "def IQR_for_column(column):\n",
    "    perc25 = data[column].quantile(0.25)\n",
    "    perc75 = data[column].quantile(0.75)\n",
    "    IQR = perc75 - perc25\n",
    "    min_out = perc25 - 1.5*IQR\n",
    "    max_out = perc75 + 1.5*IQR\n",
    "    anomaly = len(data[data[column] > max_out]) + \\\n",
    "        len(data[data[column] < min_out])\n",
    "    print(\n",
    "        '25-й перцентиль: {} |'.format(perc25),\n",
    "        '75-й перцентиль: {} |'.format(perc75),\n",
    "        \"IQR: {} | \".format(IQR),\n",
    "        \"Границы выбросов: [{}, {}].\".format(min_out, max_out))\n",
    "    print(\"Выбросов, согласно IQR: {} | {:2.2%}\".format(\n",
    "        anomaly, anomaly/len(data)))\n",
    "\n",
    "\n",
    "# Функция для постороения графика распределения значений одного столбца\n",
    "def draw_histplot(column, bins='auto', discrete=False, kde=False):\n",
    "    sns.set(font_scale=1.4)\n",
    "    plt.figure(figsize=(18, 6))\n",
    "    sns.histplot(data[column], discrete=discrete,\n",
    "                 color='blue', bins=bins, kde=kde)\n",
    "\n",
    "\n",
    "# Функция логарифмируем значения в столбце, рисует график нового распределения и выводит данные IQR\n",
    "def draw_log_column(column):\n",
    "    data[column] = np.log(data[column] + 1)\n",
    "    IQR_for_column(column)\n",
    "    draw_histplot(column, discrete=False)\n",
    "    \n",
    "    # Логарифмируем данный признак\n",
    "    #data['age'] = np.log(data['age'] + 1)\n",
    "    #IQR_for_column('age')\n",
    "    #draw_histplot('age', discrete=False)\n",
    "    \n",
    "\n",
    "# Функция выводит различные метрики для оценки качества модели\n",
    "def print_metrics(y_test, y_pred):\n",
    "    print('accuracy_score: {}'.format(\n",
    "        np.round(accuracy_score(y_test, y_pred), 4)))\n",
    "    print('precision_score: {}'.format(\n",
    "        np.round(precision_score(y_test, y_pred), 4)))\n",
    "    print('recall_score: {}'.format(np.round(recall_score(y_test, y_pred), 4)))\n",
    "    print('f1_score: {}'.format(np.round(f1_score(y_test, y_pred), 4)))\n",
    "\n",
    "# Функция выводит roc curve и confusion матрицу\n",
    "def draw_roc_curve(y_test, y_proba, y_pred):\n",
    "    fpr, tpr, threshold = roc_curve(y_test, y_proba)\n",
    "    roc_auc = roc_auc_score(y_test, y_proba)\n",
    "\n",
    "    fig, axes = plt.subplots(1, 2, figsize=(12, 5))\n",
    "    sns.set(font_scale=1)\n",
    "    plt.subplot(1, 2, 1)\n",
    "    plt.plot([0, 1], label='Baseline', linestyle='--')\n",
    "    plt.plot(fpr, tpr, label='Regression')\n",
    "    plt.title('Logistic Regression ROC AUC = %0.4f' % roc_auc)\n",
    "    plt.ylabel('True Positive Rate')\n",
    "    plt.xlabel('False Positive Rate')\n",
    "    plt.legend(loc='lower right')\n",
    "\n",
    "    plt.subplot(1, 2, 2)\n",
    "    sns.set(font_scale=1.2)\n",
    "    sns.heatmap(confusion_matrix(y_test, y_pred), annot=True, fmt='.6g')"
   ]
  },
  {
   "cell_type": "code",
   "execution_count": 3,
   "id": "9eac8908",
   "metadata": {
    "execution": {
     "iopub.execute_input": "2022-02-03T17:11:41.654591Z",
     "iopub.status.busy": "2022-02-03T17:11:41.653813Z",
     "iopub.status.idle": "2022-02-03T17:11:41.657266Z",
     "shell.execute_reply": "2022-02-03T17:11:41.657822Z",
     "shell.execute_reply.started": "2022-02-03T17:08:36.918326Z"
    },
    "papermill": {
     "duration": 0.082761,
     "end_time": "2022-02-03T17:11:41.658009",
     "exception": false,
     "start_time": "2022-02-03T17:11:41.575248",
     "status": "completed"
    },
    "tags": []
   },
   "outputs": [],
   "source": [
    "random = 42"
   ]
  },
  {
   "cell_type": "code",
   "execution_count": 4,
   "id": "7b6c7e8b",
   "metadata": {
    "execution": {
     "iopub.execute_input": "2022-02-03T17:11:41.806271Z",
     "iopub.status.busy": "2022-02-03T17:11:41.805529Z",
     "iopub.status.idle": "2022-02-03T17:11:42.206818Z",
     "shell.execute_reply": "2022-02-03T17:11:42.206202Z",
     "shell.execute_reply.started": "2022-02-03T17:08:36.942747Z"
    },
    "papermill": {
     "duration": 0.475886,
     "end_time": "2022-02-03T17:11:42.206972",
     "exception": false,
     "start_time": "2022-02-03T17:11:41.731086",
     "status": "completed"
    },
    "tags": []
   },
   "outputs": [],
   "source": [
    "DATA_DIR = '/kaggle/input/sf-scoring/'\n",
    "df_train = pd.read_csv(DATA_DIR +'/train.csv')\n",
    "df_test = pd.read_csv(DATA_DIR +'/test.csv')\n",
    "sample_submission = pd.read_csv(DATA_DIR+'/sample_submission.csv')"
   ]
  },
  {
   "cell_type": "markdown",
   "id": "876980a4",
   "metadata": {
    "papermill": {
     "duration": 0.073177,
     "end_time": "2022-02-03T17:11:42.356024",
     "exception": false,
     "start_time": "2022-02-03T17:11:42.282847",
     "status": "completed"
    },
    "tags": []
   },
   "source": [
    "## Посмотрим на данные"
   ]
  },
  {
   "cell_type": "markdown",
   "id": "58b686f4",
   "metadata": {
    "execution": {
     "iopub.execute_input": "2022-02-03T16:57:32.241960Z",
     "iopub.status.busy": "2022-02-03T16:57:32.241603Z",
     "iopub.status.idle": "2022-02-03T16:57:32.255208Z",
     "shell.execute_reply": "2022-02-03T16:57:32.249959Z",
     "shell.execute_reply.started": "2022-02-03T16:57:32.241867Z"
    },
    "papermill": {
     "duration": 0.069952,
     "end_time": "2022-02-03T17:11:42.496998",
     "exception": false,
     "start_time": "2022-02-03T17:11:42.427046",
     "status": "completed"
    },
    "tags": []
   },
   "source": [
    "**Описания полей:**\n",
    "* client_id - идентификатор клиента\n",
    "* app_date - дата подачи заявки\n",
    "* education - уровень образования\n",
    "* sex - пол заемщика\n",
    "* age - возраст заемщика\n",
    "* car - флаг наличия автомобиля\n",
    "* car_type - флаг автомобиля иномарки\n",
    "* decline_app_cnt - количество отказанных прошлых заявок\n",
    "* good_work - флаг наличия “хорошей” работы \n",
    "* score_bki - скоринговый балл по данным из БКИ\n",
    "* bki_request_cnt - количество запросов в БКИ\n",
    "* region_rating - рейтинг региона\n",
    "* home_address - категоризатор домашнего адреса\n",
    "* work_address - категоризатор рабочего адреса\n",
    "* income - доход заемщика\n",
    "* sna - связь заемщика с клиентами банка\n",
    "* foreign_passport - наличие загранпаспорта\n",
    "* first_time - давность наличия информации о заемщике\n",
    "* default - флаг дефолта по кредиту"
   ]
  },
  {
   "cell_type": "code",
   "execution_count": 5,
   "id": "48adc1f4",
   "metadata": {
    "execution": {
     "iopub.execute_input": "2022-02-03T17:11:42.651907Z",
     "iopub.status.busy": "2022-02-03T17:11:42.650423Z",
     "iopub.status.idle": "2022-02-03T17:11:42.659446Z",
     "shell.execute_reply": "2022-02-03T17:11:42.660162Z",
     "shell.execute_reply.started": "2022-02-03T17:08:37.196518Z"
    },
    "papermill": {
     "duration": 0.085551,
     "end_time": "2022-02-03T17:11:42.660359",
     "exception": false,
     "start_time": "2022-02-03T17:11:42.574808",
     "status": "completed"
    },
    "tags": []
   },
   "outputs": [
    {
     "data": {
      "text/plain": [
       "(73799, 19)"
      ]
     },
     "execution_count": 5,
     "metadata": {},
     "output_type": "execute_result"
    }
   ],
   "source": [
    "df_train.shape"
   ]
  },
  {
   "cell_type": "code",
   "execution_count": 6,
   "id": "b57711e6",
   "metadata": {
    "execution": {
     "iopub.execute_input": "2022-02-03T17:11:42.816784Z",
     "iopub.status.busy": "2022-02-03T17:11:42.816000Z",
     "iopub.status.idle": "2022-02-03T17:11:42.896997Z",
     "shell.execute_reply": "2022-02-03T17:11:42.896326Z",
     "shell.execute_reply.started": "2022-02-03T17:08:37.207270Z"
    },
    "papermill": {
     "duration": 0.162741,
     "end_time": "2022-02-03T17:11:42.897162",
     "exception": false,
     "start_time": "2022-02-03T17:11:42.734421",
     "status": "completed"
    },
    "tags": []
   },
   "outputs": [
    {
     "name": "stdout",
     "output_type": "stream",
     "text": [
      "<class 'pandas.core.frame.DataFrame'>\n",
      "RangeIndex: 73799 entries, 0 to 73798\n",
      "Data columns (total 19 columns):\n",
      " #   Column            Non-Null Count  Dtype  \n",
      "---  ------            --------------  -----  \n",
      " 0   client_id         73799 non-null  int64  \n",
      " 1   app_date          73799 non-null  object \n",
      " 2   education         73492 non-null  object \n",
      " 3   sex               73799 non-null  object \n",
      " 4   age               73799 non-null  int64  \n",
      " 5   car               73799 non-null  object \n",
      " 6   car_type          73799 non-null  object \n",
      " 7   decline_app_cnt   73799 non-null  int64  \n",
      " 8   good_work         73799 non-null  int64  \n",
      " 9   score_bki         73799 non-null  float64\n",
      " 10  bki_request_cnt   73799 non-null  int64  \n",
      " 11  region_rating     73799 non-null  int64  \n",
      " 12  home_address      73799 non-null  int64  \n",
      " 13  work_address      73799 non-null  int64  \n",
      " 14  income            73799 non-null  int64  \n",
      " 15  sna               73799 non-null  int64  \n",
      " 16  first_time        73799 non-null  int64  \n",
      " 17  foreign_passport  73799 non-null  object \n",
      " 18  default           73799 non-null  int64  \n",
      "dtypes: float64(1), int64(12), object(6)\n",
      "memory usage: 10.7+ MB\n"
     ]
    }
   ],
   "source": [
    "df_train.info()"
   ]
  },
  {
   "cell_type": "code",
   "execution_count": 7,
   "id": "5f0b3d79",
   "metadata": {
    "execution": {
     "iopub.execute_input": "2022-02-03T17:11:43.055054Z",
     "iopub.status.busy": "2022-02-03T17:11:43.053937Z",
     "iopub.status.idle": "2022-02-03T17:11:43.079528Z",
     "shell.execute_reply": "2022-02-03T17:11:43.080112Z",
     "shell.execute_reply.started": "2022-02-03T17:08:37.283946Z"
    },
    "papermill": {
     "duration": 0.106805,
     "end_time": "2022-02-03T17:11:43.080297",
     "exception": false,
     "start_time": "2022-02-03T17:11:42.973492",
     "status": "completed"
    },
    "tags": []
   },
   "outputs": [
    {
     "data": {
      "text/html": [
       "<div>\n",
       "<style scoped>\n",
       "    .dataframe tbody tr th:only-of-type {\n",
       "        vertical-align: middle;\n",
       "    }\n",
       "\n",
       "    .dataframe tbody tr th {\n",
       "        vertical-align: top;\n",
       "    }\n",
       "\n",
       "    .dataframe thead th {\n",
       "        text-align: right;\n",
       "    }\n",
       "</style>\n",
       "<table border=\"1\" class=\"dataframe\">\n",
       "  <thead>\n",
       "    <tr style=\"text-align: right;\">\n",
       "      <th></th>\n",
       "      <th>client_id</th>\n",
       "      <th>app_date</th>\n",
       "      <th>education</th>\n",
       "      <th>sex</th>\n",
       "      <th>age</th>\n",
       "      <th>car</th>\n",
       "      <th>car_type</th>\n",
       "      <th>decline_app_cnt</th>\n",
       "      <th>good_work</th>\n",
       "      <th>score_bki</th>\n",
       "      <th>bki_request_cnt</th>\n",
       "      <th>region_rating</th>\n",
       "      <th>home_address</th>\n",
       "      <th>work_address</th>\n",
       "      <th>income</th>\n",
       "      <th>sna</th>\n",
       "      <th>first_time</th>\n",
       "      <th>foreign_passport</th>\n",
       "      <th>default</th>\n",
       "    </tr>\n",
       "  </thead>\n",
       "  <tbody>\n",
       "    <tr>\n",
       "      <th>0</th>\n",
       "      <td>25905</td>\n",
       "      <td>01FEB2014</td>\n",
       "      <td>SCH</td>\n",
       "      <td>M</td>\n",
       "      <td>62</td>\n",
       "      <td>Y</td>\n",
       "      <td>Y</td>\n",
       "      <td>0</td>\n",
       "      <td>0</td>\n",
       "      <td>-2.008753</td>\n",
       "      <td>1</td>\n",
       "      <td>50</td>\n",
       "      <td>1</td>\n",
       "      <td>2</td>\n",
       "      <td>18000</td>\n",
       "      <td>4</td>\n",
       "      <td>1</td>\n",
       "      <td>N</td>\n",
       "      <td>0</td>\n",
       "    </tr>\n",
       "    <tr>\n",
       "      <th>1</th>\n",
       "      <td>63161</td>\n",
       "      <td>12MAR2014</td>\n",
       "      <td>SCH</td>\n",
       "      <td>F</td>\n",
       "      <td>59</td>\n",
       "      <td>N</td>\n",
       "      <td>N</td>\n",
       "      <td>0</td>\n",
       "      <td>0</td>\n",
       "      <td>-1.532276</td>\n",
       "      <td>3</td>\n",
       "      <td>50</td>\n",
       "      <td>2</td>\n",
       "      <td>3</td>\n",
       "      <td>19000</td>\n",
       "      <td>4</td>\n",
       "      <td>1</td>\n",
       "      <td>N</td>\n",
       "      <td>0</td>\n",
       "    </tr>\n",
       "    <tr>\n",
       "      <th>2</th>\n",
       "      <td>25887</td>\n",
       "      <td>01FEB2014</td>\n",
       "      <td>SCH</td>\n",
       "      <td>M</td>\n",
       "      <td>25</td>\n",
       "      <td>Y</td>\n",
       "      <td>N</td>\n",
       "      <td>2</td>\n",
       "      <td>0</td>\n",
       "      <td>-1.408142</td>\n",
       "      <td>1</td>\n",
       "      <td>80</td>\n",
       "      <td>1</td>\n",
       "      <td>2</td>\n",
       "      <td>30000</td>\n",
       "      <td>1</td>\n",
       "      <td>4</td>\n",
       "      <td>Y</td>\n",
       "      <td>0</td>\n",
       "    </tr>\n",
       "    <tr>\n",
       "      <th>3</th>\n",
       "      <td>16222</td>\n",
       "      <td>23JAN2014</td>\n",
       "      <td>SCH</td>\n",
       "      <td>F</td>\n",
       "      <td>53</td>\n",
       "      <td>N</td>\n",
       "      <td>N</td>\n",
       "      <td>0</td>\n",
       "      <td>0</td>\n",
       "      <td>-2.057471</td>\n",
       "      <td>2</td>\n",
       "      <td>50</td>\n",
       "      <td>2</td>\n",
       "      <td>3</td>\n",
       "      <td>10000</td>\n",
       "      <td>1</td>\n",
       "      <td>3</td>\n",
       "      <td>N</td>\n",
       "      <td>0</td>\n",
       "    </tr>\n",
       "    <tr>\n",
       "      <th>4</th>\n",
       "      <td>101655</td>\n",
       "      <td>18APR2014</td>\n",
       "      <td>GRD</td>\n",
       "      <td>M</td>\n",
       "      <td>48</td>\n",
       "      <td>N</td>\n",
       "      <td>N</td>\n",
       "      <td>0</td>\n",
       "      <td>1</td>\n",
       "      <td>-1.244723</td>\n",
       "      <td>1</td>\n",
       "      <td>60</td>\n",
       "      <td>2</td>\n",
       "      <td>3</td>\n",
       "      <td>30000</td>\n",
       "      <td>1</td>\n",
       "      <td>4</td>\n",
       "      <td>Y</td>\n",
       "      <td>0</td>\n",
       "    </tr>\n",
       "  </tbody>\n",
       "</table>\n",
       "</div>"
      ],
      "text/plain": [
       "   client_id   app_date education sex  age car car_type  decline_app_cnt  \\\n",
       "0      25905  01FEB2014       SCH   M   62   Y        Y                0   \n",
       "1      63161  12MAR2014       SCH   F   59   N        N                0   \n",
       "2      25887  01FEB2014       SCH   M   25   Y        N                2   \n",
       "3      16222  23JAN2014       SCH   F   53   N        N                0   \n",
       "4     101655  18APR2014       GRD   M   48   N        N                0   \n",
       "\n",
       "   good_work  score_bki  bki_request_cnt  region_rating  home_address  \\\n",
       "0          0  -2.008753                1             50             1   \n",
       "1          0  -1.532276                3             50             2   \n",
       "2          0  -1.408142                1             80             1   \n",
       "3          0  -2.057471                2             50             2   \n",
       "4          1  -1.244723                1             60             2   \n",
       "\n",
       "   work_address  income  sna  first_time foreign_passport  default  \n",
       "0             2   18000    4           1                N        0  \n",
       "1             3   19000    4           1                N        0  \n",
       "2             2   30000    1           4                Y        0  \n",
       "3             3   10000    1           3                N        0  \n",
       "4             3   30000    1           4                Y        0  "
      ]
     },
     "execution_count": 7,
     "metadata": {},
     "output_type": "execute_result"
    }
   ],
   "source": [
    "df_train.head(5)"
   ]
  },
  {
   "cell_type": "code",
   "execution_count": 8,
   "id": "33f6996b",
   "metadata": {
    "execution": {
     "iopub.execute_input": "2022-02-03T17:11:43.233982Z",
     "iopub.status.busy": "2022-02-03T17:11:43.232977Z",
     "iopub.status.idle": "2022-02-03T17:11:43.238695Z",
     "shell.execute_reply": "2022-02-03T17:11:43.239280Z",
     "shell.execute_reply.started": "2022-02-03T17:08:37.309578Z"
    },
    "papermill": {
     "duration": 0.083055,
     "end_time": "2022-02-03T17:11:43.239482",
     "exception": false,
     "start_time": "2022-02-03T17:11:43.156427",
     "status": "completed"
    },
    "tags": []
   },
   "outputs": [
    {
     "data": {
      "text/plain": [
       "(36349, 18)"
      ]
     },
     "execution_count": 8,
     "metadata": {},
     "output_type": "execute_result"
    }
   ],
   "source": [
    "df_test.shape"
   ]
  },
  {
   "cell_type": "code",
   "execution_count": 9,
   "id": "4204a2ba",
   "metadata": {
    "execution": {
     "iopub.execute_input": "2022-02-03T17:11:43.396918Z",
     "iopub.status.busy": "2022-02-03T17:11:43.395926Z",
     "iopub.status.idle": "2022-02-03T17:11:43.437022Z",
     "shell.execute_reply": "2022-02-03T17:11:43.436345Z",
     "shell.execute_reply.started": "2022-02-03T17:08:37.318084Z"
    },
    "papermill": {
     "duration": 0.117114,
     "end_time": "2022-02-03T17:11:43.437212",
     "exception": false,
     "start_time": "2022-02-03T17:11:43.320098",
     "status": "completed"
    },
    "tags": []
   },
   "outputs": [
    {
     "name": "stdout",
     "output_type": "stream",
     "text": [
      "<class 'pandas.core.frame.DataFrame'>\n",
      "RangeIndex: 36349 entries, 0 to 36348\n",
      "Data columns (total 18 columns):\n",
      " #   Column            Non-Null Count  Dtype  \n",
      "---  ------            --------------  -----  \n",
      " 0   client_id         36349 non-null  int64  \n",
      " 1   app_date          36349 non-null  object \n",
      " 2   education         36178 non-null  object \n",
      " 3   sex               36349 non-null  object \n",
      " 4   age               36349 non-null  int64  \n",
      " 5   car               36349 non-null  object \n",
      " 6   car_type          36349 non-null  object \n",
      " 7   decline_app_cnt   36349 non-null  int64  \n",
      " 8   good_work         36349 non-null  int64  \n",
      " 9   score_bki         36349 non-null  float64\n",
      " 10  bki_request_cnt   36349 non-null  int64  \n",
      " 11  region_rating     36349 non-null  int64  \n",
      " 12  home_address      36349 non-null  int64  \n",
      " 13  work_address      36349 non-null  int64  \n",
      " 14  income            36349 non-null  int64  \n",
      " 15  sna               36349 non-null  int64  \n",
      " 16  first_time        36349 non-null  int64  \n",
      " 17  foreign_passport  36349 non-null  object \n",
      "dtypes: float64(1), int64(11), object(6)\n",
      "memory usage: 5.0+ MB\n"
     ]
    }
   ],
   "source": [
    "df_test.info()"
   ]
  },
  {
   "cell_type": "code",
   "execution_count": 10,
   "id": "a85f3ed3",
   "metadata": {
    "execution": {
     "iopub.execute_input": "2022-02-03T17:11:43.606712Z",
     "iopub.status.busy": "2022-02-03T17:11:43.605968Z",
     "iopub.status.idle": "2022-02-03T17:11:43.611895Z",
     "shell.execute_reply": "2022-02-03T17:11:43.610768Z",
     "shell.execute_reply.started": "2022-02-03T17:08:37.366492Z"
    },
    "papermill": {
     "duration": 0.100215,
     "end_time": "2022-02-03T17:11:43.612156",
     "exception": false,
     "start_time": "2022-02-03T17:11:43.511941",
     "status": "completed"
    },
    "tags": []
   },
   "outputs": [
    {
     "data": {
      "text/html": [
       "<div>\n",
       "<style scoped>\n",
       "    .dataframe tbody tr th:only-of-type {\n",
       "        vertical-align: middle;\n",
       "    }\n",
       "\n",
       "    .dataframe tbody tr th {\n",
       "        vertical-align: top;\n",
       "    }\n",
       "\n",
       "    .dataframe thead th {\n",
       "        text-align: right;\n",
       "    }\n",
       "</style>\n",
       "<table border=\"1\" class=\"dataframe\">\n",
       "  <thead>\n",
       "    <tr style=\"text-align: right;\">\n",
       "      <th></th>\n",
       "      <th>client_id</th>\n",
       "      <th>app_date</th>\n",
       "      <th>education</th>\n",
       "      <th>sex</th>\n",
       "      <th>age</th>\n",
       "      <th>car</th>\n",
       "      <th>car_type</th>\n",
       "      <th>decline_app_cnt</th>\n",
       "      <th>good_work</th>\n",
       "      <th>score_bki</th>\n",
       "      <th>bki_request_cnt</th>\n",
       "      <th>region_rating</th>\n",
       "      <th>home_address</th>\n",
       "      <th>work_address</th>\n",
       "      <th>income</th>\n",
       "      <th>sna</th>\n",
       "      <th>first_time</th>\n",
       "      <th>foreign_passport</th>\n",
       "    </tr>\n",
       "  </thead>\n",
       "  <tbody>\n",
       "    <tr>\n",
       "      <th>0</th>\n",
       "      <td>74835</td>\n",
       "      <td>22MAR2014</td>\n",
       "      <td>GRD</td>\n",
       "      <td>M</td>\n",
       "      <td>29</td>\n",
       "      <td>Y</td>\n",
       "      <td>Y</td>\n",
       "      <td>0</td>\n",
       "      <td>0</td>\n",
       "      <td>-2.271884</td>\n",
       "      <td>3</td>\n",
       "      <td>50</td>\n",
       "      <td>1</td>\n",
       "      <td>2</td>\n",
       "      <td>50000</td>\n",
       "      <td>1</td>\n",
       "      <td>4</td>\n",
       "      <td>N</td>\n",
       "    </tr>\n",
       "    <tr>\n",
       "      <th>1</th>\n",
       "      <td>17527</td>\n",
       "      <td>24JAN2014</td>\n",
       "      <td>SCH</td>\n",
       "      <td>F</td>\n",
       "      <td>39</td>\n",
       "      <td>N</td>\n",
       "      <td>N</td>\n",
       "      <td>5</td>\n",
       "      <td>0</td>\n",
       "      <td>-1.504999</td>\n",
       "      <td>2</td>\n",
       "      <td>50</td>\n",
       "      <td>1</td>\n",
       "      <td>2</td>\n",
       "      <td>5000</td>\n",
       "      <td>4</td>\n",
       "      <td>3</td>\n",
       "      <td>N</td>\n",
       "    </tr>\n",
       "    <tr>\n",
       "      <th>2</th>\n",
       "      <td>75683</td>\n",
       "      <td>23MAR2014</td>\n",
       "      <td>UGR</td>\n",
       "      <td>M</td>\n",
       "      <td>50</td>\n",
       "      <td>Y</td>\n",
       "      <td>Y</td>\n",
       "      <td>0</td>\n",
       "      <td>0</td>\n",
       "      <td>-1.691339</td>\n",
       "      <td>1</td>\n",
       "      <td>50</td>\n",
       "      <td>1</td>\n",
       "      <td>2</td>\n",
       "      <td>30000</td>\n",
       "      <td>1</td>\n",
       "      <td>3</td>\n",
       "      <td>Y</td>\n",
       "    </tr>\n",
       "    <tr>\n",
       "      <th>3</th>\n",
       "      <td>26883</td>\n",
       "      <td>03FEB2014</td>\n",
       "      <td>SCH</td>\n",
       "      <td>M</td>\n",
       "      <td>56</td>\n",
       "      <td>N</td>\n",
       "      <td>N</td>\n",
       "      <td>0</td>\n",
       "      <td>0</td>\n",
       "      <td>-2.374182</td>\n",
       "      <td>1</td>\n",
       "      <td>40</td>\n",
       "      <td>1</td>\n",
       "      <td>2</td>\n",
       "      <td>17000</td>\n",
       "      <td>1</td>\n",
       "      <td>3</td>\n",
       "      <td>N</td>\n",
       "    </tr>\n",
       "    <tr>\n",
       "      <th>4</th>\n",
       "      <td>28862</td>\n",
       "      <td>04FEB2014</td>\n",
       "      <td>GRD</td>\n",
       "      <td>F</td>\n",
       "      <td>38</td>\n",
       "      <td>N</td>\n",
       "      <td>N</td>\n",
       "      <td>0</td>\n",
       "      <td>0</td>\n",
       "      <td>-2.487502</td>\n",
       "      <td>0</td>\n",
       "      <td>80</td>\n",
       "      <td>2</td>\n",
       "      <td>3</td>\n",
       "      <td>120000</td>\n",
       "      <td>1</td>\n",
       "      <td>3</td>\n",
       "      <td>N</td>\n",
       "    </tr>\n",
       "  </tbody>\n",
       "</table>\n",
       "</div>"
      ],
      "text/plain": [
       "   client_id   app_date education sex  age car car_type  decline_app_cnt  \\\n",
       "0      74835  22MAR2014       GRD   M   29   Y        Y                0   \n",
       "1      17527  24JAN2014       SCH   F   39   N        N                5   \n",
       "2      75683  23MAR2014       UGR   M   50   Y        Y                0   \n",
       "3      26883  03FEB2014       SCH   M   56   N        N                0   \n",
       "4      28862  04FEB2014       GRD   F   38   N        N                0   \n",
       "\n",
       "   good_work  score_bki  bki_request_cnt  region_rating  home_address  \\\n",
       "0          0  -2.271884                3             50             1   \n",
       "1          0  -1.504999                2             50             1   \n",
       "2          0  -1.691339                1             50             1   \n",
       "3          0  -2.374182                1             40             1   \n",
       "4          0  -2.487502                0             80             2   \n",
       "\n",
       "   work_address  income  sna  first_time foreign_passport  \n",
       "0             2   50000    1           4                N  \n",
       "1             2    5000    4           3                N  \n",
       "2             2   30000    1           3                Y  \n",
       "3             2   17000    1           3                N  \n",
       "4             3  120000    1           3                N  "
      ]
     },
     "execution_count": 10,
     "metadata": {},
     "output_type": "execute_result"
    }
   ],
   "source": [
    "df_test.head(5)"
   ]
  },
  {
   "cell_type": "code",
   "execution_count": 11,
   "id": "de4febf9",
   "metadata": {
    "execution": {
     "iopub.execute_input": "2022-02-03T17:11:43.773853Z",
     "iopub.status.busy": "2022-02-03T17:11:43.772435Z",
     "iopub.status.idle": "2022-02-03T17:11:43.777207Z",
     "shell.execute_reply": "2022-02-03T17:11:43.776593Z",
     "shell.execute_reply.started": "2022-02-03T17:08:37.387110Z"
    },
    "papermill": {
     "duration": 0.087316,
     "end_time": "2022-02-03T17:11:43.777356",
     "exception": false,
     "start_time": "2022-02-03T17:11:43.690040",
     "status": "completed"
    },
    "tags": []
   },
   "outputs": [
    {
     "data": {
      "text/plain": [
       "(36349, 2)"
      ]
     },
     "execution_count": 11,
     "metadata": {},
     "output_type": "execute_result"
    }
   ],
   "source": [
    "sample_submission.shape"
   ]
  },
  {
   "cell_type": "code",
   "execution_count": 12,
   "id": "1c660970",
   "metadata": {
    "execution": {
     "iopub.execute_input": "2022-02-03T17:11:43.940959Z",
     "iopub.status.busy": "2022-02-03T17:11:43.940260Z",
     "iopub.status.idle": "2022-02-03T17:11:43.950577Z",
     "shell.execute_reply": "2022-02-03T17:11:43.949816Z",
     "shell.execute_reply.started": "2022-02-03T17:08:37.399763Z"
    },
    "papermill": {
     "duration": 0.094456,
     "end_time": "2022-02-03T17:11:43.950745",
     "exception": false,
     "start_time": "2022-02-03T17:11:43.856289",
     "status": "completed"
    },
    "tags": []
   },
   "outputs": [
    {
     "name": "stdout",
     "output_type": "stream",
     "text": [
      "<class 'pandas.core.frame.DataFrame'>\n",
      "RangeIndex: 36349 entries, 0 to 36348\n",
      "Data columns (total 2 columns):\n",
      " #   Column     Non-Null Count  Dtype\n",
      "---  ------     --------------  -----\n",
      " 0   client_id  36349 non-null  int64\n",
      " 1   default    36349 non-null  int64\n",
      "dtypes: int64(2)\n",
      "memory usage: 568.1 KB\n"
     ]
    }
   ],
   "source": [
    "sample_submission.info()"
   ]
  },
  {
   "cell_type": "code",
   "execution_count": 13,
   "id": "5e8a923c",
   "metadata": {
    "execution": {
     "iopub.execute_input": "2022-02-03T17:11:44.114298Z",
     "iopub.status.busy": "2022-02-03T17:11:44.106180Z",
     "iopub.status.idle": "2022-02-03T17:11:44.117617Z",
     "shell.execute_reply": "2022-02-03T17:11:44.118094Z",
     "shell.execute_reply.started": "2022-02-03T17:08:37.422052Z"
    },
    "papermill": {
     "duration": 0.08856,
     "end_time": "2022-02-03T17:11:44.118286",
     "exception": false,
     "start_time": "2022-02-03T17:11:44.029726",
     "status": "completed"
    },
    "tags": []
   },
   "outputs": [
    {
     "data": {
      "text/html": [
       "<div>\n",
       "<style scoped>\n",
       "    .dataframe tbody tr th:only-of-type {\n",
       "        vertical-align: middle;\n",
       "    }\n",
       "\n",
       "    .dataframe tbody tr th {\n",
       "        vertical-align: top;\n",
       "    }\n",
       "\n",
       "    .dataframe thead th {\n",
       "        text-align: right;\n",
       "    }\n",
       "</style>\n",
       "<table border=\"1\" class=\"dataframe\">\n",
       "  <thead>\n",
       "    <tr style=\"text-align: right;\">\n",
       "      <th></th>\n",
       "      <th>client_id</th>\n",
       "      <th>default</th>\n",
       "    </tr>\n",
       "  </thead>\n",
       "  <tbody>\n",
       "    <tr>\n",
       "      <th>0</th>\n",
       "      <td>74835</td>\n",
       "      <td>0</td>\n",
       "    </tr>\n",
       "    <tr>\n",
       "      <th>1</th>\n",
       "      <td>17527</td>\n",
       "      <td>0</td>\n",
       "    </tr>\n",
       "    <tr>\n",
       "      <th>2</th>\n",
       "      <td>75683</td>\n",
       "      <td>0</td>\n",
       "    </tr>\n",
       "    <tr>\n",
       "      <th>3</th>\n",
       "      <td>26883</td>\n",
       "      <td>0</td>\n",
       "    </tr>\n",
       "    <tr>\n",
       "      <th>4</th>\n",
       "      <td>28862</td>\n",
       "      <td>0</td>\n",
       "    </tr>\n",
       "  </tbody>\n",
       "</table>\n",
       "</div>"
      ],
      "text/plain": [
       "   client_id  default\n",
       "0      74835        0\n",
       "1      17527        0\n",
       "2      75683        0\n",
       "3      26883        0\n",
       "4      28862        0"
      ]
     },
     "execution_count": 13,
     "metadata": {},
     "output_type": "execute_result"
    }
   ],
   "source": [
    "sample_submission.head(5)"
   ]
  },
  {
   "cell_type": "code",
   "execution_count": 14,
   "id": "fe5af34c",
   "metadata": {
    "execution": {
     "iopub.execute_input": "2022-02-03T17:11:44.280878Z",
     "iopub.status.busy": "2022-02-03T17:11:44.280064Z",
     "iopub.status.idle": "2022-02-03T17:11:44.311453Z",
     "shell.execute_reply": "2022-02-03T17:11:44.312049Z",
     "shell.execute_reply.started": "2022-02-03T17:08:37.439229Z"
    },
    "papermill": {
     "duration": 0.116748,
     "end_time": "2022-02-03T17:11:44.312245",
     "exception": false,
     "start_time": "2022-02-03T17:11:44.195497",
     "status": "completed"
    },
    "tags": []
   },
   "outputs": [],
   "source": [
    "# ВАЖНО! дря корректной обработки признаков объединяем трейн и тест в один датасет\n",
    "df_train['sample'] = 1 # помечаем где у нас трейн\n",
    "df_test['sample'] = 0  # помечаем где у нас тест\n",
    "df_test['default'] = 0 # в тесте у нас нет значения default, мы его должны предсказать, по этому пока просто заполняем нулями\n",
    "\n",
    "data = pd.concat([df_test, df_train])# df_test.append(df_train, sort=False).reset_index(drop=True) # объединяем"
   ]
  },
  {
   "cell_type": "code",
   "execution_count": 15,
   "id": "a9cdd216",
   "metadata": {
    "execution": {
     "iopub.execute_input": "2022-02-03T17:11:44.466609Z",
     "iopub.status.busy": "2022-02-03T17:11:44.465699Z",
     "iopub.status.idle": "2022-02-03T17:11:44.484288Z",
     "shell.execute_reply": "2022-02-03T17:11:44.484852Z",
     "shell.execute_reply.started": "2022-02-03T17:08:37.483037Z"
    },
    "papermill": {
     "duration": 0.098335,
     "end_time": "2022-02-03T17:11:44.485035",
     "exception": false,
     "start_time": "2022-02-03T17:11:44.386700",
     "status": "completed"
    },
    "tags": []
   },
   "outputs": [
    {
     "data": {
      "text/html": [
       "<div>\n",
       "<style scoped>\n",
       "    .dataframe tbody tr th:only-of-type {\n",
       "        vertical-align: middle;\n",
       "    }\n",
       "\n",
       "    .dataframe tbody tr th {\n",
       "        vertical-align: top;\n",
       "    }\n",
       "\n",
       "    .dataframe thead th {\n",
       "        text-align: right;\n",
       "    }\n",
       "</style>\n",
       "<table border=\"1\" class=\"dataframe\">\n",
       "  <thead>\n",
       "    <tr style=\"text-align: right;\">\n",
       "      <th></th>\n",
       "      <th>client_id</th>\n",
       "      <th>app_date</th>\n",
       "      <th>education</th>\n",
       "      <th>sex</th>\n",
       "      <th>age</th>\n",
       "      <th>car</th>\n",
       "      <th>car_type</th>\n",
       "      <th>decline_app_cnt</th>\n",
       "      <th>good_work</th>\n",
       "      <th>score_bki</th>\n",
       "      <th>bki_request_cnt</th>\n",
       "      <th>region_rating</th>\n",
       "      <th>home_address</th>\n",
       "      <th>work_address</th>\n",
       "      <th>income</th>\n",
       "      <th>sna</th>\n",
       "      <th>first_time</th>\n",
       "      <th>foreign_passport</th>\n",
       "      <th>sample</th>\n",
       "      <th>default</th>\n",
       "    </tr>\n",
       "  </thead>\n",
       "  <tbody>\n",
       "    <tr>\n",
       "      <th>0</th>\n",
       "      <td>74835</td>\n",
       "      <td>22MAR2014</td>\n",
       "      <td>GRD</td>\n",
       "      <td>M</td>\n",
       "      <td>29</td>\n",
       "      <td>Y</td>\n",
       "      <td>Y</td>\n",
       "      <td>0</td>\n",
       "      <td>0</td>\n",
       "      <td>-2.271884</td>\n",
       "      <td>3</td>\n",
       "      <td>50</td>\n",
       "      <td>1</td>\n",
       "      <td>2</td>\n",
       "      <td>50000</td>\n",
       "      <td>1</td>\n",
       "      <td>4</td>\n",
       "      <td>N</td>\n",
       "      <td>0</td>\n",
       "      <td>0</td>\n",
       "    </tr>\n",
       "    <tr>\n",
       "      <th>1</th>\n",
       "      <td>17527</td>\n",
       "      <td>24JAN2014</td>\n",
       "      <td>SCH</td>\n",
       "      <td>F</td>\n",
       "      <td>39</td>\n",
       "      <td>N</td>\n",
       "      <td>N</td>\n",
       "      <td>5</td>\n",
       "      <td>0</td>\n",
       "      <td>-1.504999</td>\n",
       "      <td>2</td>\n",
       "      <td>50</td>\n",
       "      <td>1</td>\n",
       "      <td>2</td>\n",
       "      <td>5000</td>\n",
       "      <td>4</td>\n",
       "      <td>3</td>\n",
       "      <td>N</td>\n",
       "      <td>0</td>\n",
       "      <td>0</td>\n",
       "    </tr>\n",
       "    <tr>\n",
       "      <th>2</th>\n",
       "      <td>75683</td>\n",
       "      <td>23MAR2014</td>\n",
       "      <td>UGR</td>\n",
       "      <td>M</td>\n",
       "      <td>50</td>\n",
       "      <td>Y</td>\n",
       "      <td>Y</td>\n",
       "      <td>0</td>\n",
       "      <td>0</td>\n",
       "      <td>-1.691339</td>\n",
       "      <td>1</td>\n",
       "      <td>50</td>\n",
       "      <td>1</td>\n",
       "      <td>2</td>\n",
       "      <td>30000</td>\n",
       "      <td>1</td>\n",
       "      <td>3</td>\n",
       "      <td>Y</td>\n",
       "      <td>0</td>\n",
       "      <td>0</td>\n",
       "    </tr>\n",
       "    <tr>\n",
       "      <th>3</th>\n",
       "      <td>26883</td>\n",
       "      <td>03FEB2014</td>\n",
       "      <td>SCH</td>\n",
       "      <td>M</td>\n",
       "      <td>56</td>\n",
       "      <td>N</td>\n",
       "      <td>N</td>\n",
       "      <td>0</td>\n",
       "      <td>0</td>\n",
       "      <td>-2.374182</td>\n",
       "      <td>1</td>\n",
       "      <td>40</td>\n",
       "      <td>1</td>\n",
       "      <td>2</td>\n",
       "      <td>17000</td>\n",
       "      <td>1</td>\n",
       "      <td>3</td>\n",
       "      <td>N</td>\n",
       "      <td>0</td>\n",
       "      <td>0</td>\n",
       "    </tr>\n",
       "    <tr>\n",
       "      <th>4</th>\n",
       "      <td>28862</td>\n",
       "      <td>04FEB2014</td>\n",
       "      <td>GRD</td>\n",
       "      <td>F</td>\n",
       "      <td>38</td>\n",
       "      <td>N</td>\n",
       "      <td>N</td>\n",
       "      <td>0</td>\n",
       "      <td>0</td>\n",
       "      <td>-2.487502</td>\n",
       "      <td>0</td>\n",
       "      <td>80</td>\n",
       "      <td>2</td>\n",
       "      <td>3</td>\n",
       "      <td>120000</td>\n",
       "      <td>1</td>\n",
       "      <td>3</td>\n",
       "      <td>N</td>\n",
       "      <td>0</td>\n",
       "      <td>0</td>\n",
       "    </tr>\n",
       "  </tbody>\n",
       "</table>\n",
       "</div>"
      ],
      "text/plain": [
       "   client_id   app_date education sex  age car car_type  decline_app_cnt  \\\n",
       "0      74835  22MAR2014       GRD   M   29   Y        Y                0   \n",
       "1      17527  24JAN2014       SCH   F   39   N        N                5   \n",
       "2      75683  23MAR2014       UGR   M   50   Y        Y                0   \n",
       "3      26883  03FEB2014       SCH   M   56   N        N                0   \n",
       "4      28862  04FEB2014       GRD   F   38   N        N                0   \n",
       "\n",
       "   good_work  score_bki  bki_request_cnt  region_rating  home_address  \\\n",
       "0          0  -2.271884                3             50             1   \n",
       "1          0  -1.504999                2             50             1   \n",
       "2          0  -1.691339                1             50             1   \n",
       "3          0  -2.374182                1             40             1   \n",
       "4          0  -2.487502                0             80             2   \n",
       "\n",
       "   work_address  income  sna  first_time foreign_passport  sample  default  \n",
       "0             2   50000    1           4                N       0        0  \n",
       "1             2    5000    4           3                N       0        0  \n",
       "2             2   30000    1           3                Y       0        0  \n",
       "3             2   17000    1           3                N       0        0  \n",
       "4             3  120000    1           3                N       0        0  "
      ]
     },
     "execution_count": 15,
     "metadata": {},
     "output_type": "execute_result"
    }
   ],
   "source": [
    "data.head(5)"
   ]
  },
  {
   "cell_type": "code",
   "execution_count": 16,
   "id": "f3bd0366",
   "metadata": {
    "execution": {
     "iopub.execute_input": "2022-02-03T17:11:44.644264Z",
     "iopub.status.busy": "2022-02-03T17:11:44.643584Z",
     "iopub.status.idle": "2022-02-03T17:11:44.738188Z",
     "shell.execute_reply": "2022-02-03T17:11:44.737105Z",
     "shell.execute_reply.started": "2022-02-03T17:08:37.505284Z"
    },
    "papermill": {
     "duration": 0.175152,
     "end_time": "2022-02-03T17:11:44.738633",
     "exception": false,
     "start_time": "2022-02-03T17:11:44.563481",
     "status": "completed"
    },
    "tags": []
   },
   "outputs": [
    {
     "name": "stdout",
     "output_type": "stream",
     "text": [
      "<class 'pandas.core.frame.DataFrame'>\n",
      "Int64Index: 110148 entries, 0 to 73798\n",
      "Data columns (total 20 columns):\n",
      " #   Column            Non-Null Count   Dtype  \n",
      "---  ------            --------------   -----  \n",
      " 0   client_id         110148 non-null  int64  \n",
      " 1   app_date          110148 non-null  object \n",
      " 2   education         109670 non-null  object \n",
      " 3   sex               110148 non-null  object \n",
      " 4   age               110148 non-null  int64  \n",
      " 5   car               110148 non-null  object \n",
      " 6   car_type          110148 non-null  object \n",
      " 7   decline_app_cnt   110148 non-null  int64  \n",
      " 8   good_work         110148 non-null  int64  \n",
      " 9   score_bki         110148 non-null  float64\n",
      " 10  bki_request_cnt   110148 non-null  int64  \n",
      " 11  region_rating     110148 non-null  int64  \n",
      " 12  home_address      110148 non-null  int64  \n",
      " 13  work_address      110148 non-null  int64  \n",
      " 14  income            110148 non-null  int64  \n",
      " 15  sna               110148 non-null  int64  \n",
      " 16  first_time        110148 non-null  int64  \n",
      " 17  foreign_passport  110148 non-null  object \n",
      " 18  sample            110148 non-null  int64  \n",
      " 19  default           110148 non-null  int64  \n",
      "dtypes: float64(1), int64(13), object(6)\n",
      "memory usage: 17.6+ MB\n"
     ]
    }
   ],
   "source": [
    "data.info()"
   ]
  },
  {
   "cell_type": "code",
   "execution_count": null,
   "id": "4d635c38",
   "metadata": {
    "papermill": {
     "duration": 0.076712,
     "end_time": "2022-02-03T17:11:44.893327",
     "exception": false,
     "start_time": "2022-02-03T17:11:44.816615",
     "status": "completed"
    },
    "tags": []
   },
   "outputs": [],
   "source": []
  },
  {
   "cell_type": "code",
   "execution_count": 17,
   "id": "f812109c",
   "metadata": {
    "execution": {
     "iopub.execute_input": "2022-02-03T17:11:45.060720Z",
     "iopub.status.busy": "2022-02-03T17:11:45.059936Z",
     "iopub.status.idle": "2022-02-03T17:11:45.147905Z",
     "shell.execute_reply": "2022-02-03T17:11:45.147222Z",
     "shell.execute_reply.started": "2022-02-03T17:08:37.597992Z"
    },
    "papermill": {
     "duration": 0.175104,
     "end_time": "2022-02-03T17:11:45.148102",
     "exception": false,
     "start_time": "2022-02-03T17:11:44.972998",
     "status": "completed"
    },
    "tags": []
   },
   "outputs": [
    {
     "data": {
      "text/plain": [
       "client_id           110148\n",
       "app_date               120\n",
       "education                6\n",
       "sex                      2\n",
       "age                     52\n",
       "car                      2\n",
       "car_type                 2\n",
       "decline_app_cnt         24\n",
       "good_work                2\n",
       "score_bki           102618\n",
       "bki_request_cnt         40\n",
       "region_rating            7\n",
       "home_address             3\n",
       "work_address             3\n",
       "income                1207\n",
       "sna                      4\n",
       "first_time               4\n",
       "foreign_passport         2\n",
       "sample                   2\n",
       "default                  2\n",
       "dtype: int64"
      ]
     },
     "execution_count": 17,
     "metadata": {},
     "output_type": "execute_result"
    }
   ],
   "source": [
    "data.nunique(dropna=False)"
   ]
  },
  {
   "cell_type": "code",
   "execution_count": 18,
   "id": "e229bd39",
   "metadata": {
    "execution": {
     "iopub.execute_input": "2022-02-03T17:11:45.308509Z",
     "iopub.status.busy": "2022-02-03T17:11:45.307762Z",
     "iopub.status.idle": "2022-02-03T17:11:45.311300Z",
     "shell.execute_reply": "2022-02-03T17:11:45.311879Z",
     "shell.execute_reply.started": "2022-02-03T17:08:37.679134Z"
    },
    "papermill": {
     "duration": 0.085729,
     "end_time": "2022-02-03T17:11:45.312077",
     "exception": false,
     "start_time": "2022-02-03T17:11:45.226348",
     "status": "completed"
    },
    "tags": []
   },
   "outputs": [],
   "source": [
    "# Посмотрим более полный отчет по датасету с помощью pandas-profiling\n",
    "# from pandas_profiling import ProfileReport\n",
    "# profile = ProfileReport(df_train)\n",
    "# profile.to_notebook_iframe()"
   ]
  },
  {
   "cell_type": "markdown",
   "id": "6429e4c4",
   "metadata": {
    "papermill": {
     "duration": 0.076899,
     "end_time": "2022-02-03T17:11:45.469964",
     "exception": false,
     "start_time": "2022-02-03T17:11:45.393065",
     "status": "completed"
    },
    "tags": []
   },
   "source": [
    "Посмотрим пропуски\n"
   ]
  },
  {
   "cell_type": "code",
   "execution_count": 19,
   "id": "d8eb5c2b",
   "metadata": {
    "execution": {
     "iopub.execute_input": "2022-02-03T17:11:45.630353Z",
     "iopub.status.busy": "2022-02-03T17:11:45.629348Z",
     "iopub.status.idle": "2022-02-03T17:11:45.715755Z",
     "shell.execute_reply": "2022-02-03T17:11:45.715057Z",
     "shell.execute_reply.started": "2022-02-03T17:08:37.685147Z"
    },
    "papermill": {
     "duration": 0.168435,
     "end_time": "2022-02-03T17:11:45.715917",
     "exception": false,
     "start_time": "2022-02-03T17:11:45.547482",
     "status": "completed"
    },
    "tags": []
   },
   "outputs": [
    {
     "data": {
      "text/plain": [
       "client_id             0\n",
       "app_date              0\n",
       "education           478\n",
       "sex                   0\n",
       "age                   0\n",
       "car                   0\n",
       "car_type              0\n",
       "decline_app_cnt       0\n",
       "good_work             0\n",
       "score_bki             0\n",
       "bki_request_cnt       0\n",
       "region_rating         0\n",
       "home_address          0\n",
       "work_address          0\n",
       "income                0\n",
       "sna                   0\n",
       "first_time            0\n",
       "foreign_passport      0\n",
       "sample                0\n",
       "default               0\n",
       "dtype: int64"
      ]
     },
     "execution_count": 19,
     "metadata": {},
     "output_type": "execute_result"
    }
   ],
   "source": [
    "data.isna().sum()"
   ]
  },
  {
   "cell_type": "code",
   "execution_count": 20,
   "id": "57a20835",
   "metadata": {
    "execution": {
     "iopub.execute_input": "2022-02-03T17:11:45.894167Z",
     "iopub.status.busy": "2022-02-03T17:11:45.892377Z",
     "iopub.status.idle": "2022-02-03T17:11:45.898119Z",
     "shell.execute_reply": "2022-02-03T17:11:45.897469Z",
     "shell.execute_reply.started": "2022-02-03T17:08:37.781943Z"
    },
    "papermill": {
     "duration": 0.104737,
     "end_time": "2022-02-03T17:11:45.898279",
     "exception": false,
     "start_time": "2022-02-03T17:11:45.793542",
     "status": "completed"
    },
    "tags": []
   },
   "outputs": [
    {
     "data": {
      "text/plain": [
       "0.43"
      ]
     },
     "execution_count": 20,
     "metadata": {},
     "output_type": "execute_result"
    }
   ],
   "source": [
    "# Процент пропусков признака education\n",
    "round(data.education.isna().sum() / data.shape[0]*100, 2)"
   ]
  },
  {
   "cell_type": "markdown",
   "id": "9986e733",
   "metadata": {
    "papermill": {
     "duration": 0.077668,
     "end_time": "2022-02-03T17:11:46.054016",
     "exception": false,
     "start_time": "2022-02-03T17:11:45.976348",
     "status": "completed"
    },
    "tags": []
   },
   "source": [
    "Пропуски встречаются только в информации об образовании клиентов.\n"
   ]
  },
  {
   "cell_type": "code",
   "execution_count": 21,
   "id": "dc1b50e0",
   "metadata": {
    "execution": {
     "iopub.execute_input": "2022-02-03T17:11:46.223134Z",
     "iopub.status.busy": "2022-02-03T17:11:46.221643Z",
     "iopub.status.idle": "2022-02-03T17:11:46.264073Z",
     "shell.execute_reply": "2022-02-03T17:11:46.263492Z",
     "shell.execute_reply.started": "2022-02-03T17:08:37.805673Z"
    },
    "papermill": {
     "duration": 0.127777,
     "end_time": "2022-02-03T17:11:46.264222",
     "exception": false,
     "start_time": "2022-02-03T17:11:46.136445",
     "status": "completed"
    },
    "tags": []
   },
   "outputs": [],
   "source": [
    "# Удалим малоинформативные признаки\n",
    "data.drop(['client_id','app_date',], axis = 1, inplace=True)"
   ]
  },
  {
   "cell_type": "markdown",
   "id": "1ec6d537",
   "metadata": {
    "papermill": {
     "duration": 0.080728,
     "end_time": "2022-02-03T17:11:46.424598",
     "exception": false,
     "start_time": "2022-02-03T17:11:46.343870",
     "status": "completed"
    },
    "tags": []
   },
   "source": [
    "## Признаки сгруппируем в три категории по типу их обработки (категориальные, бинарные и числовые) для дальнейшего удобного анализа"
   ]
  },
  {
   "cell_type": "code",
   "execution_count": 22,
   "id": "e3c0f142",
   "metadata": {
    "execution": {
     "iopub.execute_input": "2022-02-03T17:11:46.588966Z",
     "iopub.status.busy": "2022-02-03T17:11:46.588252Z",
     "iopub.status.idle": "2022-02-03T17:11:46.591973Z",
     "shell.execute_reply": "2022-02-03T17:11:46.591355Z",
     "shell.execute_reply.started": "2022-02-03T17:08:37.854754Z"
    },
    "papermill": {
     "duration": 0.0894,
     "end_time": "2022-02-03T17:11:46.592144",
     "exception": false,
     "start_time": "2022-02-03T17:11:46.502744",
     "status": "completed"
    },
    "tags": []
   },
   "outputs": [],
   "source": [
    "num_cols = ['age', 'decline_app_cnt', 'score_bki', 'bki_request_cnt', 'income', 'region_rating']\n",
    "bin_cols = ['sex', 'car', 'car_type', 'good_work', 'foreign_passport']\n",
    "cat_cols = ['education', 'first_time', 'sna', 'work_address', 'home_address']"
   ]
  },
  {
   "cell_type": "markdown",
   "id": "df67cdfb",
   "metadata": {
    "papermill": {
     "duration": 0.102327,
     "end_time": "2022-02-03T17:11:46.779259",
     "exception": false,
     "start_time": "2022-02-03T17:11:46.676932",
     "status": "completed"
    },
    "tags": []
   },
   "source": [
    "## Изучим признаки"
   ]
  },
  {
   "cell_type": "markdown",
   "id": "19399484",
   "metadata": {
    "papermill": {
     "duration": 0.079203,
     "end_time": "2022-02-03T17:11:46.939147",
     "exception": false,
     "start_time": "2022-02-03T17:11:46.859944",
     "status": "completed"
    },
    "tags": []
   },
   "source": [
    "**Целевая переменная default. Посмотрим, каких клиентов у банка больше?**"
   ]
  },
  {
   "cell_type": "code",
   "execution_count": 23,
   "id": "696a91cc",
   "metadata": {
    "execution": {
     "iopub.execute_input": "2022-02-03T17:11:47.111302Z",
     "iopub.status.busy": "2022-02-03T17:11:47.110595Z",
     "iopub.status.idle": "2022-02-03T17:11:47.352940Z",
     "shell.execute_reply": "2022-02-03T17:11:47.353502Z",
     "shell.execute_reply.started": "2022-02-03T17:08:37.861556Z"
    },
    "papermill": {
     "duration": 0.331525,
     "end_time": "2022-02-03T17:11:47.353694",
     "exception": false,
     "start_time": "2022-02-03T17:11:47.022169",
     "status": "completed"
    },
    "tags": []
   },
   "outputs": [
    {
     "data": {
      "image/png": "[encoded data removed]",
      "text/plain": [
       "<Figure size 432x288 with 1 Axes>"
      ]
     },
     "metadata": {
      "needs_background": "light"
     },
     "output_type": "display_data"
    }
   ],
   "source": [
    "sns.countplot(x=\"default\", data=data);"
   ]
  },
  {
   "cell_type": "markdown",
   "id": "2cea70ca",
   "metadata": {
    "papermill": {
     "duration": 0.079464,
     "end_time": "2022-02-03T17:11:47.513134",
     "exception": false,
     "start_time": "2022-02-03T17:11:47.433670",
     "status": "completed"
    },
    "tags": []
   },
   "source": [
    "Поскольку выборка несбалансированная, то следует в качестве целевой использовать следующие метрики: precision, recall, F1-score. Они будут корректнее описывать алгоритм, чем accuracy.\n"
   ]
  },
  {
   "cell_type": "markdown",
   "id": "0f76077a",
   "metadata": {
    "papermill": {
     "duration": 0.079493,
     "end_time": "2022-02-03T17:11:47.672762",
     "exception": false,
     "start_time": "2022-02-03T17:11:47.593269",
     "status": "completed"
    },
    "tags": []
   },
   "source": [
    "## Числовые признаки"
   ]
  },
  {
   "cell_type": "code",
   "execution_count": 24,
   "id": "7f72884f",
   "metadata": {
    "execution": {
     "iopub.execute_input": "2022-02-03T17:11:47.881344Z",
     "iopub.status.busy": "2022-02-03T17:11:47.876112Z",
     "iopub.status.idle": "2022-02-03T17:11:49.626505Z",
     "shell.execute_reply": "2022-02-03T17:11:49.625788Z",
     "shell.execute_reply.started": "2022-02-03T17:08:38.074147Z"
    },
    "papermill": {
     "duration": 1.874639,
     "end_time": "2022-02-03T17:11:49.626684",
     "exception": false,
     "start_time": "2022-02-03T17:11:47.752045",
     "status": "completed"
    },
    "tags": []
   },
   "outputs": [
    {
     "data": {
      "image/png": "[encoded data removed]",
      "text/plain": [
       "<Figure size 864x1440 with 6 Axes>"
      ]
     },
     "metadata": {},
     "output_type": "display_data"
    }
   ],
   "source": [
    "# Посмотрим зависимость целевой переменной от числовых признаков\n",
    "# num_cols = ['age', 'decline_app_cnt', 'score_bki', 'bki_request_cnt', 'income']\n",
    "\n",
    "sns.set(font_scale=1.2)\n",
    "plt.subplots(figsize=(12, 20))\n",
    "k = 1  \n",
    "for col in num_cols:\n",
    "    plt.subplot(12, 1, k)\n",
    "    sns.boxplot(y=data[data['sample'] == 1].default,\n",
    "                x=data[data['sample'] == 1][col], orient='h', palette='bright')\n",
    "    k += 2"
   ]
  },
  {
   "cell_type": "markdown",
   "id": "cdeb3fc6",
   "metadata": {
    "papermill": {
     "duration": 0.081336,
     "end_time": "2022-02-03T17:11:49.794277",
     "exception": false,
     "start_time": "2022-02-03T17:11:49.712941",
     "status": "completed"
    },
    "tags": []
   },
   "source": [
    "**Предварительных выводы:**\n",
    "* Люди имеющие дефолт немного моложе\n",
    "* Количество отказанных прошлых заявок больше у людей с дефолтом\n",
    "* Скоринговый балл по данным из БКИ выше у людей с дефолтом\n",
    "* Зарплата в среднем выше в людей без дефолта\n",
    "* Количество запросов в БКИ в среднем выше у людей с дефолтом"
   ]
  },
  {
   "cell_type": "code",
   "execution_count": 25,
   "id": "3773eca7",
   "metadata": {
    "execution": {
     "iopub.execute_input": "2022-02-03T17:11:50.075026Z",
     "iopub.status.busy": "2022-02-03T17:11:50.020638Z",
     "iopub.status.idle": "2022-02-03T17:11:56.214335Z",
     "shell.execute_reply": "2022-02-03T17:11:56.213778Z",
     "shell.execute_reply.started": "2022-02-03T17:08:39.640292Z"
    },
    "papermill": {
     "duration": 6.334816,
     "end_time": "2022-02-03T17:11:56.214541",
     "exception": false,
     "start_time": "2022-02-03T17:11:49.879725",
     "status": "completed"
    },
    "tags": []
   },
   "outputs": [
    {
     "data": {
      "image/png": "[encoded data removed]",
      "text/plain": [
       "<Figure size 1440x720 with 6 Axes>"
      ]
     },
     "metadata": {},
     "output_type": "display_data"
    }
   ],
   "source": [
    "#  Визуализация - посмотрим распределение числовых признаков\n",
    "fig, axes = plt.subplots(2, 3, figsize=(20, 10))\n",
    "\n",
    "for i, col in enumerate(num_cols):\n",
    "    sns.histplot(data[col], kde=False, ax=axes.flat[i], color='royalblue')"
   ]
  },
  {
   "cell_type": "markdown",
   "id": "d5f75eb9",
   "metadata": {
    "papermill": {
     "duration": 0.08548,
     "end_time": "2022-02-03T17:11:56.387011",
     "exception": false,
     "start_time": "2022-02-03T17:11:56.301531",
     "status": "completed"
    },
    "tags": []
   },
   "source": [
    "Некоторые графики имеют правый хвост. Посмотрим на каждый признак подробнее. "
   ]
  },
  {
   "cell_type": "markdown",
   "id": "127ce653",
   "metadata": {
    "papermill": {
     "duration": 0.083657,
     "end_time": "2022-02-03T17:11:56.555618",
     "exception": false,
     "start_time": "2022-02-03T17:11:56.471961",
     "status": "completed"
    },
    "tags": []
   },
   "source": [
    "### Age"
   ]
  },
  {
   "cell_type": "code",
   "execution_count": 26,
   "id": "d6ad8798",
   "metadata": {
    "execution": {
     "iopub.execute_input": "2022-02-03T17:11:56.735620Z",
     "iopub.status.busy": "2022-02-03T17:11:56.734827Z",
     "iopub.status.idle": "2022-02-03T17:11:57.355966Z",
     "shell.execute_reply": "2022-02-03T17:11:57.356549Z",
     "shell.execute_reply.started": "2022-02-03T17:08:45.449816Z"
    },
    "papermill": {
     "duration": 0.711829,
     "end_time": "2022-02-03T17:11:57.356743",
     "exception": false,
     "start_time": "2022-02-03T17:11:56.644914",
     "status": "completed"
    },
    "tags": []
   },
   "outputs": [
    {
     "name": "stdout",
     "output_type": "stream",
     "text": [
      "25-й перцентиль: 30.0 | 75-й перцентиль: 48.0 | IQR: 18.0 |  Границы выбросов: [3.0, 75.0].\n",
      "Выбросов, согласно IQR: 0 | 0.00%\n",
      "None\n"
     ]
    },
    {
     "data": {
      "image/png": "[encoded data removed]",
      "text/plain": [
       "<Figure size 1296x432 with 1 Axes>"
      ]
     },
     "metadata": {},
     "output_type": "display_data"
    }
   ],
   "source": [
    "print(IQR_for_column('age'))\n",
    "draw_histplot('age')"
   ]
  },
  {
   "cell_type": "markdown",
   "id": "39c050af",
   "metadata": {
    "papermill": {
     "duration": 0.09073,
     "end_time": "2022-02-03T17:11:57.536735",
     "exception": false,
     "start_time": "2022-02-03T17:11:57.446005",
     "status": "completed"
    },
    "tags": []
   },
   "source": [
    "Логарифмирование сильно не помогло, оставим как есть\n"
   ]
  },
  {
   "cell_type": "markdown",
   "id": "3995394a",
   "metadata": {
    "papermill": {
     "duration": 0.108375,
     "end_time": "2022-02-03T17:11:57.731789",
     "exception": false,
     "start_time": "2022-02-03T17:11:57.623414",
     "status": "completed"
    },
    "tags": []
   },
   "source": [
    "### decline_app_cnt"
   ]
  },
  {
   "cell_type": "code",
   "execution_count": 27,
   "id": "9462a68d",
   "metadata": {
    "execution": {
     "iopub.execute_input": "2022-02-03T17:11:57.929230Z",
     "iopub.status.busy": "2022-02-03T17:11:57.928215Z",
     "iopub.status.idle": "2022-02-03T17:11:58.420914Z",
     "shell.execute_reply": "2022-02-03T17:11:58.420352Z",
     "shell.execute_reply.started": "2022-02-03T17:08:46.015526Z"
    },
    "papermill": {
     "duration": 0.584085,
     "end_time": "2022-02-03T17:11:58.421068",
     "exception": false,
     "start_time": "2022-02-03T17:11:57.836983",
     "status": "completed"
    },
    "tags": []
   },
   "outputs": [
    {
     "name": "stdout",
     "output_type": "stream",
     "text": [
      "25-й перцентиль: 0.0 | 75-й перцентиль: 0.0 | IQR: 0.0 |  Границы выбросов: [0.0, 0.0].\n",
      "Выбросов, согласно IQR: 18677 | 16.96%\n"
     ]
    },
    {
     "data": {
      "text/plain": [
       "0     91471\n",
       "1     12500\n",
       "2      3622\n",
       "3      1365\n",
       "4       606\n",
       "5       255\n",
       "6       156\n",
       "7        58\n",
       "8        37\n",
       "9        29\n",
       "10       16\n",
       "11       10\n",
       "12        5\n",
       "13        4\n",
       "14        3\n",
       "16        3\n",
       "21        1\n",
       "30        1\n",
       "20        1\n",
       "19        1\n",
       "22        1\n",
       "33        1\n",
       "15        1\n",
       "24        1\n",
       "Name: decline_app_cnt, dtype: int64"
      ]
     },
     "metadata": {},
     "output_type": "display_data"
    },
    {
     "data": {
      "image/png": "[encoded data removed]",
      "text/plain": [
       "<Figure size 1296x432 with 1 Axes>"
      ]
     },
     "metadata": {},
     "output_type": "display_data"
    }
   ],
   "source": [
    "IQR_for_column('decline_app_cnt')\n",
    "display(data.decline_app_cnt.value_counts())\n",
    "draw_histplot('decline_app_cnt')"
   ]
  },
  {
   "cell_type": "code",
   "execution_count": 28,
   "id": "630dccbb",
   "metadata": {
    "execution": {
     "iopub.execute_input": "2022-02-03T17:11:58.612498Z",
     "iopub.status.busy": "2022-02-03T17:11:58.611069Z",
     "iopub.status.idle": "2022-02-03T17:11:59.129129Z",
     "shell.execute_reply": "2022-02-03T17:11:59.130134Z",
     "shell.execute_reply.started": "2022-02-03T17:08:46.474627Z"
    },
    "papermill": {
     "duration": 0.614824,
     "end_time": "2022-02-03T17:11:59.130407",
     "exception": false,
     "start_time": "2022-02-03T17:11:58.515583",
     "status": "completed"
    },
    "tags": []
   },
   "outputs": [
    {
     "name": "stdout",
     "output_type": "stream",
     "text": [
      "25-й перцентиль: 0.0 | 75-й перцентиль: 0.0 | IQR: 0.0 |  Границы выбросов: [0.0, 0.0].\n",
      "Выбросов, согласно IQR: 18677 | 16.96%\n"
     ]
    },
    {
     "data": {
      "image/png": "[encoded data removed]",
      "text/plain": [
       "<Figure size 1296x432 with 1 Axes>"
      ]
     },
     "metadata": {},
     "output_type": "display_data"
    }
   ],
   "source": [
    "# Логарифмируем данный признак\n",
    "draw_log_column('decline_app_cnt')\n"
   ]
  },
  {
   "cell_type": "markdown",
   "id": "7d420c6c",
   "metadata": {
    "papermill": {
     "duration": 0.090647,
     "end_time": "2022-02-03T17:11:59.313145",
     "exception": false,
     "start_time": "2022-02-03T17:11:59.222498",
     "status": "completed"
    },
    "tags": []
   },
   "source": [
    "Рапределение стало немного лучше, хотя количество выбросов согласно IQR не уменьшилось\n"
   ]
  },
  {
   "cell_type": "markdown",
   "id": "363b5337",
   "metadata": {
    "papermill": {
     "duration": 0.090222,
     "end_time": "2022-02-03T17:11:59.492820",
     "exception": false,
     "start_time": "2022-02-03T17:11:59.402598",
     "status": "completed"
    },
    "tags": []
   },
   "source": [
    "### score_bki"
   ]
  },
  {
   "cell_type": "code",
   "execution_count": 29,
   "id": "0695d1e0",
   "metadata": {
    "execution": {
     "iopub.execute_input": "2022-02-03T17:11:59.679729Z",
     "iopub.status.busy": "2022-02-03T17:11:59.678545Z",
     "iopub.status.idle": "2022-02-03T17:12:00.550472Z",
     "shell.execute_reply": "2022-02-03T17:12:00.551031Z",
     "shell.execute_reply.started": "2022-02-03T17:08:46.956390Z"
    },
    "papermill": {
     "duration": 0.967758,
     "end_time": "2022-02-03T17:12:00.551706",
     "exception": false,
     "start_time": "2022-02-03T17:11:59.583948",
     "status": "completed"
    },
    "tags": []
   },
   "outputs": [
    {
     "name": "stdout",
     "output_type": "stream",
     "text": [
      "25-й перцентиль: -2.2604336700000003 | 75-й перцентиль: -1.5678881525 | IQR: 0.6925455175000004 |  Границы выбросов: [-3.299251946250001, -0.5290698762499992].\n",
      "Выбросов, согласно IQR: 518 | 0.47%\n"
     ]
    },
    {
     "data": {
      "text/plain": [
       "-1.775263    517\n",
       "-2.104211    454\n",
       "-2.225004    424\n",
       "-2.169664    375\n",
       "-2.024100    278\n",
       "            ... \n",
       "-1.524932      1\n",
       "-1.927042      1\n",
       "-2.006384      1\n",
       "-1.904967      1\n",
       "-1.764711      1\n",
       "Name: score_bki, Length: 102618, dtype: int64"
      ]
     },
     "metadata": {},
     "output_type": "display_data"
    },
    {
     "data": {
      "image/png": "[encoded data removed]",
      "text/plain": [
       "<Figure size 1296x432 with 1 Axes>"
      ]
     },
     "metadata": {},
     "output_type": "display_data"
    }
   ],
   "source": [
    "IQR_for_column('score_bki')\n",
    "display(data.score_bki.value_counts())\n",
    "draw_histplot('score_bki', discrete=False)"
   ]
  },
  {
   "cell_type": "code",
   "execution_count": 30,
   "id": "2d855ee5",
   "metadata": {
    "execution": {
     "iopub.execute_input": "2022-02-03T17:12:00.760316Z",
     "iopub.status.busy": "2022-02-03T17:12:00.759270Z",
     "iopub.status.idle": "2022-02-03T17:12:00.762673Z",
     "shell.execute_reply": "2022-02-03T17:12:00.763167Z",
     "shell.execute_reply.started": "2022-02-03T17:08:47.701704Z"
    },
    "papermill": {
     "duration": 0.108551,
     "end_time": "2022-02-03T17:12:00.763415",
     "exception": false,
     "start_time": "2022-02-03T17:12:00.654864",
     "status": "completed"
    },
    "tags": []
   },
   "outputs": [],
   "source": [
    "# Логарифмируем\n",
    "# draw_log_column('score_bki')"
   ]
  },
  {
   "cell_type": "markdown",
   "id": "a9f8cad1",
   "metadata": {
    "papermill": {
     "duration": 0.096754,
     "end_time": "2022-02-03T17:12:00.958004",
     "exception": false,
     "start_time": "2022-02-03T17:12:00.861250",
     "status": "completed"
    },
    "tags": []
   },
   "source": [
    "При логарифмировании количество выбросов уменьшится, но распределение станет хуже. Оставим без изменения\n"
   ]
  },
  {
   "cell_type": "markdown",
   "id": "6802ffff",
   "metadata": {
    "papermill": {
     "duration": 0.096525,
     "end_time": "2022-02-03T17:12:01.150156",
     "exception": false,
     "start_time": "2022-02-03T17:12:01.053631",
     "status": "completed"
    },
    "tags": []
   },
   "source": [
    "### income"
   ]
  },
  {
   "cell_type": "code",
   "execution_count": 31,
   "id": "8cd50fe1",
   "metadata": {
    "execution": {
     "iopub.execute_input": "2022-02-03T17:12:01.346829Z",
     "iopub.status.busy": "2022-02-03T17:12:01.345669Z",
     "iopub.status.idle": "2022-02-03T17:12:03.676204Z",
     "shell.execute_reply": "2022-02-03T17:12:03.675249Z",
     "shell.execute_reply.started": "2022-02-03T17:08:47.709032Z"
    },
    "papermill": {
     "duration": 2.43335,
     "end_time": "2022-02-03T17:12:03.676359",
     "exception": false,
     "start_time": "2022-02-03T17:12:01.243009",
     "status": "completed"
    },
    "tags": []
   },
   "outputs": [
    {
     "name": "stdout",
     "output_type": "stream",
     "text": [
      "25-й перцентиль: 20000.0 | 75-й перцентиль: 48000.0 | IQR: 28000.0 |  Границы выбросов: [-22000.0, 90000.0].\n",
      "Выбросов, согласно IQR: 7000 | 6.36%\n"
     ]
    },
    {
     "data": {
      "text/plain": [
       "30000     10437\n",
       "25000      9090\n",
       "20000      8174\n",
       "40000      7383\n",
       "50000      6742\n",
       "          ...  \n",
       "49700         1\n",
       "14271         1\n",
       "38100         1\n",
       "426000        1\n",
       "100600        1\n",
       "Name: income, Length: 1207, dtype: int64"
      ]
     },
     "metadata": {},
     "output_type": "display_data"
    },
    {
     "data": {
      "image/png": "[encoded data removed]",
      "text/plain": [
       "<Figure size 1296x432 with 1 Axes>"
      ]
     },
     "metadata": {},
     "output_type": "display_data"
    }
   ],
   "source": [
    "IQR_for_column('income')\n",
    "display(data.income.value_counts())\n",
    "draw_histplot('income', discrete=False)"
   ]
  },
  {
   "cell_type": "code",
   "execution_count": 32,
   "id": "e23e5456",
   "metadata": {
    "execution": {
     "iopub.execute_input": "2022-02-03T17:12:03.873356Z",
     "iopub.status.busy": "2022-02-03T17:12:03.872667Z",
     "iopub.status.idle": "2022-02-03T17:12:04.765900Z",
     "shell.execute_reply": "2022-02-03T17:12:04.766404Z",
     "shell.execute_reply.started": "2022-02-03T17:08:49.898838Z"
    },
    "papermill": {
     "duration": 0.992339,
     "end_time": "2022-02-03T17:12:04.766606",
     "exception": false,
     "start_time": "2022-02-03T17:12:03.774267",
     "status": "completed"
    },
    "tags": []
   },
   "outputs": [
    {
     "name": "stdout",
     "output_type": "stream",
     "text": [
      "25-й перцентиль: 9.90353755128617 | 75-й перцентиль: 10.778977123006351 | IQR: 0.8754395717201806 |  Границы выбросов: [8.590378193705899, 12.092136480586621].\n",
      "Выбросов, согласно IQR: 2609 | 2.37%\n"
     ]
    },
    {
     "data": {
      "image/png": "[encoded data removed]",
      "text/plain": [
       "<Figure size 1296x432 with 1 Axes>"
      ]
     },
     "metadata": {},
     "output_type": "display_data"
    }
   ],
   "source": [
    "# Логарифмируем\n",
    "draw_log_column('income')"
   ]
  },
  {
   "cell_type": "markdown",
   "id": "5520ab7b",
   "metadata": {
    "papermill": {
     "duration": 0.095904,
     "end_time": "2022-02-03T17:12:04.960682",
     "exception": false,
     "start_time": "2022-02-03T17:12:04.864778",
     "status": "completed"
    },
    "tags": []
   },
   "source": [
    "Распределение стало напоминать нормальное. Почти в три раза уменьшилось количество выбросов\n"
   ]
  },
  {
   "cell_type": "markdown",
   "id": "03cdea90",
   "metadata": {
    "papermill": {
     "duration": 0.093677,
     "end_time": "2022-02-03T17:12:05.151313",
     "exception": false,
     "start_time": "2022-02-03T17:12:05.057636",
     "status": "completed"
    },
    "tags": []
   },
   "source": [
    "### bki_request_cnt"
   ]
  },
  {
   "cell_type": "code",
   "execution_count": 33,
   "id": "27d3330c",
   "metadata": {
    "execution": {
     "iopub.execute_input": "2022-02-03T17:12:05.346533Z",
     "iopub.status.busy": "2022-02-03T17:12:05.345688Z",
     "iopub.status.idle": "2022-02-03T17:12:07.005613Z",
     "shell.execute_reply": "2022-02-03T17:12:07.004528Z",
     "shell.execute_reply.started": "2022-02-03T17:08:50.949140Z"
    },
    "papermill": {
     "duration": 1.75707,
     "end_time": "2022-02-03T17:12:07.005880",
     "exception": false,
     "start_time": "2022-02-03T17:12:05.248810",
     "status": "completed"
    },
    "tags": []
   },
   "outputs": [
    {
     "name": "stdout",
     "output_type": "stream",
     "text": [
      "25-й перцентиль: 0.0 | 75-й перцентиль: 3.0 | IQR: 3.0 |  Границы выбросов: [-4.5, 7.5].\n",
      "Выбросов, согласно IQR: 2636 | 2.39%\n",
      "None\n"
     ]
    },
    {
     "data": {
      "text/plain": [
       "0     28908\n",
       "1     27295\n",
       "2     20481\n",
       "3     13670\n",
       "4      8406\n",
       "5      4960\n",
       "6      2500\n",
       "7      1292\n",
       "8       735\n",
       "9       459\n",
       "10      350\n",
       "11      278\n",
       "12      217\n",
       "13      151\n",
       "14      110\n",
       "15       81\n",
       "16       58\n",
       "17       33\n",
       "18       32\n",
       "19       30\n",
       "21       19\n",
       "20       14\n",
       "23       12\n",
       "24       12\n",
       "22        8\n",
       "28        5\n",
       "25        5\n",
       "27        5\n",
       "26        4\n",
       "32        4\n",
       "29        3\n",
       "33        2\n",
       "40        2\n",
       "47        1\n",
       "34        1\n",
       "36        1\n",
       "53        1\n",
       "45        1\n",
       "41        1\n",
       "46        1\n",
       "Name: bki_request_cnt, dtype: int64"
      ]
     },
     "metadata": {},
     "output_type": "display_data"
    },
    {
     "data": {
      "image/png": "[encoded data removed]",
      "text/plain": [
       "<Figure size 1296x432 with 1 Axes>"
      ]
     },
     "metadata": {},
     "output_type": "display_data"
    }
   ],
   "source": [
    "print(IQR_for_column('bki_request_cnt'))\n",
    "display(data.bki_request_cnt.value_counts())\n",
    "draw_histplot('bki_request_cnt')"
   ]
  },
  {
   "cell_type": "code",
   "execution_count": 34,
   "id": "3455a875",
   "metadata": {
    "execution": {
     "iopub.execute_input": "2022-02-03T17:12:07.210471Z",
     "iopub.status.busy": "2022-02-03T17:12:07.209703Z",
     "iopub.status.idle": "2022-02-03T17:12:07.893794Z",
     "shell.execute_reply": "2022-02-03T17:12:07.892996Z",
     "shell.execute_reply.started": "2022-02-03T17:08:52.231616Z"
    },
    "papermill": {
     "duration": 0.789281,
     "end_time": "2022-02-03T17:12:07.894005",
     "exception": false,
     "start_time": "2022-02-03T17:12:07.104724",
     "status": "completed"
    },
    "tags": []
   },
   "outputs": [
    {
     "name": "stdout",
     "output_type": "stream",
     "text": [
      "25-й перцентиль: 0.0 | 75-й перцентиль: 1.3862943611198906 | IQR: 1.3862943611198906 |  Границы выбросов: [-2.0794415416798357, 3.465735902799726].\n",
      "Выбросов, согласно IQR: 15 | 0.01%\n"
     ]
    },
    {
     "data": {
      "image/png": "[encoded data removed]",
      "text/plain": [
       "<Figure size 1296x432 with 1 Axes>"
      ]
     },
     "metadata": {},
     "output_type": "display_data"
    }
   ],
   "source": [
    "# Логарифмируем\n",
    "draw_log_column('bki_request_cnt')"
   ]
  },
  {
   "cell_type": "markdown",
   "id": "b40a9524",
   "metadata": {
    "papermill": {
     "duration": 0.101149,
     "end_time": "2022-02-03T17:12:08.102648",
     "exception": false,
     "start_time": "2022-02-03T17:12:08.001499",
     "status": "completed"
    },
    "tags": []
   },
   "source": [
    "### region_rating"
   ]
  },
  {
   "cell_type": "code",
   "execution_count": 35,
   "id": "58233926",
   "metadata": {
    "execution": {
     "iopub.execute_input": "2022-02-03T17:12:08.321203Z",
     "iopub.status.busy": "2022-02-03T17:12:08.320414Z",
     "iopub.status.idle": "2022-02-03T17:12:09.129257Z",
     "shell.execute_reply": "2022-02-03T17:12:09.128688Z",
     "shell.execute_reply.started": "2022-02-03T17:08:52.834918Z"
    },
    "papermill": {
     "duration": 0.917114,
     "end_time": "2022-02-03T17:12:09.129433",
     "exception": false,
     "start_time": "2022-02-03T17:12:08.212319",
     "status": "completed"
    },
    "tags": []
   },
   "outputs": [
    {
     "name": "stdout",
     "output_type": "stream",
     "text": [
      "25-й перцентиль: 50.0 | 75-й перцентиль: 60.0 | IQR: 10.0 |  Границы выбросов: [35.0, 75.0].\n",
      "Выбросов, согласно IQR: 17917 | 16.27%\n"
     ]
    },
    {
     "data": {
      "text/plain": [
       "50    40981\n",
       "60    23999\n",
       "40    17947\n",
       "80    17170\n",
       "70     9304\n",
       "30      434\n",
       "20      313\n",
       "Name: region_rating, dtype: int64"
      ]
     },
     "metadata": {},
     "output_type": "display_data"
    },
    {
     "data": {
      "image/png": "[encoded data removed]",
      "text/plain": [
       "<Figure size 1296x432 with 1 Axes>"
      ]
     },
     "metadata": {},
     "output_type": "display_data"
    }
   ],
   "source": [
    "IQR_for_column('region_rating')\n",
    "display(data.region_rating.value_counts())\n",
    "draw_histplot('region_rating')"
   ]
  },
  {
   "cell_type": "markdown",
   "id": "e5d8da44",
   "metadata": {
    "papermill": {
     "duration": 0.098917,
     "end_time": "2022-02-03T17:12:09.326921",
     "exception": false,
     "start_time": "2022-02-03T17:12:09.228004",
     "status": "completed"
    },
    "tags": []
   },
   "source": [
    "Распределение улучшилось. Почти все выбросы пропали."
   ]
  },
  {
   "cell_type": "markdown",
   "id": "5662b06c",
   "metadata": {
    "papermill": {
     "duration": 0.0968,
     "end_time": "2022-02-03T17:12:09.525196",
     "exception": false,
     "start_time": "2022-02-03T17:12:09.428396",
     "status": "completed"
    },
    "tags": []
   },
   "source": [
    "### Мартица корреляции для числовых признаков"
   ]
  },
  {
   "cell_type": "code",
   "execution_count": 36,
   "id": "df9d79a1",
   "metadata": {
    "execution": {
     "iopub.execute_input": "2022-02-03T17:12:09.734938Z",
     "iopub.status.busy": "2022-02-03T17:12:09.733833Z",
     "iopub.status.idle": "2022-02-03T17:12:10.296295Z",
     "shell.execute_reply": "2022-02-03T17:12:10.295355Z",
     "shell.execute_reply.started": "2022-02-03T17:08:53.572378Z"
    },
    "papermill": {
     "duration": 0.672248,
     "end_time": "2022-02-03T17:12:10.296527",
     "exception": false,
     "start_time": "2022-02-03T17:12:09.624279",
     "status": "completed"
    },
    "tags": []
   },
   "outputs": [
    {
     "data": {
      "text/plain": [
       "<AxesSubplot:>"
      ]
     },
     "execution_count": 36,
     "metadata": {},
     "output_type": "execute_result"
    },
    {
     "data": {
      "image/png": "[encoded data removed]",
      "text/plain": [
       "<Figure size 432x360 with 2 Axes>"
      ]
     },
     "metadata": {},
     "output_type": "display_data"
    }
   ],
   "source": [
    "sns.set(font_scale=1)\n",
    "plt.subplots(figsize=(6, 5))\n",
    "sns.heatmap(data[num_cols].corr(), annot=True, fmt='.2f', linewidths=0.1, cmap=\"coolwarm\")"
   ]
  },
  {
   "cell_type": "markdown",
   "id": "68675ced",
   "metadata": {
    "papermill": {
     "duration": 0.103481,
     "end_time": "2022-02-03T17:12:10.505771",
     "exception": false,
     "start_time": "2022-02-03T17:12:10.402290",
     "status": "completed"
    },
    "tags": []
   },
   "source": [
    "Сильной зависимости между числовыми признаками нет"
   ]
  },
  {
   "cell_type": "markdown",
   "id": "92550ba1",
   "metadata": {
    "papermill": {
     "duration": 0.1033,
     "end_time": "2022-02-03T17:12:10.716642",
     "exception": false,
     "start_time": "2022-02-03T17:12:10.613342",
     "status": "completed"
    },
    "tags": []
   },
   "source": [
    "## Категориальные признаки"
   ]
  },
  {
   "cell_type": "markdown",
   "id": "920b11b3",
   "metadata": {
    "papermill": {
     "duration": 0.104356,
     "end_time": "2022-02-03T17:12:10.920722",
     "exception": false,
     "start_time": "2022-02-03T17:12:10.816366",
     "status": "completed"
    },
    "tags": []
   },
   "source": [
    "### education"
   ]
  },
  {
   "cell_type": "code",
   "execution_count": 37,
   "id": "4fd8528b",
   "metadata": {
    "execution": {
     "iopub.execute_input": "2022-02-03T17:12:11.138470Z",
     "iopub.status.busy": "2022-02-03T17:12:11.137350Z",
     "iopub.status.idle": "2022-02-03T17:12:11.674670Z",
     "shell.execute_reply": "2022-02-03T17:12:11.675927Z",
     "shell.execute_reply.started": "2022-02-03T17:08:54.145535Z"
    },
    "papermill": {
     "duration": 0.649833,
     "end_time": "2022-02-03T17:12:11.676266",
     "exception": false,
     "start_time": "2022-02-03T17:12:11.026433",
     "status": "completed"
    },
    "tags": []
   },
   "outputs": [
    {
     "name": "stdout",
     "output_type": "stream",
     "text": [
      "SCH    57998\n",
      "GRD    34768\n",
      "UGR    14748\n",
      "PGR     1865\n",
      "NaN      478\n",
      "ACD      291\n",
      "Name: education, dtype: int64\n",
      "SCH    0.526546\n",
      "GRD    0.315648\n",
      "UGR    0.133893\n",
      "PGR    0.016932\n",
      "NaN    0.004340\n",
      "ACD    0.002642\n",
      "Name: education, dtype: float64\n"
     ]
    },
    {
     "data": {
      "text/plain": [
       "<AxesSubplot:title={'center':'Образование'}, xlabel='count', ylabel='education'>"
      ]
     },
     "execution_count": 37,
     "metadata": {},
     "output_type": "execute_result"
    },
    {
     "data": {
      "image/png": "[encoded data removed]",
      "text/plain": [
       "<Figure size 1440x288 with 1 Axes>"
      ]
     },
     "metadata": {},
     "output_type": "display_data"
    }
   ],
   "source": [
    "print(data.education.value_counts(dropna=False))\n",
    "print(data.education.value_counts(dropna=False, normalize=True))\n",
    "\n",
    "sns.set(font_scale=1.5)\n",
    "plt.subplots(figsize=(20, 4))\n",
    "plt.title('Образование')\n",
    "sns.countplot(y=\"education\", data=data, palette='bright')"
   ]
  },
  {
   "cell_type": "markdown",
   "id": "2ac2b64c",
   "metadata": {
    "papermill": {
     "duration": 0.111817,
     "end_time": "2022-02-03T17:12:11.895407",
     "exception": false,
     "start_time": "2022-02-03T17:12:11.783590",
     "status": "completed"
    },
    "tags": []
   },
   "source": [
    "Пропусков менее 5%"
   ]
  },
  {
   "cell_type": "code",
   "execution_count": 38,
   "id": "4d54ea6a",
   "metadata": {
    "execution": {
     "iopub.execute_input": "2022-02-03T17:12:12.121661Z",
     "iopub.status.busy": "2022-02-03T17:12:12.120838Z",
     "iopub.status.idle": "2022-02-03T17:12:12.650310Z",
     "shell.execute_reply": "2022-02-03T17:12:12.650862Z",
     "shell.execute_reply.started": "2022-02-03T17:08:54.639324Z"
    },
    "papermill": {
     "duration": 0.65535,
     "end_time": "2022-02-03T17:12:12.651074",
     "exception": false,
     "start_time": "2022-02-03T17:12:11.995724",
     "status": "completed"
    },
    "tags": []
   },
   "outputs": [
    {
     "data": {
      "text/plain": [
       "<AxesSubplot:xlabel='Count', ylabel='education'>"
      ]
     },
     "execution_count": 38,
     "metadata": {},
     "output_type": "execute_result"
    },
    {
     "data": {
      "image/png": "[encoded data removed]",
      "text/plain": [
       "<Figure size 720x360 with 1 Axes>"
      ]
     },
     "metadata": {},
     "output_type": "display_data"
    }
   ],
   "source": [
    "# Заменим пропуски на наиболее частое значение\n",
    "data.education.fillna('SCH', inplace=True)\n",
    "sns.set(font_scale=1.5)\n",
    "plt.subplots(figsize=(10, 5))\n",
    "sns.histplot(data=data[data['sample'] == 1], y=\"education\",\n",
    "             hue=\"default\", multiple=\"dodge\", shrink=.8, palette='bright')"
   ]
  },
  {
   "cell_type": "markdown",
   "id": "4269fd52",
   "metadata": {
    "papermill": {
     "duration": 0.106691,
     "end_time": "2022-02-03T17:12:12.863905",
     "exception": false,
     "start_time": "2022-02-03T17:12:12.757214",
     "status": "completed"
    },
    "tags": []
   },
   "source": []
  },
  {
   "cell_type": "code",
   "execution_count": 39,
   "id": "3d3b32a4",
   "metadata": {
    "execution": {
     "iopub.execute_input": "2022-02-03T17:12:13.087252Z",
     "iopub.status.busy": "2022-02-03T17:12:13.085931Z",
     "iopub.status.idle": "2022-02-03T17:12:13.597110Z",
     "shell.execute_reply": "2022-02-03T17:12:13.597706Z",
     "shell.execute_reply.started": "2022-02-03T17:08:55.140647Z"
    },
    "papermill": {
     "duration": 0.623782,
     "end_time": "2022-02-03T17:12:13.597973",
     "exception": false,
     "start_time": "2022-02-03T17:12:12.974191",
     "status": "completed"
    },
    "tags": []
   },
   "outputs": [
    {
     "data": {
      "text/plain": [
       "<AxesSubplot:xlabel='Count', ylabel='education'>"
      ]
     },
     "execution_count": 39,
     "metadata": {},
     "output_type": "execute_result"
    },
    {
     "data": {
      "image/png": "[encoded data removed]",
      "text/plain": [
       "<Figure size 720x360 with 1 Axes>"
      ]
     },
     "metadata": {},
     "output_type": "display_data"
    }
   ],
   "source": [
    "# Заменим пропуски на наиболее частое значение\n",
    "data.education.fillna('SCH', inplace=True)\n",
    "sns.set(font_scale=1.5)\n",
    "plt.subplots(figsize=(10, 5))\n",
    "sns.histplot(data=data[data['sample'] == 1], y=\"education\",\n",
    "             hue=\"default\", multiple=\"dodge\", shrink=.8, palette='bright')"
   ]
  },
  {
   "cell_type": "markdown",
   "id": "cf226a50",
   "metadata": {
    "papermill": {
     "duration": 0.107334,
     "end_time": "2022-02-03T17:12:13.827962",
     "exception": false,
     "start_time": "2022-02-03T17:12:13.720628",
     "status": "completed"
    },
    "tags": []
   },
   "source": [
    "### work_address, home_address, sna, first_time"
   ]
  },
  {
   "cell_type": "code",
   "execution_count": 40,
   "id": "0b80ce87",
   "metadata": {
    "execution": {
     "iopub.execute_input": "2022-02-03T17:12:14.054808Z",
     "iopub.status.busy": "2022-02-03T17:12:14.053987Z",
     "iopub.status.idle": "2022-02-03T17:12:14.861400Z",
     "shell.execute_reply": "2022-02-03T17:12:14.862308Z",
     "shell.execute_reply.started": "2022-02-03T17:08:55.640623Z"
    },
    "papermill": {
     "duration": 0.921807,
     "end_time": "2022-02-03T17:12:14.862631",
     "exception": false,
     "start_time": "2022-02-03T17:12:13.940824",
     "status": "completed"
    },
    "tags": []
   },
   "outputs": [
    {
     "name": "stdout",
     "output_type": "stream",
     "text": [
      "3    0.609298\n",
      "2    0.279270\n",
      "1    0.111432\n",
      "Name: work_address, dtype: float64\n",
      "2    0.541008\n",
      "1    0.442023\n",
      "3    0.016968\n",
      "Name: home_address, dtype: float64\n",
      "1    0.641691\n",
      "4    0.158705\n",
      "2    0.143734\n",
      "3    0.055870\n",
      "Name: sna, dtype: float64\n",
      "3    0.422958\n",
      "4    0.254358\n",
      "1    0.166104\n",
      "2    0.156580\n",
      "Name: first_time, dtype: float64\n"
     ]
    },
    {
     "data": {
      "image/png": "[encoded data removed]",
      "text/plain": [
       "<Figure size 1296x864 with 4 Axes>"
      ]
     },
     "metadata": {},
     "output_type": "display_data"
    }
   ],
   "source": [
    "# Оставшиеся категориальные признаки\n",
    "cat_col = ['work_address','home_address','sna','first_time'] \n",
    "\n",
    "for col in cat_col:\n",
    "    print(data[col].value_counts(normalize=True))\n",
    "    \n",
    "plt.subplots(figsize=(18, 12))\n",
    "for i,col in enumerate(cat_col):\n",
    "    plt.subplot(2, 2, i+1)\n",
    "    sns.countplot(x=col, data=data, palette='bright')"
   ]
  },
  {
   "cell_type": "markdown",
   "id": "42aec016",
   "metadata": {
    "papermill": {
     "duration": 0.108173,
     "end_time": "2022-02-03T17:12:15.078926",
     "exception": false,
     "start_time": "2022-02-03T17:12:14.970753",
     "status": "completed"
    },
    "tags": []
   },
   "source": [
    "## Бинарные признаки"
   ]
  },
  {
   "cell_type": "code",
   "execution_count": 41,
   "id": "a3527536",
   "metadata": {
    "execution": {
     "iopub.execute_input": "2022-02-03T17:12:15.307570Z",
     "iopub.status.busy": "2022-02-03T17:12:15.297496Z",
     "iopub.status.idle": "2022-02-03T17:12:15.533331Z",
     "shell.execute_reply": "2022-02-03T17:12:15.532602Z",
     "shell.execute_reply.started": "2022-02-03T17:08:56.408961Z"
    },
    "papermill": {
     "duration": 0.346019,
     "end_time": "2022-02-03T17:12:15.533512",
     "exception": false,
     "start_time": "2022-02-03T17:12:15.187493",
     "status": "completed"
    },
    "tags": []
   },
   "outputs": [
    {
     "data": {
      "text/plain": [
       "{'sex': {0: 'F', 1: 'M'},\n",
       " 'car': {0: 'N', 1: 'Y'},\n",
       " 'car_type': {0: 'N', 1: 'Y'},\n",
       " 'good_work': {0: 0, 1: 1},\n",
       " 'foreign_passport': {0: 'N', 1: 'Y'},\n",
       " 'education': {0: 'ACD', 1: 'GRD', 2: 'PGR', 3: 'SCH', 4: 'UGR'}}"
      ]
     },
     "execution_count": 41,
     "metadata": {},
     "output_type": "execute_result"
    }
   ],
   "source": [
    "# Перекодируем бинарные признаки и признак с образованием\n",
    "# bin_cols = ['sex', 'car', 'car_type', 'good_work', 'foreign_passport']\n",
    "\n",
    "keys_for_bin = {}\n",
    "le = LabelEncoder()\n",
    "\n",
    "for column in bin_cols:\n",
    "    data[column] = le.fit_transform(data[column])\n",
    "    keys_for_bin[column] = dict(enumerate(le.classes_))\n",
    "\n",
    "columns = ['first_time', 'sna', 'work_address',\n",
    "           'home_address', 'region_rating']\n",
    "\n",
    "for column in columns:\n",
    "    data[column] = le.fit_transform(data[column])\n",
    "    \n",
    "data['education'] = le.fit_transform(data['education'])  \n",
    "keys_for_bin['education'] = dict(enumerate(le.classes_))\n",
    "keys_for_bin  "
   ]
  },
  {
   "cell_type": "markdown",
   "id": "164a56ba",
   "metadata": {
    "papermill": {
     "duration": 0.107526,
     "end_time": "2022-02-03T17:12:15.752611",
     "exception": false,
     "start_time": "2022-02-03T17:12:15.645085",
     "status": "completed"
    },
    "tags": []
   },
   "source": [
    "## Значимость признаков"
   ]
  },
  {
   "cell_type": "code",
   "execution_count": 42,
   "id": "dc882d55",
   "metadata": {
    "execution": {
     "iopub.execute_input": "2022-02-03T17:12:15.979707Z",
     "iopub.status.busy": "2022-02-03T17:12:15.978962Z",
     "iopub.status.idle": "2022-02-03T17:12:16.319758Z",
     "shell.execute_reply": "2022-02-03T17:12:16.318986Z",
     "shell.execute_reply.started": "2022-02-03T17:08:56.640988Z"
    },
    "papermill": {
     "duration": 0.457164,
     "end_time": "2022-02-03T17:12:16.319923",
     "exception": false,
     "start_time": "2022-02-03T17:12:15.862759",
     "status": "completed"
    },
    "tags": []
   },
   "outputs": [
    {
     "data": {
      "text/plain": [
       "<AxesSubplot:>"
      ]
     },
     "execution_count": 42,
     "metadata": {},
     "output_type": "execute_result"
    },
    {
     "data": {
      "image/png": "[encoded data removed]",
      "text/plain": [
       "<Figure size 432x288 with 1 Axes>"
      ]
     },
     "metadata": {},
     "output_type": "display_data"
    }
   ],
   "source": [
    "# Значимость для числовых признаков\n",
    "temp_df = data[data['sample'] == 1]\n",
    "imp_num = Series(f_classif(temp_df[num_cols], temp_df['default'])[\n",
    "                 0], index=num_cols)\n",
    "imp_num.sort_values(inplace=True)\n",
    "imp_num.plot(kind = 'barh')"
   ]
  },
  {
   "cell_type": "markdown",
   "id": "4866c43f",
   "metadata": {
    "execution": {
     "iopub.execute_input": "2022-02-03T16:58:07.513205Z",
     "iopub.status.busy": "2022-02-03T16:58:07.512931Z",
     "iopub.status.idle": "2022-02-03T16:58:07.519347Z",
     "shell.execute_reply": "2022-02-03T16:58:07.518275Z",
     "shell.execute_reply.started": "2022-02-03T16:58:07.513173Z"
    },
    "papermill": {
     "duration": 0.114661,
     "end_time": "2022-02-03T17:12:16.541832",
     "exception": false,
     "start_time": "2022-02-03T17:12:16.427171",
     "status": "completed"
    },
    "tags": []
   },
   "source": [
    "Наиболее значим для целевой переменной score_bki, возраст менее значим"
   ]
  },
  {
   "cell_type": "code",
   "execution_count": 43,
   "id": "7cf97f25",
   "metadata": {
    "execution": {
     "iopub.execute_input": "2022-02-03T17:12:16.781012Z",
     "iopub.status.busy": "2022-02-03T17:12:16.780034Z",
     "iopub.status.idle": "2022-02-03T17:12:17.145521Z",
     "shell.execute_reply": "2022-02-03T17:12:17.144817Z",
     "shell.execute_reply.started": "2022-02-03T17:08:56.909829Z"
    },
    "papermill": {
     "duration": 0.490979,
     "end_time": "2022-02-03T17:12:17.145684",
     "exception": false,
     "start_time": "2022-02-03T17:12:16.654705",
     "status": "completed"
    },
    "tags": []
   },
   "outputs": [
    {
     "data": {
      "text/plain": [
       "<AxesSubplot:>"
      ]
     },
     "execution_count": 43,
     "metadata": {},
     "output_type": "execute_result"
    },
    {
     "data": {
      "image/png": "[encoded data removed]",
      "text/plain": [
       "<Figure size 432x288 with 1 Axes>"
      ]
     },
     "metadata": {},
     "output_type": "display_data"
    }
   ],
   "source": [
    "# Значимость для бинарных признаков\n",
    "temp_df = data[data['sample'] == 1]\n",
    "imp_bin = Series(mutual_info_classif(\n",
    "    temp_df[bin_cols], temp_df['default'], discrete_features=True), index=bin_cols)\n",
    "imp_bin.sort_values(inplace=True)\n",
    "imp_bin.plot(kind = 'barh')"
   ]
  },
  {
   "cell_type": "markdown",
   "id": "2f10ff70",
   "metadata": {
    "execution": {
     "iopub.execute_input": "2022-02-03T16:58:55.451663Z",
     "iopub.status.busy": "2022-02-03T16:58:55.451294Z",
     "iopub.status.idle": "2022-02-03T16:58:55.457953Z",
     "shell.execute_reply": "2022-02-03T16:58:55.456761Z",
     "shell.execute_reply.started": "2022-02-03T16:58:55.451626Z"
    },
    "papermill": {
     "duration": 0.113266,
     "end_time": "2022-02-03T17:12:17.374539",
     "exception": false,
     "start_time": "2022-02-03T17:12:17.261273",
     "status": "completed"
    },
    "tags": []
   },
   "source": [
    "Наибольшее значение имеют наличие загранпаспорта и тип авто. Пол влиет меньше всего"
   ]
  },
  {
   "cell_type": "code",
   "execution_count": 44,
   "id": "4bb7c4b9",
   "metadata": {
    "execution": {
     "iopub.execute_input": "2022-02-03T17:12:17.608085Z",
     "iopub.status.busy": "2022-02-03T17:12:17.606772Z",
     "iopub.status.idle": "2022-02-03T17:12:17.935596Z",
     "shell.execute_reply": "2022-02-03T17:12:17.936130Z",
     "shell.execute_reply.started": "2022-02-03T17:08:57.255459Z"
    },
    "papermill": {
     "duration": 0.44701,
     "end_time": "2022-02-03T17:12:17.936313",
     "exception": false,
     "start_time": "2022-02-03T17:12:17.489303",
     "status": "completed"
    },
    "tags": []
   },
   "outputs": [
    {
     "data": {
      "text/plain": [
       "<AxesSubplot:>"
      ]
     },
     "execution_count": 44,
     "metadata": {},
     "output_type": "execute_result"
    },
    {
     "data": {
      "image/png": "[encoded data removed]",
      "text/plain": [
       "<Figure size 432x288 with 1 Axes>"
      ]
     },
     "metadata": {},
     "output_type": "display_data"
    }
   ],
   "source": [
    "# Значимость для категориальных признаков\n",
    "temp_df = data[data['sample'] == 1]\n",
    "imp_cat = Series(mutual_info_classif(\n",
    "    temp_df[cat_cols], temp_df['default'], discrete_features=True), index=cat_cols)\n",
    "imp_cat.sort_values(inplace=True)\n",
    "imp_cat.plot(kind='barh')"
   ]
  },
  {
   "cell_type": "code",
   "execution_count": 45,
   "id": "77eb0a26",
   "metadata": {
    "execution": {
     "iopub.execute_input": "2022-02-03T17:12:18.176024Z",
     "iopub.status.busy": "2022-02-03T17:12:18.166962Z",
     "iopub.status.idle": "2022-02-03T17:12:18.197694Z",
     "shell.execute_reply": "2022-02-03T17:12:18.197097Z",
     "shell.execute_reply.started": "2022-02-03T17:08:57.580543Z"
    },
    "papermill": {
     "duration": 0.151429,
     "end_time": "2022-02-03T17:12:18.197860",
     "exception": false,
     "start_time": "2022-02-03T17:12:18.046431",
     "status": "completed"
    },
    "tags": []
   },
   "outputs": [],
   "source": [
    "# Cделаем dummy-признаких \n",
    "data = pd.get_dummies(data, columns=['education'], dummy_na=True)"
   ]
  },
  {
   "cell_type": "markdown",
   "id": "b87c3399",
   "metadata": {
    "papermill": {
     "duration": 0.11372,
     "end_time": "2022-02-03T17:12:18.426228",
     "exception": false,
     "start_time": "2022-02-03T17:12:18.312508",
     "status": "completed"
    },
    "tags": []
   },
   "source": [
    "## Простая модель"
   ]
  },
  {
   "cell_type": "code",
   "execution_count": 46,
   "id": "2e5cfe79",
   "metadata": {
    "execution": {
     "iopub.execute_input": "2022-02-03T17:12:18.663855Z",
     "iopub.status.busy": "2022-02-03T17:12:18.663097Z",
     "iopub.status.idle": "2022-02-03T17:12:18.711191Z",
     "shell.execute_reply": "2022-02-03T17:12:18.710479Z",
     "shell.execute_reply.started": "2022-02-03T17:08:57.611073Z"
    },
    "papermill": {
     "duration": 0.16908,
     "end_time": "2022-02-03T17:12:18.711344",
     "exception": false,
     "start_time": "2022-02-03T17:12:18.542264",
     "status": "completed"
    },
    "tags": []
   },
   "outputs": [],
   "source": [
    "# Теперь выделим тестовую часть\n",
    "train_data = data.query('sample == 1').drop(['sample'], axis=1)\n",
    "test_data = data.query('sample == 0').drop(['sample', 'default'], axis=1)\n",
    "\n",
    "# Делим тренировочные данные на обучающуюся и проверочную\n",
    "X = train_data.drop(['default'], axis=1)\n",
    "y = train_data['default'].values "
   ]
  },
  {
   "cell_type": "code",
   "execution_count": 47,
   "id": "6ce5f93d",
   "metadata": {
    "execution": {
     "iopub.execute_input": "2022-02-03T17:12:18.944703Z",
     "iopub.status.busy": "2022-02-03T17:12:18.943884Z",
     "iopub.status.idle": "2022-02-03T17:12:18.965290Z",
     "shell.execute_reply": "2022-02-03T17:12:18.965826Z",
     "shell.execute_reply.started": "2022-02-03T17:08:57.655950Z"
    },
    "papermill": {
     "duration": 0.138738,
     "end_time": "2022-02-03T17:12:18.966041",
     "exception": false,
     "start_time": "2022-02-03T17:12:18.827303",
     "status": "completed"
    },
    "tags": []
   },
   "outputs": [],
   "source": [
    "# Воспользуемся специальной функцие train_test_split для разбивки тестовых данных\n",
    "# выделим 20% данных на валидацию (параметр test_size)\n",
    "\n",
    "X_train, X_test, y_train, y_test = train_test_split(\n",
    "    X, y, test_size=0.2, random_state=42)"
   ]
  },
  {
   "cell_type": "code",
   "execution_count": 48,
   "id": "72a93d7d",
   "metadata": {
    "execution": {
     "iopub.execute_input": "2022-02-03T17:12:19.191087Z",
     "iopub.status.busy": "2022-02-03T17:12:19.190107Z",
     "iopub.status.idle": "2022-02-03T17:12:19.196835Z",
     "shell.execute_reply": "2022-02-03T17:12:19.196101Z",
     "shell.execute_reply.started": "2022-02-03T17:08:57.681892Z"
    },
    "papermill": {
     "duration": 0.119888,
     "end_time": "2022-02-03T17:12:19.196994",
     "exception": false,
     "start_time": "2022-02-03T17:12:19.077106",
     "status": "completed"
    },
    "tags": []
   },
   "outputs": [
    {
     "data": {
      "text/plain": [
       "((59039, 21), (14760, 21), (59039,), (14760,))"
      ]
     },
     "execution_count": 48,
     "metadata": {},
     "output_type": "execute_result"
    }
   ],
   "source": [
    "# проверяем\n",
    "X_train.shape, X_test.shape, y_train.shape, y_test.shape"
   ]
  },
  {
   "cell_type": "code",
   "execution_count": 49,
   "id": "97cc81bd",
   "metadata": {
    "execution": {
     "iopub.execute_input": "2022-02-03T17:12:19.432843Z",
     "iopub.status.busy": "2022-02-03T17:12:19.431851Z",
     "iopub.status.idle": "2022-02-03T17:12:25.160683Z",
     "shell.execute_reply": "2022-02-03T17:12:25.162041Z",
     "shell.execute_reply.started": "2022-02-03T17:08:57.689885Z"
    },
    "papermill": {
     "duration": 5.851628,
     "end_time": "2022-02-03T17:12:25.162434",
     "exception": false,
     "start_time": "2022-02-03T17:12:19.310806",
     "status": "completed"
    },
    "tags": []
   },
   "outputs": [],
   "source": [
    "# Обычная логистическая регрессия\n",
    "model_1 = LogisticRegression(max_iter=1000)  \n",
    "model_1.fit(X_train, y_train)\n",
    "y_pred_1 = model_1.predict(X_test)\n",
    "y_proba_1 = model_1.predict_proba(X_test)[:, 1]"
   ]
  },
  {
   "cell_type": "code",
   "execution_count": 50,
   "id": "8c84443b",
   "metadata": {
    "execution": {
     "iopub.execute_input": "2022-02-03T17:12:25.451979Z",
     "iopub.status.busy": "2022-02-03T17:12:25.450917Z",
     "iopub.status.idle": "2022-02-03T17:12:26.271340Z",
     "shell.execute_reply": "2022-02-03T17:12:26.270748Z",
     "shell.execute_reply.started": "2022-02-03T17:09:02.943186Z"
    },
    "papermill": {
     "duration": 0.93802,
     "end_time": "2022-02-03T17:12:26.271510",
     "exception": false,
     "start_time": "2022-02-03T17:12:25.333490",
     "status": "completed"
    },
    "tags": []
   },
   "outputs": [
    {
     "name": "stdout",
     "output_type": "stream",
     "text": [
      "accuracy_score: 0.875\n",
      "precision_score: 0.0208\n",
      "recall_score: 0.4043\n",
      "f1_score: 0.0396\n"
     ]
    },
    {
     "data": {
      "image/png": "[encoded data removed]",
      "text/plain": [
       "<Figure size 864x360 with 3 Axes>"
      ]
     },
     "metadata": {},
     "output_type": "display_data"
    }
   ],
   "source": [
    "print_metrics(y_pred_1, y_test)\n",
    "draw_roc_curve(y_test, y_proba_1, y_pred_1)"
   ]
  },
  {
   "cell_type": "markdown",
   "id": "0c692672",
   "metadata": {
    "execution": {
     "iopub.execute_input": "2022-02-03T17:00:06.844981Z",
     "iopub.status.busy": "2022-02-03T17:00:06.844728Z",
     "iopub.status.idle": "2022-02-03T17:00:06.850974Z",
     "shell.execute_reply": "2022-02-03T17:00:06.849918Z",
     "shell.execute_reply.started": "2022-02-03T17:00:06.844949Z"
    },
    "papermill": {
     "duration": 0.11619,
     "end_time": "2022-02-03T17:12:26.504566",
     "exception": false,
     "start_time": "2022-02-03T17:12:26.388376",
     "status": "completed"
    },
    "tags": []
   },
   "source": [
    "Хорошее значение ROC. \n",
    "Низкое значение f1_score и плохая confusion_matrix показывает, что мы \n",
    "почти всех клиентов относим к недефолтным. "
   ]
  },
  {
   "cell_type": "markdown",
   "id": "10595826",
   "metadata": {
    "papermill": {
     "duration": 0.114047,
     "end_time": "2022-02-03T17:12:26.732580",
     "exception": false,
     "start_time": "2022-02-03T17:12:26.618533",
     "status": "completed"
    },
    "tags": []
   },
   "source": [
    "## Undersampling"
   ]
  },
  {
   "cell_type": "code",
   "execution_count": 51,
   "id": "0f83445f",
   "metadata": {
    "execution": {
     "iopub.execute_input": "2022-02-03T17:12:26.966373Z",
     "iopub.status.busy": "2022-02-03T17:12:26.965676Z",
     "iopub.status.idle": "2022-02-03T17:12:27.016218Z",
     "shell.execute_reply": "2022-02-03T17:12:27.016853Z",
     "shell.execute_reply.started": "2022-02-03T17:09:03.868200Z"
    },
    "papermill": {
     "duration": 0.172265,
     "end_time": "2022-02-03T17:12:27.017055",
     "exception": false,
     "start_time": "2022-02-03T17:12:26.844790",
     "status": "completed"
    },
    "tags": []
   },
   "outputs": [
    {
     "data": {
      "text/plain": [
       "0    9372\n",
       "1    9372\n",
       "Name: default, dtype: int64"
      ]
     },
     "execution_count": 51,
     "metadata": {},
     "output_type": "execute_result"
    }
   ],
   "source": [
    "# Внесем изменения в модель, применим Undersampling\n",
    "# Делим тренировочные данные на обучающуюся и проверочную\n",
    "X = train_data.drop(['default'], axis=1)\n",
    "y = train_data['default']# .values \n",
    "\n",
    "# Сравняем  количество объектов разных классов \n",
    "rus = RandomUnderSampler(random_state=42)\n",
    "X_us, y_us = rus.fit_resample(X, y)\n",
    "\n",
    "# Посмотрим, сколько теперь объектов каждого класса\n",
    "y_us.value_counts()"
   ]
  },
  {
   "cell_type": "code",
   "execution_count": 52,
   "id": "b170d2b2",
   "metadata": {
    "execution": {
     "iopub.execute_input": "2022-02-03T17:12:27.253548Z",
     "iopub.status.busy": "2022-02-03T17:12:27.252656Z",
     "iopub.status.idle": "2022-02-03T17:12:27.279167Z",
     "shell.execute_reply": "2022-02-03T17:12:27.278577Z",
     "shell.execute_reply.started": "2022-02-03T17:09:03.928176Z"
    },
    "papermill": {
     "duration": 0.146489,
     "end_time": "2022-02-03T17:12:27.279332",
     "exception": false,
     "start_time": "2022-02-03T17:12:27.132843",
     "status": "completed"
    },
    "tags": []
   },
   "outputs": [],
   "source": [
    "# Стандартизируем значения признаков и разбиваем выборку\n",
    "X_us = StandardScaler().fit_transform(X_us)\n",
    "\n",
    "X_train, X_test, y_train, y_test = train_test_split(\n",
    "    X_us, y_us, test_size=0.20, random_state=42)"
   ]
  },
  {
   "cell_type": "code",
   "execution_count": 53,
   "id": "d57e6ee2",
   "metadata": {
    "execution": {
     "iopub.execute_input": "2022-02-03T17:12:27.520706Z",
     "iopub.status.busy": "2022-02-03T17:12:27.519939Z",
     "iopub.status.idle": "2022-02-03T17:12:27.590281Z",
     "shell.execute_reply": "2022-02-03T17:12:27.591882Z",
     "shell.execute_reply.started": "2022-02-03T17:09:03.956026Z"
    },
    "papermill": {
     "duration": 0.195428,
     "end_time": "2022-02-03T17:12:27.592221",
     "exception": false,
     "start_time": "2022-02-03T17:12:27.396793",
     "status": "completed"
    },
    "tags": []
   },
   "outputs": [],
   "source": [
    "# Делаем обычную логистическую регрессию\n",
    "model_2 = LogisticRegression(max_iter=2000)\n",
    "model_2.fit(X_train, y_train)\n",
    "y_pred_2 = model_2.predict(X_test)\n",
    "y_proba_2 = model_2.predict_proba(X_test)[:, 1]"
   ]
  },
  {
   "cell_type": "code",
   "execution_count": 54,
   "id": "9aecc141",
   "metadata": {
    "execution": {
     "iopub.execute_input": "2022-02-03T17:12:27.889765Z",
     "iopub.status.busy": "2022-02-03T17:12:27.886146Z",
     "iopub.status.idle": "2022-02-03T17:12:28.534369Z",
     "shell.execute_reply": "2022-02-03T17:12:28.534994Z",
     "shell.execute_reply.started": "2022-02-03T17:09:04.024845Z"
    },
    "papermill": {
     "duration": 0.768545,
     "end_time": "2022-02-03T17:12:28.535199",
     "exception": false,
     "start_time": "2022-02-03T17:12:27.766654",
     "status": "completed"
    },
    "tags": []
   },
   "outputs": [
    {
     "name": "stdout",
     "output_type": "stream",
     "text": [
      "accuracy_score: 0.6722\n",
      "precision_score: 0.681\n",
      "recall_score: 0.6663\n",
      "f1_score: 0.6736\n"
     ]
    },
    {
     "data": {
      "image/png": "[encoded data removed]",
      "text/plain": [
       "<Figure size 864x360 with 3 Axes>"
      ]
     },
     "metadata": {},
     "output_type": "display_data"
    }
   ],
   "source": [
    "print_metrics(y_pred_2, y_test)\n",
    "draw_roc_curve(y_test, y_proba_2, y_pred_2)"
   ]
  },
  {
   "cell_type": "markdown",
   "id": "db090dcc",
   "metadata": {
    "papermill": {
     "duration": 0.11824,
     "end_time": "2022-02-03T17:12:28.779789",
     "exception": false,
     "start_time": "2022-02-03T17:12:28.661549",
     "status": "completed"
    },
    "tags": []
   },
   "source": [
    "Уменьшилось значение ROC, но значения остальных метрик улучшилось, \n",
    "а f1-score стало значительно выше."
   ]
  },
  {
   "cell_type": "markdown",
   "id": "7b0272a6",
   "metadata": {
    "papermill": {
     "duration": 0.125009,
     "end_time": "2022-02-03T17:12:29.024075",
     "exception": false,
     "start_time": "2022-02-03T17:12:28.899066",
     "status": "completed"
    },
    "tags": []
   },
   "source": [
    "### Экспериментируем с гиперпараметрами"
   ]
  },
  {
   "cell_type": "code",
   "execution_count": 55,
   "id": "f7835b46",
   "metadata": {
    "execution": {
     "iopub.execute_input": "2022-02-03T17:12:29.267679Z",
     "iopub.status.busy": "2022-02-03T17:12:29.266953Z",
     "iopub.status.idle": "2022-02-03T17:12:37.634659Z",
     "shell.execute_reply": "2022-02-03T17:12:37.635938Z",
     "shell.execute_reply.started": "2022-02-03T17:09:04.680724Z"
    },
    "papermill": {
     "duration": 8.49415,
     "end_time": "2022-02-03T17:12:37.636334",
     "exception": false,
     "start_time": "2022-02-03T17:12:29.142184",
     "status": "completed"
    },
    "tags": []
   },
   "outputs": [
    {
     "name": "stdout",
     "output_type": "stream",
     "text": [
      "Лучшее Penalty: l2\n",
      "Лучшее C: 0.001\n"
     ]
    }
   ],
   "source": [
    "# Добавим типы регуляризации\n",
    "penalty = ['l1', 'l2']\n",
    "\n",
    "# Зададим ограничения для параметра регуляризации\n",
    "C = np.logspace(-3, 4, 10)\n",
    "\n",
    "# Создадим гиперпараметры\n",
    "hyperparameters = dict(C=C, penalty=penalty)\n",
    "\n",
    "# Укажем solver\n",
    "model = LogisticRegression(max_iter=2000, solver='liblinear')\n",
    "model.fit(X_train, y_train)\n",
    "\n",
    "# Создаем сетку поиска с использованием 5-кратной перекрестной проверки\n",
    "clf = GridSearchCV(model, hyperparameters, cv=5, verbose=0)\n",
    "\n",
    "best_model = clf.fit(X_train, y_train)\n",
    "\n",
    "print('Лучшее Penalty:', best_model.best_estimator_.get_params()['penalty'])\n",
    "print('Лучшее C:', best_model.best_estimator_.get_params()['C'])"
   ]
  },
  {
   "cell_type": "code",
   "execution_count": 56,
   "id": "6bd39e9d",
   "metadata": {
    "execution": {
     "iopub.execute_input": "2022-02-03T17:12:37.905968Z",
     "iopub.status.busy": "2022-02-03T17:12:37.904717Z",
     "iopub.status.idle": "2022-02-03T17:12:37.949439Z",
     "shell.execute_reply": "2022-02-03T17:12:37.950340Z",
     "shell.execute_reply.started": "2022-02-03T17:09:12.132647Z"
    },
    "papermill": {
     "duration": 0.171003,
     "end_time": "2022-02-03T17:12:37.950651",
     "exception": false,
     "start_time": "2022-02-03T17:12:37.779648",
     "status": "completed"
    },
    "tags": []
   },
   "outputs": [],
   "source": [
    "# Делаем логистическую регрессию с вычисленными параметрами\n",
    "model_3 = LogisticRegression(max_iter=2000, \n",
    "                             C=best_model.best_estimator_.get_params()['C'], \n",
    "                             penalty=best_model.best_estimator_.get_params()['penalty'], \n",
    "                             solver='liblinear')\n",
    "model_3.fit(X_train, y_train)\n",
    "y_pred_3 = model_3.predict(X_test)\n",
    "y_proba_3 = model_3.predict_proba(X_test)[:,1]"
   ]
  },
  {
   "cell_type": "code",
   "execution_count": 57,
   "id": "1e97d367",
   "metadata": {
    "execution": {
     "iopub.execute_input": "2022-02-03T17:12:38.255592Z",
     "iopub.status.busy": "2022-02-03T17:12:38.254176Z",
     "iopub.status.idle": "2022-02-03T17:12:38.885671Z",
     "shell.execute_reply": "2022-02-03T17:12:38.886166Z",
     "shell.execute_reply.started": "2022-02-03T17:09:12.201800Z"
    },
    "papermill": {
     "duration": 0.758334,
     "end_time": "2022-02-03T17:12:38.886341",
     "exception": false,
     "start_time": "2022-02-03T17:12:38.128007",
     "status": "completed"
    },
    "tags": []
   },
   "outputs": [
    {
     "name": "stdout",
     "output_type": "stream",
     "text": [
      "accuracy_score: 0.6764\n",
      "precision_score: 0.6837\n",
      "recall_score: 0.6711\n",
      "f1_score: 0.6773\n"
     ]
    },
    {
     "data": {
      "image/png": "[encoded data removed]",
      "text/plain": [
       "<Figure size 864x360 with 3 Axes>"
      ]
     },
     "metadata": {},
     "output_type": "display_data"
    }
   ],
   "source": [
    "print_metrics(y_pred_3, y_test)\n",
    "draw_roc_curve(y_test, y_proba_3, y_pred_3)"
   ]
  },
  {
   "cell_type": "markdown",
   "id": "56101b03",
   "metadata": {
    "papermill": {
     "duration": 0.125557,
     "end_time": "2022-02-03T17:12:39.132036",
     "exception": false,
     "start_time": "2022-02-03T17:12:39.006479",
     "status": "completed"
    },
    "tags": []
   },
   "source": [
    "Для финального предсказания используем последнюю модель"
   ]
  },
  {
   "cell_type": "code",
   "execution_count": 58,
   "id": "fc128ccf",
   "metadata": {
    "execution": {
     "iopub.execute_input": "2022-02-03T17:12:39.373210Z",
     "iopub.status.busy": "2022-02-03T17:12:39.372549Z",
     "iopub.status.idle": "2022-02-03T17:12:39.402236Z",
     "shell.execute_reply": "2022-02-03T17:12:39.403475Z",
     "shell.execute_reply.started": "2022-02-03T17:09:12.802070Z"
    },
    "papermill": {
     "duration": 0.151527,
     "end_time": "2022-02-03T17:12:39.403799",
     "exception": false,
     "start_time": "2022-02-03T17:12:39.252272",
     "status": "completed"
    },
    "tags": []
   },
   "outputs": [],
   "source": [
    "X_sub = test_data.values\n",
    "X_sub = StandardScaler().fit_transform(X_sub)\n",
    "predict_submission = model_3.predict(X_sub)"
   ]
  },
  {
   "cell_type": "code",
   "execution_count": 59,
   "id": "020734ba",
   "metadata": {
    "execution": {
     "iopub.execute_input": "2022-02-03T17:12:39.735288Z",
     "iopub.status.busy": "2022-02-03T17:12:39.734553Z",
     "iopub.status.idle": "2022-02-03T17:12:39.821477Z",
     "shell.execute_reply": "2022-02-03T17:12:39.820486Z",
     "shell.execute_reply.started": "2022-02-03T17:09:12.826693Z"
    },
    "papermill": {
     "duration": 0.220795,
     "end_time": "2022-02-03T17:12:39.821701",
     "exception": false,
     "start_time": "2022-02-03T17:12:39.600906",
     "status": "completed"
    },
    "tags": []
   },
   "outputs": [
    {
     "data": {
      "text/html": [
       "<div>\n",
       "<style scoped>\n",
       "    .dataframe tbody tr th:only-of-type {\n",
       "        vertical-align: middle;\n",
       "    }\n",
       "\n",
       "    .dataframe tbody tr th {\n",
       "        vertical-align: top;\n",
       "    }\n",
       "\n",
       "    .dataframe thead th {\n",
       "        text-align: right;\n",
       "    }\n",
       "</style>\n",
       "<table border=\"1\" class=\"dataframe\">\n",
       "  <thead>\n",
       "    <tr style=\"text-align: right;\">\n",
       "      <th></th>\n",
       "      <th>client_id</th>\n",
       "      <th>default</th>\n",
       "    </tr>\n",
       "  </thead>\n",
       "  <tbody>\n",
       "    <tr>\n",
       "      <th>0</th>\n",
       "      <td>74835</td>\n",
       "      <td>0</td>\n",
       "    </tr>\n",
       "    <tr>\n",
       "      <th>1</th>\n",
       "      <td>17527</td>\n",
       "      <td>1</td>\n",
       "    </tr>\n",
       "    <tr>\n",
       "      <th>2</th>\n",
       "      <td>75683</td>\n",
       "      <td>0</td>\n",
       "    </tr>\n",
       "    <tr>\n",
       "      <th>3</th>\n",
       "      <td>26883</td>\n",
       "      <td>0</td>\n",
       "    </tr>\n",
       "    <tr>\n",
       "      <th>4</th>\n",
       "      <td>28862</td>\n",
       "      <td>0</td>\n",
       "    </tr>\n",
       "    <tr>\n",
       "      <th>5</th>\n",
       "      <td>99881</td>\n",
       "      <td>1</td>\n",
       "    </tr>\n",
       "    <tr>\n",
       "      <th>6</th>\n",
       "      <td>26630</td>\n",
       "      <td>1</td>\n",
       "    </tr>\n",
       "    <tr>\n",
       "      <th>7</th>\n",
       "      <td>79934</td>\n",
       "      <td>0</td>\n",
       "    </tr>\n",
       "    <tr>\n",
       "      <th>8</th>\n",
       "      <td>16605</td>\n",
       "      <td>0</td>\n",
       "    </tr>\n",
       "    <tr>\n",
       "      <th>9</th>\n",
       "      <td>105449</td>\n",
       "      <td>0</td>\n",
       "    </tr>\n",
       "  </tbody>\n",
       "</table>\n",
       "</div>"
      ],
      "text/plain": [
       "   client_id  default\n",
       "0      74835        0\n",
       "1      17527        1\n",
       "2      75683        0\n",
       "3      26883        0\n",
       "4      28862        0\n",
       "5      99881        1\n",
       "6      26630        1\n",
       "7      79934        0\n",
       "8      16605        0\n",
       "9     105449        0"
      ]
     },
     "execution_count": 59,
     "metadata": {},
     "output_type": "execute_result"
    }
   ],
   "source": [
    "sample_submission['default'] = predict_submission\n",
    "sample_submission.to_csv('submission.csv', index=False)\n",
    "sample_submission.head(10)"
   ]
  },
  {
   "cell_type": "code",
   "execution_count": 60,
   "id": "b69a6186",
   "metadata": {
    "execution": {
     "iopub.execute_input": "2022-02-03T17:12:40.088144Z",
     "iopub.status.busy": "2022-02-03T17:12:40.086995Z",
     "iopub.status.idle": "2022-02-03T17:12:40.106118Z",
     "shell.execute_reply": "2022-02-03T17:12:40.106701Z",
     "shell.execute_reply.started": "2022-02-03T17:09:12.962241Z"
    },
    "papermill": {
     "duration": 0.160171,
     "end_time": "2022-02-03T17:12:40.106942",
     "exception": false,
     "start_time": "2022-02-03T17:12:39.946771",
     "status": "completed"
    },
    "tags": []
   },
   "outputs": [
    {
     "data": {
      "text/html": [
       "<div>\n",
       "<style scoped>\n",
       "    .dataframe tbody tr th:only-of-type {\n",
       "        vertical-align: middle;\n",
       "    }\n",
       "\n",
       "    .dataframe tbody tr th {\n",
       "        vertical-align: top;\n",
       "    }\n",
       "\n",
       "    .dataframe thead th {\n",
       "        text-align: right;\n",
       "    }\n",
       "</style>\n",
       "<table border=\"1\" class=\"dataframe\">\n",
       "  <thead>\n",
       "    <tr style=\"text-align: right;\">\n",
       "      <th></th>\n",
       "      <th>client_id</th>\n",
       "      <th>default</th>\n",
       "    </tr>\n",
       "  </thead>\n",
       "  <tbody>\n",
       "    <tr>\n",
       "      <th>count</th>\n",
       "      <td>36349.000000</td>\n",
       "      <td>36349.000000</td>\n",
       "    </tr>\n",
       "    <tr>\n",
       "      <th>mean</th>\n",
       "      <td>54945.647473</td>\n",
       "      <td>0.494429</td>\n",
       "    </tr>\n",
       "    <tr>\n",
       "      <th>std</th>\n",
       "      <td>31706.052195</td>\n",
       "      <td>0.499976</td>\n",
       "    </tr>\n",
       "    <tr>\n",
       "      <th>min</th>\n",
       "      <td>4.000000</td>\n",
       "      <td>0.000000</td>\n",
       "    </tr>\n",
       "    <tr>\n",
       "      <th>25%</th>\n",
       "      <td>27744.000000</td>\n",
       "      <td>0.000000</td>\n",
       "    </tr>\n",
       "    <tr>\n",
       "      <th>50%</th>\n",
       "      <td>54657.000000</td>\n",
       "      <td>0.000000</td>\n",
       "    </tr>\n",
       "    <tr>\n",
       "      <th>75%</th>\n",
       "      <td>82322.000000</td>\n",
       "      <td>1.000000</td>\n",
       "    </tr>\n",
       "    <tr>\n",
       "      <th>max</th>\n",
       "      <td>110148.000000</td>\n",
       "      <td>1.000000</td>\n",
       "    </tr>\n",
       "  </tbody>\n",
       "</table>\n",
       "</div>"
      ],
      "text/plain": [
       "           client_id       default\n",
       "count   36349.000000  36349.000000\n",
       "mean    54945.647473      0.494429\n",
       "std     31706.052195      0.499976\n",
       "min         4.000000      0.000000\n",
       "25%     27744.000000      0.000000\n",
       "50%     54657.000000      0.000000\n",
       "75%     82322.000000      1.000000\n",
       "max    110148.000000      1.000000"
      ]
     },
     "execution_count": 60,
     "metadata": {},
     "output_type": "execute_result"
    }
   ],
   "source": [
    "sample_submission.describe()"
   ]
  },
  {
   "cell_type": "code",
   "execution_count": 61,
   "id": "54e4af18",
   "metadata": {
    "execution": {
     "iopub.execute_input": "2022-02-03T17:12:40.374177Z",
     "iopub.status.busy": "2022-02-03T17:12:40.373430Z",
     "iopub.status.idle": "2022-02-03T17:12:41.591753Z",
     "shell.execute_reply": "2022-02-03T17:12:41.590995Z",
     "shell.execute_reply.started": "2022-02-03T17:10:16.622003Z"
    },
    "papermill": {
     "duration": 1.354597,
     "end_time": "2022-02-03T17:12:41.591913",
     "exception": false,
     "start_time": "2022-02-03T17:12:40.237316",
     "status": "completed"
    },
    "tags": []
   },
   "outputs": [
    {
     "name": "stdout",
     "output_type": "stream",
     "text": [
      "Traceback (most recent call last):\r\n",
      "  File \"/opt/conda/bin/kaggle\", line 5, in <module>\r\n",
      "    from kaggle.cli import main\r\n",
      "  File \"/opt/conda/lib/python3.7/site-packages/kaggle/__init__.py\", line 23, in <module>\r\n",
      "    api.authenticate()\r\n",
      "  File \"/opt/conda/lib/python3.7/site-packages/kaggle/api/kaggle_api_extended.py\", line 166, in authenticate\r\n",
      "    self.config_file, self.config_dir))\r\n",
      "OSError: Could not find kaggle.json. Make sure it's located in /root/.kaggle. Or use the environment method.\r\n"
     ]
    }
   ],
   "source": [
    " !kaggle competitions submit -c sf-scoring -f submission.csv -m \"Message\"\n",
    "# !kaggle competitions submit your-competition-name -f submission.csv -m 'My submission message'"
   ]
  }
 ],
 "metadata": {
  "kernelspec": {
   "display_name": "Python 3",
   "language": "python",
   "name": "python3"
  },
  "language_info": {
   "codemirror_mode": {
    "name": "ipython",
    "version": 3
   },
   "file_extension": ".py",
   "mimetype": "text/x-python",
   "name": "python",
   "nbconvert_exporter": "python",
   "pygments_lexer": "ipython3",
   "version": "3.7.10"
  },
  "papermill": {
   "default_parameters": {},
   "duration": 76.2139,
   "end_time": "2022-02-03T17:12:42.843241",
   "environment_variables": {},
   "exception": null,
   "input_path": "__notebook__.ipynb",
   "output_path": "__notebook__.ipynb",
   "parameters": {},
   "start_time": "2022-02-03T17:11:26.629341",
   "version": "2.3.3"
  }
 },
 "nbformat": 4,
 "nbformat_minor": 5
}
