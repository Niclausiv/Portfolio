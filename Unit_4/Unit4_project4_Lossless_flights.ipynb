{
 "cells": [
  {
   "cell_type": "markdown",
   "id": "7d4b846d",
   "metadata": {},
   "source": [
    "# RDS4 - Проект 4. Авиарейсы без потерь "
   ]
  },
  {
   "cell_type": "markdown",
   "id": "48e61927",
   "metadata": {},
   "source": [
    "Цель проекта: Провести анализ авиарейсов из города Анапа в зимнее время за 2017 год и сделать вывод о том, от каких самых малоприбыльных рейсов мы можем отказаться.\n",
    "\n",
    "Прибыльность рейса - это разница между доходом от продаж билетов и расходом на полет, соберите такой датасет, который позволит оценить эти цифры.\n",
    "\n",
    "Самая простая модель оценки прибыльности: стоимость билетов - стоимость топлива на рейс (для оценки последнего вам необходим километраж рейса или длительность полета), но вы можете предложить другую модель.    \n",
    "    \n",
    "Задачи проекта:\n",
    "1. Познакомиться с данными: изучить диаграмму схемы данных, посмотреть описание.  \n",
    "2. Изучить закономерности в данных.\n",
    "3. Сделать предварительный анализ.\n",
    "4. С помощью кода SQL выгрузить из Metabase итоговый датасет(должен обязательно включать id рейса и города вылета     (Анапа) и прилета, модель самолёта и его характеристики, суммарную стоимость всех билетов на рейсе, \n",
    "   затраченное время в полёте и прочее).\n",
    "5. Проанализировать данные из датасета о доходности каждого рейса и затратах на них.\n",
    "6. Указать номера рейсов, которые предлагается убрать, а также предполагаемую прибыльность этих рейсов и среднюю      прибыльность всех рейсов.\n",
    "8. Сформулировать выводы и подготовить презентацию.\n"
   ]
  },
  {
   "cell_type": "code",
   "execution_count": 1,
   "id": "5a252cbf",
   "metadata": {},
   "outputs": [],
   "source": [
    "# Импорт библиотек\n",
    "import numpy as np\n",
    "import pandas as pd\n",
    "import datetime\n",
    "import pandas as pd\n",
    "import matplotlib.pyplot as plt\n",
    "import seaborn as sns\n",
    "from datetime import datetime\n"
   ]
  },
  {
   "cell_type": "code",
   "execution_count": 2,
   "id": "b3bf39f2",
   "metadata": {
    "scrolled": false
   },
   "outputs": [
    {
     "name": "stdout",
     "output_type": "stream",
     "text": [
      "<class 'pandas.core.frame.DataFrame'>\n",
      "RangeIndex: 127 entries, 0 to 126\n",
      "Data columns (total 16 columns):\n",
      " #   Column            Non-Null Count  Dtype  \n",
      "---  ------            --------------  -----  \n",
      " 0   flight_id         127 non-null    int64  \n",
      " 1   flight_no         127 non-null    object \n",
      " 2   model             127 non-null    object \n",
      " 3   fuel_cons         127 non-null    float64\n",
      " 4   maintenance       127 non-null    int64  \n",
      " 5   arrival_airport   127 non-null    object \n",
      " 6   actual_departure  127 non-null    object \n",
      " 7   duration          127 non-null    float64\n",
      " 8   actual_arrival    127 non-null    object \n",
      " 9   month_n           127 non-null    float64\n",
      " 10  fuel_price        127 non-null    int64  \n",
      " 11  distance          127 non-null    float64\n",
      " 12  economy           118 non-null    float64\n",
      " 13  business          118 non-null    float64\n",
      " 14  tickets_total     127 non-null    int64  \n",
      " 15  revenue           118 non-null    float64\n",
      "dtypes: float64(7), int64(4), object(5)\n",
      "memory usage: 16.0+ KB\n"
     ]
    }
   ],
   "source": [
    "pd.set_option('display.max_rows', 20)  # показывать больше строк\n",
    "pd.set_option('display.max_columns', 16)  # показывать больше колонок\n",
    "df = pd.read_csv('Lossless_flights.csv')\n",
    "df.info()"
   ]
  },
  {
   "cell_type": "code",
   "execution_count": 3,
   "id": "194d3176",
   "metadata": {},
   "outputs": [],
   "source": [
    "# Преобразуем столбцы с датами\n",
    "df['actual_departure'] = pd.to_datetime(df['actual_departure'])\n",
    "df['actual_arrival'] = pd.to_datetime(df['actual_arrival'])"
   ]
  },
  {
   "cell_type": "markdown",
   "id": "92411c74",
   "metadata": {},
   "source": [
    "# Переменные, которые содержит датасет:"
   ]
  },
  {
   "cell_type": "markdown",
   "id": "367b8022",
   "metadata": {},
   "source": [
    "flight_id - Идентификатор рейса\n",
    "\n",
    "flight_no - Номер рейса, \n",
    "\n",
    "model - Модель самолета, \n",
    "\n",
    "fuel_cons - Удельный расход топлива  - кг/(пасс.* км), \n",
    "\n",
    "maintenance - Расходы на обслуживание \n",
    "(cредняя ставка за кресло-километр * вместимость самолета), \n",
    "\n",
    "actual_departure - Фактическое время вылета, \n",
    "\n",
    "arrival_airport - Аэропорт прибытия, \n",
    "\n",
    "duration - Длительность перелета, \n",
    "\n",
    "actual_arrival - Фактическое время прилета,\n",
    "\n",
    "month_n - Месяц в числовой форме, \n",
    "\n",
    "fuel_price - Цена на топливо, в зависимости от месяца, \n",
    "\n",
    "distance - Расстояние до аэропорта прибытия, по координатам, \n",
    "\n",
    "fare - Класс обслуживания, \n",
    "\n",
    "fare_count - Количество билетов класса обслуживания,\n",
    "\n",
    "tickets_total - Общее количество проданных билетов,\n",
    "\n",
    "revenue - Доход"
   ]
  },
  {
   "cell_type": "code",
   "execution_count": 4,
   "id": "b2310317",
   "metadata": {},
   "outputs": [
    {
     "data": {
      "text/html": [
       "<div>\n",
       "<style scoped>\n",
       "    .dataframe tbody tr th:only-of-type {\n",
       "        vertical-align: middle;\n",
       "    }\n",
       "\n",
       "    .dataframe tbody tr th {\n",
       "        vertical-align: top;\n",
       "    }\n",
       "\n",
       "    .dataframe thead th {\n",
       "        text-align: right;\n",
       "    }\n",
       "</style>\n",
       "<table border=\"1\" class=\"dataframe\">\n",
       "  <thead>\n",
       "    <tr style=\"text-align: right;\">\n",
       "      <th></th>\n",
       "      <th>flight_id</th>\n",
       "      <th>flight_no</th>\n",
       "      <th>model</th>\n",
       "      <th>fuel_cons</th>\n",
       "      <th>maintenance</th>\n",
       "      <th>arrival_airport</th>\n",
       "      <th>actual_departure</th>\n",
       "      <th>duration</th>\n",
       "      <th>actual_arrival</th>\n",
       "      <th>month_n</th>\n",
       "      <th>fuel_price</th>\n",
       "      <th>distance</th>\n",
       "      <th>economy</th>\n",
       "      <th>business</th>\n",
       "      <th>tickets_total</th>\n",
       "      <th>revenue</th>\n",
       "    </tr>\n",
       "  </thead>\n",
       "  <tbody>\n",
       "    <tr>\n",
       "      <th>0</th>\n",
       "      <td>136119</td>\n",
       "      <td>PG0252</td>\n",
       "      <td>Boeing 737-300</td>\n",
       "      <td>0.02250</td>\n",
       "      <td>520</td>\n",
       "      <td>SVO</td>\n",
       "      <td>2017-01-03 15:08:00+05:00</td>\n",
       "      <td>1.683333</td>\n",
       "      <td>2017-01-03 16:49:00+05:00</td>\n",
       "      <td>1.0</td>\n",
       "      <td>41435</td>\n",
       "      <td>1219.872758</td>\n",
       "      <td>102.0</td>\n",
       "      <td>11.0</td>\n",
       "      <td>113</td>\n",
       "      <td>1653000.0</td>\n",
       "    </tr>\n",
       "    <tr>\n",
       "      <th>1</th>\n",
       "      <td>136120</td>\n",
       "      <td>PG0252</td>\n",
       "      <td>Boeing 737-300</td>\n",
       "      <td>0.02250</td>\n",
       "      <td>520</td>\n",
       "      <td>SVO</td>\n",
       "      <td>2017-02-24 15:07:00+05:00</td>\n",
       "      <td>1.650000</td>\n",
       "      <td>2017-02-24 16:46:00+05:00</td>\n",
       "      <td>2.0</td>\n",
       "      <td>39553</td>\n",
       "      <td>1219.872758</td>\n",
       "      <td>98.0</td>\n",
       "      <td>11.0</td>\n",
       "      <td>109</td>\n",
       "      <td>1605400.0</td>\n",
       "    </tr>\n",
       "    <tr>\n",
       "      <th>2</th>\n",
       "      <td>136122</td>\n",
       "      <td>PG0252</td>\n",
       "      <td>Boeing 737-300</td>\n",
       "      <td>0.02250</td>\n",
       "      <td>520</td>\n",
       "      <td>SVO</td>\n",
       "      <td>2017-01-08 15:08:00+05:00</td>\n",
       "      <td>1.666667</td>\n",
       "      <td>2017-01-08 16:48:00+05:00</td>\n",
       "      <td>1.0</td>\n",
       "      <td>41435</td>\n",
       "      <td>1219.872758</td>\n",
       "      <td>87.0</td>\n",
       "      <td>10.0</td>\n",
       "      <td>97</td>\n",
       "      <td>1431000.0</td>\n",
       "    </tr>\n",
       "    <tr>\n",
       "      <th>3</th>\n",
       "      <td>136130</td>\n",
       "      <td>PG0252</td>\n",
       "      <td>Boeing 737-300</td>\n",
       "      <td>0.02250</td>\n",
       "      <td>520</td>\n",
       "      <td>SVO</td>\n",
       "      <td>2017-02-13 15:07:00+05:00</td>\n",
       "      <td>1.650000</td>\n",
       "      <td>2017-02-13 16:46:00+05:00</td>\n",
       "      <td>2.0</td>\n",
       "      <td>39553</td>\n",
       "      <td>1219.872758</td>\n",
       "      <td>97.0</td>\n",
       "      <td>10.0</td>\n",
       "      <td>107</td>\n",
       "      <td>1556600.0</td>\n",
       "    </tr>\n",
       "    <tr>\n",
       "      <th>4</th>\n",
       "      <td>136131</td>\n",
       "      <td>PG0252</td>\n",
       "      <td>Boeing 737-300</td>\n",
       "      <td>0.02250</td>\n",
       "      <td>520</td>\n",
       "      <td>SVO</td>\n",
       "      <td>2017-01-28 15:07:00+05:00</td>\n",
       "      <td>1.650000</td>\n",
       "      <td>2017-01-28 16:46:00+05:00</td>\n",
       "      <td>1.0</td>\n",
       "      <td>41435</td>\n",
       "      <td>1219.872758</td>\n",
       "      <td>112.0</td>\n",
       "      <td>12.0</td>\n",
       "      <td>124</td>\n",
       "      <td>1812800.0</td>\n",
       "    </tr>\n",
       "    <tr>\n",
       "      <th>...</th>\n",
       "      <td>...</td>\n",
       "      <td>...</td>\n",
       "      <td>...</td>\n",
       "      <td>...</td>\n",
       "      <td>...</td>\n",
       "      <td>...</td>\n",
       "      <td>...</td>\n",
       "      <td>...</td>\n",
       "      <td>...</td>\n",
       "      <td>...</td>\n",
       "      <td>...</td>\n",
       "      <td>...</td>\n",
       "      <td>...</td>\n",
       "      <td>...</td>\n",
       "      <td>...</td>\n",
       "      <td>...</td>\n",
       "    </tr>\n",
       "    <tr>\n",
       "      <th>122</th>\n",
       "      <td>136936</td>\n",
       "      <td>PG0480</td>\n",
       "      <td>Sukhoi Superjet-100</td>\n",
       "      <td>0.02346</td>\n",
       "      <td>679</td>\n",
       "      <td>EGO</td>\n",
       "      <td>2017-01-02 14:28:00+05:00</td>\n",
       "      <td>0.833333</td>\n",
       "      <td>2017-01-02 15:18:00+05:00</td>\n",
       "      <td>1.0</td>\n",
       "      <td>41435</td>\n",
       "      <td>629.860554</td>\n",
       "      <td>73.0</td>\n",
       "      <td>9.0</td>\n",
       "      <td>82</td>\n",
       "      <td>632400.0</td>\n",
       "    </tr>\n",
       "    <tr>\n",
       "      <th>123</th>\n",
       "      <td>136937</td>\n",
       "      <td>PG0480</td>\n",
       "      <td>Sukhoi Superjet-100</td>\n",
       "      <td>0.02346</td>\n",
       "      <td>679</td>\n",
       "      <td>EGO</td>\n",
       "      <td>2017-01-03 14:29:00+05:00</td>\n",
       "      <td>0.833333</td>\n",
       "      <td>2017-01-03 15:19:00+05:00</td>\n",
       "      <td>1.0</td>\n",
       "      <td>41435</td>\n",
       "      <td>629.860554</td>\n",
       "      <td>72.0</td>\n",
       "      <td>9.0</td>\n",
       "      <td>81</td>\n",
       "      <td>626100.0</td>\n",
       "    </tr>\n",
       "    <tr>\n",
       "      <th>124</th>\n",
       "      <td>136951</td>\n",
       "      <td>PG0480</td>\n",
       "      <td>Sukhoi Superjet-100</td>\n",
       "      <td>0.02346</td>\n",
       "      <td>679</td>\n",
       "      <td>EGO</td>\n",
       "      <td>2017-02-02 14:28:00+05:00</td>\n",
       "      <td>0.816667</td>\n",
       "      <td>2017-02-02 15:17:00+05:00</td>\n",
       "      <td>2.0</td>\n",
       "      <td>39553</td>\n",
       "      <td>629.860554</td>\n",
       "      <td>78.0</td>\n",
       "      <td>12.0</td>\n",
       "      <td>90</td>\n",
       "      <td>720600.0</td>\n",
       "    </tr>\n",
       "    <tr>\n",
       "      <th>125</th>\n",
       "      <td>136953</td>\n",
       "      <td>PG0480</td>\n",
       "      <td>Sukhoi Superjet-100</td>\n",
       "      <td>0.02346</td>\n",
       "      <td>679</td>\n",
       "      <td>EGO</td>\n",
       "      <td>2017-02-27 14:27:00+05:00</td>\n",
       "      <td>0.833333</td>\n",
       "      <td>2017-02-27 15:17:00+05:00</td>\n",
       "      <td>2.0</td>\n",
       "      <td>39553</td>\n",
       "      <td>629.860554</td>\n",
       "      <td>85.0</td>\n",
       "      <td>12.0</td>\n",
       "      <td>97</td>\n",
       "      <td>765300.0</td>\n",
       "    </tr>\n",
       "    <tr>\n",
       "      <th>126</th>\n",
       "      <td>136956</td>\n",
       "      <td>PG0480</td>\n",
       "      <td>Sukhoi Superjet-100</td>\n",
       "      <td>0.02346</td>\n",
       "      <td>679</td>\n",
       "      <td>EGO</td>\n",
       "      <td>2017-02-04 14:33:00+05:00</td>\n",
       "      <td>0.833333</td>\n",
       "      <td>2017-02-04 15:23:00+05:00</td>\n",
       "      <td>2.0</td>\n",
       "      <td>39553</td>\n",
       "      <td>629.860554</td>\n",
       "      <td>85.0</td>\n",
       "      <td>11.0</td>\n",
       "      <td>96</td>\n",
       "      <td>746400.0</td>\n",
       "    </tr>\n",
       "  </tbody>\n",
       "</table>\n",
       "<p>127 rows × 16 columns</p>\n",
       "</div>"
      ],
      "text/plain": [
       "     flight_id flight_no                model  fuel_cons  maintenance  \\\n",
       "0       136119    PG0252       Boeing 737-300    0.02250          520   \n",
       "1       136120    PG0252       Boeing 737-300    0.02250          520   \n",
       "2       136122    PG0252       Boeing 737-300    0.02250          520   \n",
       "3       136130    PG0252       Boeing 737-300    0.02250          520   \n",
       "4       136131    PG0252       Boeing 737-300    0.02250          520   \n",
       "..         ...       ...                  ...        ...          ...   \n",
       "122     136936    PG0480  Sukhoi Superjet-100    0.02346          679   \n",
       "123     136937    PG0480  Sukhoi Superjet-100    0.02346          679   \n",
       "124     136951    PG0480  Sukhoi Superjet-100    0.02346          679   \n",
       "125     136953    PG0480  Sukhoi Superjet-100    0.02346          679   \n",
       "126     136956    PG0480  Sukhoi Superjet-100    0.02346          679   \n",
       "\n",
       "    arrival_airport          actual_departure  duration  \\\n",
       "0               SVO 2017-01-03 15:08:00+05:00  1.683333   \n",
       "1               SVO 2017-02-24 15:07:00+05:00  1.650000   \n",
       "2               SVO 2017-01-08 15:08:00+05:00  1.666667   \n",
       "3               SVO 2017-02-13 15:07:00+05:00  1.650000   \n",
       "4               SVO 2017-01-28 15:07:00+05:00  1.650000   \n",
       "..              ...                       ...       ...   \n",
       "122             EGO 2017-01-02 14:28:00+05:00  0.833333   \n",
       "123             EGO 2017-01-03 14:29:00+05:00  0.833333   \n",
       "124             EGO 2017-02-02 14:28:00+05:00  0.816667   \n",
       "125             EGO 2017-02-27 14:27:00+05:00  0.833333   \n",
       "126             EGO 2017-02-04 14:33:00+05:00  0.833333   \n",
       "\n",
       "               actual_arrival  month_n  fuel_price     distance  economy  \\\n",
       "0   2017-01-03 16:49:00+05:00      1.0       41435  1219.872758    102.0   \n",
       "1   2017-02-24 16:46:00+05:00      2.0       39553  1219.872758     98.0   \n",
       "2   2017-01-08 16:48:00+05:00      1.0       41435  1219.872758     87.0   \n",
       "3   2017-02-13 16:46:00+05:00      2.0       39553  1219.872758     97.0   \n",
       "4   2017-01-28 16:46:00+05:00      1.0       41435  1219.872758    112.0   \n",
       "..                        ...      ...         ...          ...      ...   \n",
       "122 2017-01-02 15:18:00+05:00      1.0       41435   629.860554     73.0   \n",
       "123 2017-01-03 15:19:00+05:00      1.0       41435   629.860554     72.0   \n",
       "124 2017-02-02 15:17:00+05:00      2.0       39553   629.860554     78.0   \n",
       "125 2017-02-27 15:17:00+05:00      2.0       39553   629.860554     85.0   \n",
       "126 2017-02-04 15:23:00+05:00      2.0       39553   629.860554     85.0   \n",
       "\n",
       "     business  tickets_total    revenue  \n",
       "0        11.0            113  1653000.0  \n",
       "1        11.0            109  1605400.0  \n",
       "2        10.0             97  1431000.0  \n",
       "3        10.0            107  1556600.0  \n",
       "4        12.0            124  1812800.0  \n",
       "..        ...            ...        ...  \n",
       "122       9.0             82   632400.0  \n",
       "123       9.0             81   626100.0  \n",
       "124      12.0             90   720600.0  \n",
       "125      12.0             97   765300.0  \n",
       "126      11.0             96   746400.0  \n",
       "\n",
       "[127 rows x 16 columns]"
      ]
     },
     "metadata": {},
     "output_type": "display_data"
    }
   ],
   "source": [
    "display(df)"
   ]
  },
  {
   "cell_type": "markdown",
   "id": "9ce8fd8a",
   "metadata": {},
   "source": [
    "# Функции обработки столбцов"
   ]
  },
  {
   "cell_type": "code",
   "execution_count": 5,
   "id": "dfd7c77b",
   "metadata": {},
   "outputs": [],
   "source": [
    "# Функция проверки на выбросы\n",
    "def outliers(df, col):\n",
    "    # Межквартильный размах\n",
    "    IQR = df[col].quantile(0.75) - df[col].quantile(0.25)\n",
    "    perc25 = df[col].quantile(0.25)\n",
    "    perc75 = df[col].quantile(0.75)\n",
    "    range_s = df[col].min()  # Границы столбца\n",
    "    range_e = df[col].max()\n",
    "\n",
    "    print(\n",
    "        '25-й перцентиль: {},'.format(perc25),\n",
    "        '75-й перцентиль: {},'.format(perc75),\n",
    "        \"IQR: {}, \".format(IQR),\n",
    "        \"Границы выбросов: [{f}, {l}].\".format(f=perc25 - 1.5*IQR, l=perc75 + 1.5*IQR))\n",
    "\n",
    "    df[col].loc[df[col].between(\n",
    "        perc25 - 1.5*IQR,\n",
    "        perc75 + 1.5*IQR)].hist(bins=16, range=(range_s, range_e), label='В границах выбросов')\n",
    "\n",
    "    df[col].hist(\n",
    "        alpha=0.9, bins=16, range=(range_s, range_e), label='Все значения')\n",
    "\n",
    "    df[col].loc[(df[col] >= (perc25 - 1.5*IQR)) & (df[col] <= (perc75 + 1.5*IQR))].hist(\n",
    "        alpha=0.3, bins=16, range=(range_s, range_e), label='Без выбросов')\n",
    "\n",
    "    plt.legend()\n",
    "    print('Процентное соотношение значений столбца {}'.format(col))\n",
    "    display(df[col].value_counts(normalize=True))\n",
    "\n",
    "#  Функция подсчета уникальных значений и процент пустых значений\n",
    "\n",
    "\n",
    "def uniq_nan(df, col):\n",
    "    print(\"Всего значений {}:\" .format(col), df[col].count())\n",
    "    print(\"Уникальных значений {}:\" .format(col), df[col].nunique())\n",
    "    print(\"Пустых значений {}:\" .format(col),\n",
    "          \"{:.1%}\" .format(df[col].isnull().sum()/len(df)))\n",
    "\n",
    "\n",
    "def get_boxplot(df, col):\n",
    "    fig, ax = plt.subplots(figsize=(14, 4))\n",
    "    sns.boxplot(x=col, y='profit',\n",
    "                data=df.loc[df.loc[:, col].isin(\n",
    "                    df.loc[:, col].value_counts().index[:])],\n",
    "                ax=ax)\n",
    "    plt.xticks(rotation=45)\n",
    "    ax.set_title('Boxplot for ' + col)\n",
    "    plt.show()"
   ]
  },
  {
   "cell_type": "code",
   "execution_count": 6,
   "id": "97e6a56c",
   "metadata": {
    "scrolled": true
   },
   "outputs": [
    {
     "data": {
      "text/plain": [
       "flight_id           0\n",
       "flight_no           0\n",
       "model               0\n",
       "fuel_cons           0\n",
       "maintenance         0\n",
       "arrival_airport     0\n",
       "actual_departure    0\n",
       "duration            0\n",
       "actual_arrival      0\n",
       "month_n             0\n",
       "fuel_price          0\n",
       "distance            0\n",
       "economy             9\n",
       "business            9\n",
       "tickets_total       0\n",
       "revenue             9\n",
       "dtype: int64"
      ]
     },
     "execution_count": 6,
     "metadata": {},
     "output_type": "execute_result"
    }
   ],
   "source": [
    "# Обработка NAN\n",
    "# Посмотрим, сколько пропусков в каждом столбце\n",
    "df.isna().sum()"
   ]
  },
  {
   "cell_type": "code",
   "execution_count": 7,
   "id": "435a8299",
   "metadata": {},
   "outputs": [
    {
     "data": {
      "text/html": [
       "<div>\n",
       "<style scoped>\n",
       "    .dataframe tbody tr th:only-of-type {\n",
       "        vertical-align: middle;\n",
       "    }\n",
       "\n",
       "    .dataframe tbody tr th {\n",
       "        vertical-align: top;\n",
       "    }\n",
       "\n",
       "    .dataframe thead th {\n",
       "        text-align: right;\n",
       "    }\n",
       "</style>\n",
       "<table border=\"1\" class=\"dataframe\">\n",
       "  <thead>\n",
       "    <tr style=\"text-align: right;\">\n",
       "      <th></th>\n",
       "      <th>flight_id</th>\n",
       "      <th>flight_no</th>\n",
       "      <th>model</th>\n",
       "      <th>fuel_cons</th>\n",
       "      <th>maintenance</th>\n",
       "      <th>arrival_airport</th>\n",
       "      <th>actual_departure</th>\n",
       "      <th>duration</th>\n",
       "      <th>actual_arrival</th>\n",
       "      <th>month_n</th>\n",
       "      <th>fuel_price</th>\n",
       "      <th>distance</th>\n",
       "      <th>economy</th>\n",
       "      <th>business</th>\n",
       "      <th>tickets_total</th>\n",
       "      <th>revenue</th>\n",
       "    </tr>\n",
       "  </thead>\n",
       "  <tbody>\n",
       "    <tr>\n",
       "      <th>59</th>\n",
       "      <td>136511</td>\n",
       "      <td>PG0194</td>\n",
       "      <td>Boeing 737-300</td>\n",
       "      <td>0.0225</td>\n",
       "      <td>520</td>\n",
       "      <td>NOZ</td>\n",
       "      <td>2017-02-21 11:15:00+05:00</td>\n",
       "      <td>5.166667</td>\n",
       "      <td>2017-02-21 16:25:00+05:00</td>\n",
       "      <td>2.0</td>\n",
       "      <td>39553</td>\n",
       "      <td>3634.018122</td>\n",
       "      <td>NaN</td>\n",
       "      <td>NaN</td>\n",
       "      <td>0</td>\n",
       "      <td>NaN</td>\n",
       "    </tr>\n",
       "    <tr>\n",
       "      <th>60</th>\n",
       "      <td>136513</td>\n",
       "      <td>PG0194</td>\n",
       "      <td>Boeing 737-300</td>\n",
       "      <td>0.0225</td>\n",
       "      <td>520</td>\n",
       "      <td>NOZ</td>\n",
       "      <td>2017-02-28 11:13:00+05:00</td>\n",
       "      <td>5.166667</td>\n",
       "      <td>2017-02-28 16:23:00+05:00</td>\n",
       "      <td>2.0</td>\n",
       "      <td>39553</td>\n",
       "      <td>3634.018122</td>\n",
       "      <td>NaN</td>\n",
       "      <td>NaN</td>\n",
       "      <td>0</td>\n",
       "      <td>NaN</td>\n",
       "    </tr>\n",
       "    <tr>\n",
       "      <th>61</th>\n",
       "      <td>136514</td>\n",
       "      <td>PG0194</td>\n",
       "      <td>Boeing 737-300</td>\n",
       "      <td>0.0225</td>\n",
       "      <td>520</td>\n",
       "      <td>NOZ</td>\n",
       "      <td>2017-02-07 11:14:00+05:00</td>\n",
       "      <td>4.983333</td>\n",
       "      <td>2017-02-07 16:13:00+05:00</td>\n",
       "      <td>2.0</td>\n",
       "      <td>39553</td>\n",
       "      <td>3634.018122</td>\n",
       "      <td>NaN</td>\n",
       "      <td>NaN</td>\n",
       "      <td>0</td>\n",
       "      <td>NaN</td>\n",
       "    </tr>\n",
       "    <tr>\n",
       "      <th>62</th>\n",
       "      <td>136523</td>\n",
       "      <td>PG0194</td>\n",
       "      <td>Boeing 737-300</td>\n",
       "      <td>0.0225</td>\n",
       "      <td>520</td>\n",
       "      <td>NOZ</td>\n",
       "      <td>2017-01-10 11:14:00+05:00</td>\n",
       "      <td>5.200000</td>\n",
       "      <td>2017-01-10 16:26:00+05:00</td>\n",
       "      <td>1.0</td>\n",
       "      <td>41435</td>\n",
       "      <td>3634.018122</td>\n",
       "      <td>NaN</td>\n",
       "      <td>NaN</td>\n",
       "      <td>0</td>\n",
       "      <td>NaN</td>\n",
       "    </tr>\n",
       "    <tr>\n",
       "      <th>63</th>\n",
       "      <td>136540</td>\n",
       "      <td>PG0194</td>\n",
       "      <td>Boeing 737-300</td>\n",
       "      <td>0.0225</td>\n",
       "      <td>520</td>\n",
       "      <td>NOZ</td>\n",
       "      <td>2017-01-17 11:14:00+05:00</td>\n",
       "      <td>5.116667</td>\n",
       "      <td>2017-01-17 16:21:00+05:00</td>\n",
       "      <td>1.0</td>\n",
       "      <td>41435</td>\n",
       "      <td>3634.018122</td>\n",
       "      <td>NaN</td>\n",
       "      <td>NaN</td>\n",
       "      <td>0</td>\n",
       "      <td>NaN</td>\n",
       "    </tr>\n",
       "    <tr>\n",
       "      <th>64</th>\n",
       "      <td>136544</td>\n",
       "      <td>PG0194</td>\n",
       "      <td>Boeing 737-300</td>\n",
       "      <td>0.0225</td>\n",
       "      <td>520</td>\n",
       "      <td>NOZ</td>\n",
       "      <td>2017-01-31 11:10:00+05:00</td>\n",
       "      <td>5.066667</td>\n",
       "      <td>2017-01-31 16:14:00+05:00</td>\n",
       "      <td>1.0</td>\n",
       "      <td>41435</td>\n",
       "      <td>3634.018122</td>\n",
       "      <td>NaN</td>\n",
       "      <td>NaN</td>\n",
       "      <td>0</td>\n",
       "      <td>NaN</td>\n",
       "    </tr>\n",
       "    <tr>\n",
       "      <th>65</th>\n",
       "      <td>136546</td>\n",
       "      <td>PG0194</td>\n",
       "      <td>Boeing 737-300</td>\n",
       "      <td>0.0225</td>\n",
       "      <td>520</td>\n",
       "      <td>NOZ</td>\n",
       "      <td>2017-01-03 11:13:00+05:00</td>\n",
       "      <td>5.033333</td>\n",
       "      <td>2017-01-03 16:15:00+05:00</td>\n",
       "      <td>1.0</td>\n",
       "      <td>41435</td>\n",
       "      <td>3634.018122</td>\n",
       "      <td>NaN</td>\n",
       "      <td>NaN</td>\n",
       "      <td>0</td>\n",
       "      <td>NaN</td>\n",
       "    </tr>\n",
       "    <tr>\n",
       "      <th>66</th>\n",
       "      <td>136560</td>\n",
       "      <td>PG0194</td>\n",
       "      <td>Boeing 737-300</td>\n",
       "      <td>0.0225</td>\n",
       "      <td>520</td>\n",
       "      <td>NOZ</td>\n",
       "      <td>2017-01-24 11:13:00+05:00</td>\n",
       "      <td>5.083333</td>\n",
       "      <td>2017-01-24 16:18:00+05:00</td>\n",
       "      <td>1.0</td>\n",
       "      <td>41435</td>\n",
       "      <td>3634.018122</td>\n",
       "      <td>NaN</td>\n",
       "      <td>NaN</td>\n",
       "      <td>0</td>\n",
       "      <td>NaN</td>\n",
       "    </tr>\n",
       "    <tr>\n",
       "      <th>67</th>\n",
       "      <td>136567</td>\n",
       "      <td>PG0194</td>\n",
       "      <td>Boeing 737-300</td>\n",
       "      <td>0.0225</td>\n",
       "      <td>520</td>\n",
       "      <td>NOZ</td>\n",
       "      <td>2017-02-14 11:12:00+05:00</td>\n",
       "      <td>5.183333</td>\n",
       "      <td>2017-02-14 16:23:00+05:00</td>\n",
       "      <td>2.0</td>\n",
       "      <td>39553</td>\n",
       "      <td>3634.018122</td>\n",
       "      <td>NaN</td>\n",
       "      <td>NaN</td>\n",
       "      <td>0</td>\n",
       "      <td>NaN</td>\n",
       "    </tr>\n",
       "  </tbody>\n",
       "</table>\n",
       "</div>"
      ],
      "text/plain": [
       "    flight_id flight_no           model  fuel_cons  maintenance  \\\n",
       "59     136511    PG0194  Boeing 737-300     0.0225          520   \n",
       "60     136513    PG0194  Boeing 737-300     0.0225          520   \n",
       "61     136514    PG0194  Boeing 737-300     0.0225          520   \n",
       "62     136523    PG0194  Boeing 737-300     0.0225          520   \n",
       "63     136540    PG0194  Boeing 737-300     0.0225          520   \n",
       "64     136544    PG0194  Boeing 737-300     0.0225          520   \n",
       "65     136546    PG0194  Boeing 737-300     0.0225          520   \n",
       "66     136560    PG0194  Boeing 737-300     0.0225          520   \n",
       "67     136567    PG0194  Boeing 737-300     0.0225          520   \n",
       "\n",
       "   arrival_airport          actual_departure  duration  \\\n",
       "59             NOZ 2017-02-21 11:15:00+05:00  5.166667   \n",
       "60             NOZ 2017-02-28 11:13:00+05:00  5.166667   \n",
       "61             NOZ 2017-02-07 11:14:00+05:00  4.983333   \n",
       "62             NOZ 2017-01-10 11:14:00+05:00  5.200000   \n",
       "63             NOZ 2017-01-17 11:14:00+05:00  5.116667   \n",
       "64             NOZ 2017-01-31 11:10:00+05:00  5.066667   \n",
       "65             NOZ 2017-01-03 11:13:00+05:00  5.033333   \n",
       "66             NOZ 2017-01-24 11:13:00+05:00  5.083333   \n",
       "67             NOZ 2017-02-14 11:12:00+05:00  5.183333   \n",
       "\n",
       "              actual_arrival  month_n  fuel_price     distance  economy  \\\n",
       "59 2017-02-21 16:25:00+05:00      2.0       39553  3634.018122      NaN   \n",
       "60 2017-02-28 16:23:00+05:00      2.0       39553  3634.018122      NaN   \n",
       "61 2017-02-07 16:13:00+05:00      2.0       39553  3634.018122      NaN   \n",
       "62 2017-01-10 16:26:00+05:00      1.0       41435  3634.018122      NaN   \n",
       "63 2017-01-17 16:21:00+05:00      1.0       41435  3634.018122      NaN   \n",
       "64 2017-01-31 16:14:00+05:00      1.0       41435  3634.018122      NaN   \n",
       "65 2017-01-03 16:15:00+05:00      1.0       41435  3634.018122      NaN   \n",
       "66 2017-01-24 16:18:00+05:00      1.0       41435  3634.018122      NaN   \n",
       "67 2017-02-14 16:23:00+05:00      2.0       39553  3634.018122      NaN   \n",
       "\n",
       "    business  tickets_total  revenue  \n",
       "59       NaN              0      NaN  \n",
       "60       NaN              0      NaN  \n",
       "61       NaN              0      NaN  \n",
       "62       NaN              0      NaN  \n",
       "63       NaN              0      NaN  \n",
       "64       NaN              0      NaN  \n",
       "65       NaN              0      NaN  \n",
       "66       NaN              0      NaN  \n",
       "67       NaN              0      NaN  "
      ]
     },
     "execution_count": 7,
     "metadata": {},
     "output_type": "execute_result"
    }
   ],
   "source": [
    "# Поиск пропусков\n",
    "df[df['revenue'].isna()]"
   ]
  },
  {
   "cell_type": "markdown",
   "id": "322c2c06",
   "metadata": {},
   "source": [
    "Данных по Новокузнецку в базе нет, поэтому следует отказаться от анализа рейсов в Новокузнецк.\n",
    "Лишние строки удалим"
   ]
  },
  {
   "cell_type": "code",
   "execution_count": 8,
   "id": "d93a2e69",
   "metadata": {},
   "outputs": [
    {
     "name": "stdout",
     "output_type": "stream",
     "text": [
      "<class 'pandas.core.frame.DataFrame'>\n",
      "Int64Index: 118 entries, 0 to 126\n",
      "Data columns (total 16 columns):\n",
      " #   Column            Non-Null Count  Dtype                                \n",
      "---  ------            --------------  -----                                \n",
      " 0   flight_id         118 non-null    int64                                \n",
      " 1   flight_no         118 non-null    object                               \n",
      " 2   model             118 non-null    object                               \n",
      " 3   fuel_cons         118 non-null    float64                              \n",
      " 4   maintenance       118 non-null    int64                                \n",
      " 5   arrival_airport   118 non-null    object                               \n",
      " 6   actual_departure  118 non-null    datetime64[ns, pytz.FixedOffset(300)]\n",
      " 7   duration          118 non-null    float64                              \n",
      " 8   actual_arrival    118 non-null    datetime64[ns, pytz.FixedOffset(300)]\n",
      " 9   month_n           118 non-null    float64                              \n",
      " 10  fuel_price        118 non-null    int64                                \n",
      " 11  distance          118 non-null    float64                              \n",
      " 12  economy           118 non-null    float64                              \n",
      " 13  business          118 non-null    float64                              \n",
      " 14  tickets_total     118 non-null    int64                                \n",
      " 15  revenue           118 non-null    float64                              \n",
      "dtypes: datetime64[ns, pytz.FixedOffset(300)](2), float64(7), int64(4), object(3)\n",
      "memory usage: 15.7+ KB\n"
     ]
    }
   ],
   "source": [
    "df = df.dropna(axis=0)\n",
    "df.info()"
   ]
  },
  {
   "cell_type": "code",
   "execution_count": 9,
   "id": "3e3aed1e",
   "metadata": {},
   "outputs": [],
   "source": [
    "# Добавим новые признаки"
   ]
  },
  {
   "cell_type": "code",
   "execution_count": 10,
   "id": "f6916131",
   "metadata": {},
   "outputs": [],
   "source": [
    "# Расходы на топливо\n",
    "df['fuel_cost'] = round(df.fuel_cons*df.fuel_price /\n",
    "                        1000*df.distance*df.tickets_total*24.9/100)"
   ]
  },
  {
   "cell_type": "code",
   "execution_count": 11,
   "id": "a39e2752",
   "metadata": {},
   "outputs": [],
   "source": [
    "# Расходы на обслуживание\n",
    "df['maint_cost'] = round(df.maintenance*df.distance)"
   ]
  },
  {
   "cell_type": "code",
   "execution_count": 12,
   "id": "8906d1dc",
   "metadata": {},
   "outputs": [],
   "source": [
    "# Прибыль \n",
    "df['profit'] = df['revenue'] - df['fuel_cost'] - df['maint_cost']"
   ]
  },
  {
   "cell_type": "code",
   "execution_count": 13,
   "id": "983b45e5",
   "metadata": {},
   "outputs": [
    {
     "data": {
      "text/html": [
       "<div>\n",
       "<style scoped>\n",
       "    .dataframe tbody tr th:only-of-type {\n",
       "        vertical-align: middle;\n",
       "    }\n",
       "\n",
       "    .dataframe tbody tr th {\n",
       "        vertical-align: top;\n",
       "    }\n",
       "\n",
       "    .dataframe thead th {\n",
       "        text-align: right;\n",
       "    }\n",
       "</style>\n",
       "<table border=\"1\" class=\"dataframe\">\n",
       "  <thead>\n",
       "    <tr style=\"text-align: right;\">\n",
       "      <th></th>\n",
       "      <th>flight_id</th>\n",
       "      <th>flight_no</th>\n",
       "      <th>model</th>\n",
       "      <th>fuel_cons</th>\n",
       "      <th>maintenance</th>\n",
       "      <th>arrival_airport</th>\n",
       "      <th>actual_departure</th>\n",
       "      <th>duration</th>\n",
       "      <th>...</th>\n",
       "      <th>distance</th>\n",
       "      <th>economy</th>\n",
       "      <th>business</th>\n",
       "      <th>tickets_total</th>\n",
       "      <th>revenue</th>\n",
       "      <th>fuel_cost</th>\n",
       "      <th>maint_cost</th>\n",
       "      <th>profit</th>\n",
       "    </tr>\n",
       "  </thead>\n",
       "  <tbody>\n",
       "    <tr>\n",
       "      <th>0</th>\n",
       "      <td>136119</td>\n",
       "      <td>PG0252</td>\n",
       "      <td>Boeing 737-300</td>\n",
       "      <td>0.0225</td>\n",
       "      <td>520</td>\n",
       "      <td>SVO</td>\n",
       "      <td>2017-01-03 15:08:00+05:00</td>\n",
       "      <td>1.683333</td>\n",
       "      <td>...</td>\n",
       "      <td>1219.872758</td>\n",
       "      <td>102.0</td>\n",
       "      <td>11.0</td>\n",
       "      <td>113</td>\n",
       "      <td>1653000.0</td>\n",
       "      <td>31999.0</td>\n",
       "      <td>634334.0</td>\n",
       "      <td>986667.0</td>\n",
       "    </tr>\n",
       "    <tr>\n",
       "      <th>1</th>\n",
       "      <td>136120</td>\n",
       "      <td>PG0252</td>\n",
       "      <td>Boeing 737-300</td>\n",
       "      <td>0.0225</td>\n",
       "      <td>520</td>\n",
       "      <td>SVO</td>\n",
       "      <td>2017-02-24 15:07:00+05:00</td>\n",
       "      <td>1.650000</td>\n",
       "      <td>...</td>\n",
       "      <td>1219.872758</td>\n",
       "      <td>98.0</td>\n",
       "      <td>11.0</td>\n",
       "      <td>109</td>\n",
       "      <td>1605400.0</td>\n",
       "      <td>29465.0</td>\n",
       "      <td>634334.0</td>\n",
       "      <td>941601.0</td>\n",
       "    </tr>\n",
       "    <tr>\n",
       "      <th>2</th>\n",
       "      <td>136122</td>\n",
       "      <td>PG0252</td>\n",
       "      <td>Boeing 737-300</td>\n",
       "      <td>0.0225</td>\n",
       "      <td>520</td>\n",
       "      <td>SVO</td>\n",
       "      <td>2017-01-08 15:08:00+05:00</td>\n",
       "      <td>1.666667</td>\n",
       "      <td>...</td>\n",
       "      <td>1219.872758</td>\n",
       "      <td>87.0</td>\n",
       "      <td>10.0</td>\n",
       "      <td>97</td>\n",
       "      <td>1431000.0</td>\n",
       "      <td>27469.0</td>\n",
       "      <td>634334.0</td>\n",
       "      <td>769197.0</td>\n",
       "    </tr>\n",
       "    <tr>\n",
       "      <th>3</th>\n",
       "      <td>136130</td>\n",
       "      <td>PG0252</td>\n",
       "      <td>Boeing 737-300</td>\n",
       "      <td>0.0225</td>\n",
       "      <td>520</td>\n",
       "      <td>SVO</td>\n",
       "      <td>2017-02-13 15:07:00+05:00</td>\n",
       "      <td>1.650000</td>\n",
       "      <td>...</td>\n",
       "      <td>1219.872758</td>\n",
       "      <td>97.0</td>\n",
       "      <td>10.0</td>\n",
       "      <td>107</td>\n",
       "      <td>1556600.0</td>\n",
       "      <td>28924.0</td>\n",
       "      <td>634334.0</td>\n",
       "      <td>893342.0</td>\n",
       "    </tr>\n",
       "    <tr>\n",
       "      <th>4</th>\n",
       "      <td>136131</td>\n",
       "      <td>PG0252</td>\n",
       "      <td>Boeing 737-300</td>\n",
       "      <td>0.0225</td>\n",
       "      <td>520</td>\n",
       "      <td>SVO</td>\n",
       "      <td>2017-01-28 15:07:00+05:00</td>\n",
       "      <td>1.650000</td>\n",
       "      <td>...</td>\n",
       "      <td>1219.872758</td>\n",
       "      <td>112.0</td>\n",
       "      <td>12.0</td>\n",
       "      <td>124</td>\n",
       "      <td>1812800.0</td>\n",
       "      <td>35114.0</td>\n",
       "      <td>634334.0</td>\n",
       "      <td>1143352.0</td>\n",
       "    </tr>\n",
       "  </tbody>\n",
       "</table>\n",
       "<p>5 rows × 19 columns</p>\n",
       "</div>"
      ],
      "text/plain": [
       "   flight_id flight_no           model  fuel_cons  maintenance  \\\n",
       "0     136119    PG0252  Boeing 737-300     0.0225          520   \n",
       "1     136120    PG0252  Boeing 737-300     0.0225          520   \n",
       "2     136122    PG0252  Boeing 737-300     0.0225          520   \n",
       "3     136130    PG0252  Boeing 737-300     0.0225          520   \n",
       "4     136131    PG0252  Boeing 737-300     0.0225          520   \n",
       "\n",
       "  arrival_airport          actual_departure  duration  ...     distance  \\\n",
       "0             SVO 2017-01-03 15:08:00+05:00  1.683333  ...  1219.872758   \n",
       "1             SVO 2017-02-24 15:07:00+05:00  1.650000  ...  1219.872758   \n",
       "2             SVO 2017-01-08 15:08:00+05:00  1.666667  ...  1219.872758   \n",
       "3             SVO 2017-02-13 15:07:00+05:00  1.650000  ...  1219.872758   \n",
       "4             SVO 2017-01-28 15:07:00+05:00  1.650000  ...  1219.872758   \n",
       "\n",
       "   economy  business  tickets_total    revenue  fuel_cost  maint_cost  \\\n",
       "0    102.0      11.0            113  1653000.0    31999.0    634334.0   \n",
       "1     98.0      11.0            109  1605400.0    29465.0    634334.0   \n",
       "2     87.0      10.0             97  1431000.0    27469.0    634334.0   \n",
       "3     97.0      10.0            107  1556600.0    28924.0    634334.0   \n",
       "4    112.0      12.0            124  1812800.0    35114.0    634334.0   \n",
       "\n",
       "      profit  \n",
       "0   986667.0  \n",
       "1   941601.0  \n",
       "2   769197.0  \n",
       "3   893342.0  \n",
       "4  1143352.0  \n",
       "\n",
       "[5 rows x 19 columns]"
      ]
     },
     "execution_count": 13,
     "metadata": {},
     "output_type": "execute_result"
    }
   ],
   "source": [
    "df.head(5)"
   ]
  },
  {
   "cell_type": "markdown",
   "id": "a2e6c599",
   "metadata": {},
   "source": [
    "# Корреляционный анализ"
   ]
  },
  {
   "cell_type": "code",
   "execution_count": 14,
   "id": "ebc60f38",
   "metadata": {},
   "outputs": [
    {
     "data": {
      "text/plain": [
       "<AxesSubplot:>"
      ]
     },
     "execution_count": 14,
     "metadata": {},
     "output_type": "execute_result"
    },
    {
     "data": {
      "image/png": "[encoded data removed]",
      "text/plain": [
       "<Figure size 864x720 with 2 Axes>"
      ]
     },
     "metadata": {},
     "output_type": "display_data"
    }
   ],
   "source": [
    "#sns.heatmap(df.corr(), annot=True)\n",
    "\n",
    "# Тепловая карта\n",
    "sns.set(font_scale=1.2)\n",
    "plt.subplots(figsize=(12, 10))\n",
    "sns.heatmap(df.corr(), annot=True, fmt='.2f',\n",
    "            linewidths=0.1, cmap=\"coolwarm\")"
   ]
  },
  {
   "cell_type": "markdown",
   "id": "3534da40",
   "metadata": {},
   "source": [
    "Есть обратная зависимость целевой переменная 'profif', от расходов на топливо и прямая зависимость от длительности полета, расстояния и количества проданных билетов.\n",
    "Причем большую роль играет количество проданных билетов эконом класса."
   ]
  },
  {
   "cell_type": "markdown",
   "id": "f812ccde",
   "metadata": {},
   "source": [
    "# Зависимость прибыли от месяца и рейса "
   ]
  },
  {
   "cell_type": "code",
   "execution_count": 15,
   "id": "23e65c52",
   "metadata": {},
   "outputs": [
    {
     "name": "stdout",
     "output_type": "stream",
     "text": [
      "25-й перцентиль: 304826.75, 75-й перцентиль: 961224.75, IQR: 656398.0,  Границы выбросов: [-679770.25, 1945821.75].\n",
      "Процентное соотношение значений столбца profit\n"
     ]
    },
    {
     "data": {
      "text/plain": [
       "323509.0     0.076271\n",
       "322837.0     0.059322\n",
       "316689.0     0.050847\n",
       "310542.0     0.025424\n",
       "305045.0     0.016949\n",
       "               ...   \n",
       "828849.0     0.008475\n",
       "794845.0     0.008475\n",
       "986667.0     0.008475\n",
       "1168265.0    0.008475\n",
       "304394.0     0.008475\n",
       "Name: profit, Length: 92, dtype: float64"
      ]
     },
     "metadata": {},
     "output_type": "display_data"
    },
    {
     "data": {
      "image/png": "[encoded data removed]",
      "text/plain": [
       "<Figure size 432x288 with 1 Axes>"
      ]
     },
     "metadata": {},
     "output_type": "display_data"
    }
   ],
   "source": [
    "# Распределение целевой переменной\n",
    "outliers(df, 'profit')"
   ]
  },
  {
   "cell_type": "markdown",
   "id": "475f5e46",
   "metadata": {},
   "source": [
    "Прибыль на рейсах до Москвы распределена более равномерно"
   ]
  },
  {
   "cell_type": "code",
   "execution_count": 16,
   "id": "452e528d",
   "metadata": {},
   "outputs": [
    {
     "data": {
      "text/plain": [
       "Text(0.5, 1.0, 'Прибыль по рейсам и по месяцам')"
      ]
     },
     "execution_count": 16,
     "metadata": {},
     "output_type": "execute_result"
    },
    {
     "data": {
      "image/png": "[encoded data removed]",
      "text/plain": [
       "<Figure size 432x288 with 1 Axes>"
      ]
     },
     "metadata": {},
     "output_type": "display_data"
    }
   ],
   "source": [
    "# Прибыль по рейсам и по месяцам\n",
    "fig = plt.figure()\n",
    "ax = fig.add_axes([0, 0, 1, 1])\n",
    "sns.boxplot(x=\"month_n\", y=\"profit\", hue=\"flight_no\",\n",
    "            data=df)\n",
    "ax.set_xlabel('Январь, Февраль')\n",
    "ax.set_ylabel('Прибыль')\n",
    "ax.set_title('Прибыль по рейсам и по месяцам')"
   ]
  },
  {
   "cell_type": "code",
   "execution_count": 17,
   "id": "fa03de06",
   "metadata": {},
   "outputs": [],
   "source": [
    "# Имеет смысл выделить два датасета:\n",
    "# Москва\n",
    "svo = df[df.arrival_airport == \"SVO\"]\n",
    "svo = svo.sort_values('actual_departure')\n",
    "# Белгород\n",
    "ego = df[df.arrival_airport == \"EGO\"]\n",
    "ego = ego.sort_values('actual_departure')"
   ]
  },
  {
   "cell_type": "code",
   "execution_count": 18,
   "id": "65ca9da1",
   "metadata": {},
   "outputs": [
    {
     "name": "stdout",
     "output_type": "stream",
     "text": [
      "В среднем рейсы в Москву прибыльнее,чем в Белгород в 3.6 раза\n"
     ]
    }
   ],
   "source": [
    "k = round(svo.profit.mean()/ego.profit.mean(), 1)\n",
    "print('В среднем рейсы в Москву прибыльнее,чем в Белгород в {}' .format(k),\n",
    "      'раза')"
   ]
  },
  {
   "cell_type": "code",
   "execution_count": 19,
   "id": "cd7cbc7a",
   "metadata": {},
   "outputs": [],
   "source": [
    "# Посмотрим на выбросы по прибыли на рейсах в Белгород в феврале\n",
    "PG0480_2 = df[(df.flight_no == 'PG0480') & (df.month_n ==2) ].copy()"
   ]
  },
  {
   "cell_type": "code",
   "execution_count": 20,
   "id": "cb3a87fa",
   "metadata": {},
   "outputs": [
    {
     "data": {
      "text/plain": [
       "<matplotlib.axes._axes.Axes at 0x1bbdb037fd0>"
      ]
     },
     "execution_count": 20,
     "metadata": {},
     "output_type": "execute_result"
    },
    {
     "data": {
      "image/png": "[encoded data removed]",
      "text/plain": [
       "<Figure size 432x288 with 1 Axes>"
      ]
     },
     "metadata": {},
     "output_type": "display_data"
    }
   ],
   "source": [
    "fig = plt.figure()\n",
    "ax = fig.add_axes([0, 0, 1, 1])\n",
    "sns.boxplot(x=\"month_n\", y=\"profit\", hue=\"flight_no\",\n",
    "            data=PG0480_2)"
   ]
  },
  {
   "cell_type": "code",
   "execution_count": 21,
   "id": "112be734",
   "metadata": {},
   "outputs": [
    {
     "name": "stdout",
     "output_type": "stream",
     "text": [
      "25-й перцентиль: 233614.0, 75-й перцентиль: 323509.0, IQR: 89895.0,  Границы выбросов: [98771.5, 458351.5].\n",
      "Процентное соотношение значений столбца profit\n"
     ]
    },
    {
     "data": {
      "text/plain": [
       "323509.0    0.321429\n",
       "305045.0    0.071429\n",
       "304754.0    0.071429\n",
       "317354.0    0.071429\n",
       "186928.0    0.035714\n",
       "280427.0    0.035714\n",
       "274273.0    0.035714\n",
       "248764.0    0.035714\n",
       "279827.0    0.035714\n",
       "255518.0    0.035714\n",
       "135928.0    0.035714\n",
       "181374.0    0.035714\n",
       "93429.0     0.035714\n",
       "174328.0    0.035714\n",
       "169065.0    0.035714\n",
       "224164.0    0.035714\n",
       "236764.0    0.035714\n",
       "Name: profit, dtype: float64"
      ]
     },
     "metadata": {},
     "output_type": "display_data"
    },
    {
     "data": {
      "image/png": "[encoded data removed]",
      "text/plain": [
       "<Figure size 432x288 with 1 Axes>"
      ]
     },
     "metadata": {},
     "output_type": "display_data"
    }
   ],
   "source": [
    "outliers(PG0480_2, 'profit')"
   ]
  },
  {
   "cell_type": "markdown",
   "id": "003593f6",
   "metadata": {},
   "source": [
    "Прибыль менее 98771.5 считается выбросом"
   ]
  },
  {
   "cell_type": "code",
   "execution_count": 22,
   "id": "cf9bd43a",
   "metadata": {},
   "outputs": [
    {
     "data": {
      "image/png": "[encoded data removed]",
      "text/plain": [
       "<Figure size 1008x288 with 1 Axes>"
      ]
     },
     "metadata": {},
     "output_type": "display_data"
    }
   ],
   "source": [
    "# Зависимость прибыли от модели самолета\n",
    "get_boxplot(df, 'model')"
   ]
  },
  {
   "cell_type": "markdown",
   "id": "2ab09861",
   "metadata": {},
   "source": [
    "Поскольку разные самолеты задействованы на разных рейсах нельзя однозначно сказать что рейсы выполняемые Боингами прибыльнее Суперджетов\n"
   ]
  },
  {
   "cell_type": "markdown",
   "id": "4a2a0847",
   "metadata": {},
   "source": [
    "Распределение средней прибыли по дням недели"
   ]
  },
  {
   "cell_type": "code",
   "execution_count": 23,
   "id": "b6f4f895",
   "metadata": {
    "scrolled": true
   },
   "outputs": [
    {
     "data": {
      "text/plain": [
       "<AxesSubplot:xlabel='day', ylabel='profit'>"
      ]
     },
     "execution_count": 23,
     "metadata": {},
     "output_type": "execute_result"
    },
    {
     "data": {
      "image/png": "[encoded data removed]",
      "text/plain": [
       "<Figure size 432x288 with 1 Axes>"
      ]
     },
     "metadata": {},
     "output_type": "display_data"
    }
   ],
   "source": [
    "# Москва\n",
    "by_day_svo = pd.DataFrame(round(svo.groupby(svo['actual_arrival'].dt.weekday)[\n",
    "                   'profit'].mean(), 2))\n",
    "by_day_svo['day'] = [0,1,2,3,4,5,6]\n",
    "\n",
    "sns.barplot(x='day', y='profit', data=by_day_svo)"
   ]
  },
  {
   "cell_type": "markdown",
   "id": "81b3ef78",
   "metadata": {},
   "source": [
    "Максимальная средняя прибыль по вторникам, минимальная по воскресеньям"
   ]
  },
  {
   "cell_type": "code",
   "execution_count": 24,
   "id": "0b547193",
   "metadata": {},
   "outputs": [
    {
     "data": {
      "text/plain": [
       "<AxesSubplot:xlabel='day', ylabel='profit'>"
      ]
     },
     "execution_count": 24,
     "metadata": {},
     "output_type": "execute_result"
    },
    {
     "data": {
      "image/png": "[encoded data removed]",
      "text/plain": [
       "<Figure size 432x288 with 1 Axes>"
      ]
     },
     "metadata": {},
     "output_type": "display_data"
    }
   ],
   "source": [
    "# Белгород\n",
    "by_day_ego = pd.DataFrame(round(ego.groupby(ego['actual_arrival'].dt.weekday)[\n",
    "                   'profit'].mean(), 2))\n",
    "by_day_ego['day'] = [0,1,2,3,4,5,6]\n",
    "sns.barplot(x='day', y='profit', data=by_day_ego)"
   ]
  },
  {
   "cell_type": "markdown",
   "id": "50192aa7",
   "metadata": {},
   "source": [
    "Максимальная средняя прибыль по средам, минимальная по понедельникам"
   ]
  },
  {
   "cell_type": "markdown",
   "id": "f857939b",
   "metadata": {},
   "source": [
    "## Определим малоприбыльные рейсы"
   ]
  },
  {
   "cell_type": "code",
   "execution_count": 25,
   "id": "c69e26fc",
   "metadata": {},
   "outputs": [
    {
     "data": {
      "text/html": [
       "<div>\n",
       "<style scoped>\n",
       "    .dataframe tbody tr th:only-of-type {\n",
       "        vertical-align: middle;\n",
       "    }\n",
       "\n",
       "    .dataframe tbody tr th {\n",
       "        vertical-align: top;\n",
       "    }\n",
       "\n",
       "    .dataframe thead th {\n",
       "        text-align: right;\n",
       "    }\n",
       "</style>\n",
       "<table border=\"1\" class=\"dataframe\">\n",
       "  <thead>\n",
       "    <tr style=\"text-align: right;\">\n",
       "      <th></th>\n",
       "      <th>flight_id</th>\n",
       "      <th>month_n</th>\n",
       "      <th>tickets_total</th>\n",
       "      <th>revenue</th>\n",
       "      <th>profit</th>\n",
       "    </tr>\n",
       "  </thead>\n",
       "  <tbody>\n",
       "    <tr>\n",
       "      <th>2</th>\n",
       "      <td>136122</td>\n",
       "      <td>1.0</td>\n",
       "      <td>97</td>\n",
       "      <td>1431000.0</td>\n",
       "      <td>769197.0</td>\n",
       "    </tr>\n",
       "    <tr>\n",
       "      <th>21</th>\n",
       "      <td>136250</td>\n",
       "      <td>2.0</td>\n",
       "      <td>99</td>\n",
       "      <td>1407800.0</td>\n",
       "      <td>746704.0</td>\n",
       "    </tr>\n",
       "    <tr>\n",
       "      <th>54</th>\n",
       "      <td>136464</td>\n",
       "      <td>1.0</td>\n",
       "      <td>100</td>\n",
       "      <td>1398000.0</td>\n",
       "      <td>735348.0</td>\n",
       "    </tr>\n",
       "  </tbody>\n",
       "</table>\n",
       "</div>"
      ],
      "text/plain": [
       "    flight_id  month_n  tickets_total    revenue    profit\n",
       "2      136122      1.0             97  1431000.0  769197.0\n",
       "21     136250      2.0             99  1407800.0  746704.0\n",
       "54     136464      1.0            100  1398000.0  735348.0"
      ]
     },
     "execution_count": 25,
     "metadata": {},
     "output_type": "execute_result"
    }
   ],
   "source": [
    "# Москва\n",
    "low_profit_svo = svo[['flight_id', 'month_n',\n",
    "                      'tickets_total', 'revenue', 'profit']].copy()\n",
    "\n",
    "quantile = low_profit_svo.profit.quantile(q=0.05)\n",
    "lpsvo=low_profit_svo[low_profit_svo.profit < quantile].sort_values(\n",
    "    by='profit', ascending=False)\n",
    "lpsvo"
   ]
  },
  {
   "cell_type": "code",
   "execution_count": 26,
   "id": "baabeb50",
   "metadata": {
    "scrolled": true
   },
   "outputs": [
    {
     "data": {
      "text/plain": [
       "<AxesSubplot:xlabel='flight_id', ylabel='profit'>"
      ]
     },
     "execution_count": 26,
     "metadata": {},
     "output_type": "execute_result"
    },
    {
     "data": {
      "image/png": "[encoded data removed]",
      "text/plain": [
       "<Figure size 432x288 with 1 Axes>"
      ]
     },
     "metadata": {},
     "output_type": "display_data"
    }
   ],
   "source": [
    "sns.barplot(x='flight_id', y='profit', data=lpsvo)\n"
   ]
  },
  {
   "cell_type": "code",
   "execution_count": 27,
   "id": "3bbe63de",
   "metadata": {},
   "outputs": [
    {
     "data": {
      "text/html": [
       "<div>\n",
       "<style scoped>\n",
       "    .dataframe tbody tr th:only-of-type {\n",
       "        vertical-align: middle;\n",
       "    }\n",
       "\n",
       "    .dataframe tbody tr th {\n",
       "        vertical-align: top;\n",
       "    }\n",
       "\n",
       "    .dataframe thead th {\n",
       "        text-align: right;\n",
       "    }\n",
       "</style>\n",
       "<table border=\"1\" class=\"dataframe\">\n",
       "  <thead>\n",
       "    <tr style=\"text-align: right;\">\n",
       "      <th></th>\n",
       "      <th>flight_id</th>\n",
       "      <th>month_n</th>\n",
       "      <th>tickets_total</th>\n",
       "      <th>revenue</th>\n",
       "      <th>profit</th>\n",
       "    </tr>\n",
       "  </thead>\n",
       "  <tbody>\n",
       "    <tr>\n",
       "      <th>109</th>\n",
       "      <td>136844</td>\n",
       "      <td>2.0</td>\n",
       "      <td>79</td>\n",
       "      <td>575100.0</td>\n",
       "      <td>135928.0</td>\n",
       "    </tr>\n",
       "    <tr>\n",
       "      <th>77</th>\n",
       "      <td>136642</td>\n",
       "      <td>1.0</td>\n",
       "      <td>64</td>\n",
       "      <td>531000.0</td>\n",
       "      <td>93568.0</td>\n",
       "    </tr>\n",
       "    <tr>\n",
       "      <th>102</th>\n",
       "      <td>136807</td>\n",
       "      <td>2.0</td>\n",
       "      <td>68</td>\n",
       "      <td>531000.0</td>\n",
       "      <td>93429.0</td>\n",
       "    </tr>\n",
       "  </tbody>\n",
       "</table>\n",
       "</div>"
      ],
      "text/plain": [
       "     flight_id  month_n  tickets_total   revenue    profit\n",
       "109     136844      2.0             79  575100.0  135928.0\n",
       "77      136642      1.0             64  531000.0   93568.0\n",
       "102     136807      2.0             68  531000.0   93429.0"
      ]
     },
     "execution_count": 27,
     "metadata": {},
     "output_type": "execute_result"
    }
   ],
   "source": [
    "# Белгород\n",
    "low_profit_ego = ego[['flight_id', 'month_n',\n",
    "                         'tickets_total', 'revenue', 'profit']].copy()\n",
    "\n",
    "quantile = low_profit_ego.profit.quantile(q=0.05)\n",
    "lpego=low_profit_ego[low_profit_ego.profit < quantile].sort_values(\n",
    "    by='profit', ascending=False)\n",
    "lpego"
   ]
  },
  {
   "cell_type": "code",
   "execution_count": 28,
   "id": "9b57e63b",
   "metadata": {},
   "outputs": [
    {
     "data": {
      "text/plain": [
       "<AxesSubplot:xlabel='flight_id', ylabel='profit'>"
      ]
     },
     "execution_count": 28,
     "metadata": {},
     "output_type": "execute_result"
    },
    {
     "data": {
      "image/png": "[encoded data removed]",
      "text/plain": [
       "<Figure size 432x288 with 1 Axes>"
      ]
     },
     "metadata": {},
     "output_type": "display_data"
    }
   ],
   "source": [
    "sns.barplot(x='flight_id', y='profit', data=lpego)"
   ]
  },
  {
   "cell_type": "markdown",
   "id": "0b39b0dd",
   "metadata": {},
   "source": [
    "# Вывод"
   ]
  },
  {
   "cell_type": "code",
   "execution_count": 29,
   "id": "7a54363f",
   "metadata": {},
   "outputs": [
    {
     "data": {
      "text/plain": [
       "2     136122\n",
       "21    136250\n",
       "54    136464\n",
       "Name: flight_id, dtype: int64"
      ]
     },
     "execution_count": 29,
     "metadata": {},
     "output_type": "execute_result"
    }
   ],
   "source": [
    "# Я бы предложил отказаться от следующих рейсов в Москву: \n",
    "lpsvo['flight_id']\n",
    "    "
   ]
  },
  {
   "cell_type": "code",
   "execution_count": 30,
   "id": "aac01c4c",
   "metadata": {},
   "outputs": [
    {
     "data": {
      "text/plain": [
       "750416.33"
      ]
     },
     "execution_count": 30,
     "metadata": {},
     "output_type": "execute_result"
    }
   ],
   "source": [
    "# Средняя прибыль малоприбыльных рейсов в Москву\n",
    "round(lpsvo['profit'].mean(),2)"
   ]
  },
  {
   "cell_type": "code",
   "execution_count": 31,
   "id": "2a35c279",
   "metadata": {},
   "outputs": [
    {
     "data": {
      "text/plain": [
       "976894.44"
      ]
     },
     "execution_count": 31,
     "metadata": {},
     "output_type": "execute_result"
    }
   ],
   "source": [
    "# Средняя прибыль всех рейсов в Москву\n",
    "round(svo['profit'].mean(),2)"
   ]
  },
  {
   "cell_type": "code",
   "execution_count": 32,
   "id": "e704b00e",
   "metadata": {},
   "outputs": [
    {
     "data": {
      "text/plain": [
       "109    136844\n",
       "77     136642\n",
       "102    136807\n",
       "Name: flight_id, dtype: int64"
      ]
     },
     "execution_count": 32,
     "metadata": {},
     "output_type": "execute_result"
    }
   ],
   "source": [
    "# и от таких рейсов в Белгород:\n",
    "lpego['flight_id'] "
   ]
  },
  {
   "cell_type": "code",
   "execution_count": 33,
   "id": "c1b62633",
   "metadata": {},
   "outputs": [
    {
     "data": {
      "text/plain": [
       "107641.67"
      ]
     },
     "execution_count": 33,
     "metadata": {},
     "output_type": "execute_result"
    }
   ],
   "source": [
    "# Средняя прибыль малоприбыльных рейсов в Белгород\n",
    "round(lpego['profit'].mean(),2)"
   ]
  },
  {
   "cell_type": "code",
   "execution_count": 34,
   "id": "794a8fe3",
   "metadata": {},
   "outputs": [
    {
     "data": {
      "text/plain": [
       "269307.29"
      ]
     },
     "execution_count": 34,
     "metadata": {},
     "output_type": "execute_result"
    }
   ],
   "source": [
    "# Средняя прибыль всех рейсов Белгород\n",
    "round(ego['profit'].mean(),2)"
   ]
  },
  {
   "cell_type": "code",
   "execution_count": null,
   "id": "c385ee47",
   "metadata": {},
   "outputs": [],
   "source": []
  }
 ],
 "metadata": {
  "kernelspec": {
   "display_name": "Python 3",
   "language": "python",
   "name": "python3"
  },
  "language_info": {
   "codemirror_mode": {
    "name": "ipython",
    "version": 3
   },
   "file_extension": ".py",
   "mimetype": "text/x-python",
   "name": "python",
   "nbconvert_exporter": "python",
   "pygments_lexer": "ipython3",
   "version": "3.8.8"
  }
 },
 "nbformat": 4,
 "nbformat_minor": 5
}
